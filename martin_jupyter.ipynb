{
 "cells": [
  {
   "cell_type": "code",
   "execution_count": 1,
   "metadata": {},
   "outputs": [
    {
     "name": "stdout",
     "output_type": "stream",
     "text": [
      "5.10.4\n"
     ]
    }
   ],
   "source": [
    "import pandas as pd\n",
    "import json\n",
    "import plotly.express as px\n",
    "from plotly.offline import plot\n",
    "import nbformat\n",
    "print(nbformat.__version__)\n"
   ]
  },
  {
   "cell_type": "code",
   "execution_count": 21,
   "metadata": {},
   "outputs": [
    {
     "name": "stdout",
     "output_type": "stream",
     "text": [
      "31    Veřejná vyhláška ZDŘ-193/2023-509 Obecné obesl...\n",
      "Name: název.cs, dtype: object\n"
     ]
    }
   ],
   "source": [
    "file=\"hackiton/udesky/data/560.jsonld\"\n",
    "df_ciselnik = pd.read_csv(\"hackiton/udesky/data/ciselnik.csv\")\n",
    "# df = pd.read_json(file, lines= True,orient= \"row\")\n",
    "# print(df)\n",
    "with open(file, 'r', encoding='utf-8') as file:\n",
    "    data = json.load(file)\n",
    "\n",
    "# Normalizace JSON dat do DataFrame\n",
    "df = pd.json_normalize(data['informace'])\n",
    "\n",
    "# Zobrazení prvních pár řádků DataFrame\n",
    "cs = df[\"název.cs\"]\n",
    "# print(cs)\n",
    "# df.loc[0].loc[\"název.cs\"]\n",
    "df_usetecky = df_ciselnik[df_ciselnik[\"kraj_name\"] == \"Ústecký kraj\"]\n",
    "# print(df_usetecky)\n",
    "df_vyhlaseni = df[df['název.cs'].str.contains(\"Veřejná vyhláška\", na=False)]\n",
    "df_vyhlaseni = df_vyhlaseni[df_vyhlaseni[\"název.cs\"].str.contains('|'.join(df_usetecky[\"obec_name\"]), na=False)]\n",
    "\n",
    "print(df_vyhlaseni[\"název.cs\"])\n",
    "\n"
   ]
  },
  {
   "cell_type": "code",
   "execution_count": 109,
   "metadata": {},
   "outputs": [
    {
     "name": "stdout",
     "output_type": "stream",
     "text": [
      "   rok_vyvěšení  count\n",
      "0          2022      1\n",
      "1          2023      3\n",
      "2          2024    574\n",
      "   rok_vyvěšení  count\n",
      "0          2022      1\n",
      "1          2023      3\n",
      "2          2024    574\n"
     ]
    },
    {
     "ename": "ValueError",
     "evalue": "Value of 'y' is not the name of a column in 'data_frame'. Expected one of ['název_obce', '2023', '2024'] but received: 2023",
     "output_type": "error",
     "traceback": [
      "\u001b[0;31m---------------------------------------------------------------------------\u001b[0m",
      "\u001b[0;31mValueError\u001b[0m                                Traceback (most recent call last)",
      "Cell \u001b[0;32mIn[109], line 33\u001b[0m\n\u001b[1;32m     27\u001b[0m df2 \u001b[38;5;241m=\u001b[39m pd\u001b[38;5;241m.\u001b[39mDataFrame(data)\n\u001b[1;32m     32\u001b[0m \u001b[38;5;28mprint\u001b[39m(df_count_per_year)\n\u001b[0;32m---> 33\u001b[0m fig \u001b[38;5;241m=\u001b[39m \u001b[43mpx\u001b[49m\u001b[38;5;241;43m.\u001b[39;49m\u001b[43mbar\u001b[49m\u001b[43m(\u001b[49m\u001b[43mdf2\u001b[49m\u001b[43m,\u001b[49m\u001b[43m \u001b[49m\u001b[43mx\u001b[49m\u001b[38;5;241;43m=\u001b[39;49m\u001b[38;5;124;43m\"\u001b[39;49m\u001b[38;5;124;43mnázev_obce\u001b[39;49m\u001b[38;5;124;43m\"\u001b[39;49m\u001b[43m,\u001b[49m\u001b[43m \u001b[49m\u001b[43my\u001b[49m\u001b[38;5;241;43m=\u001b[39;49m\u001b[38;5;241;43m2023\u001b[39;49m\u001b[43m,\u001b[49m\u001b[43m \u001b[49m\u001b[43mtitle\u001b[49m\u001b[38;5;241;43m=\u001b[39;49m\u001b[38;5;124;43m\"\u001b[39;49m\u001b[38;5;124;43mPočet důchodců\u001b[39;49m\u001b[38;5;124;43m\"\u001b[39;49m\u001b[43m)\u001b[49m\n\u001b[1;32m     34\u001b[0m pplot \u001b[38;5;241m=\u001b[39m plot(fig)\n\u001b[1;32m     35\u001b[0m pplot\u001b[38;5;241m.\u001b[39mshow()\n",
      "File \u001b[0;32m~/.local/lib/python3.10/site-packages/plotly/express/_chart_types.py:373\u001b[0m, in \u001b[0;36mbar\u001b[0;34m(data_frame, x, y, color, pattern_shape, facet_row, facet_col, facet_col_wrap, facet_row_spacing, facet_col_spacing, hover_name, hover_data, custom_data, text, base, error_x, error_x_minus, error_y, error_y_minus, animation_frame, animation_group, category_orders, labels, color_discrete_sequence, color_discrete_map, color_continuous_scale, pattern_shape_sequence, pattern_shape_map, range_color, color_continuous_midpoint, opacity, orientation, barmode, log_x, log_y, range_x, range_y, text_auto, title, template, width, height)\u001b[0m\n\u001b[1;32m    325\u001b[0m \u001b[38;5;28;01mdef\u001b[39;00m \u001b[38;5;21mbar\u001b[39m(\n\u001b[1;32m    326\u001b[0m     data_frame\u001b[38;5;241m=\u001b[39m\u001b[38;5;28;01mNone\u001b[39;00m,\n\u001b[1;32m    327\u001b[0m     x\u001b[38;5;241m=\u001b[39m\u001b[38;5;28;01mNone\u001b[39;00m,\n\u001b[0;32m   (...)\u001b[0m\n\u001b[1;32m    367\u001b[0m     height\u001b[38;5;241m=\u001b[39m\u001b[38;5;28;01mNone\u001b[39;00m,\n\u001b[1;32m    368\u001b[0m ) \u001b[38;5;241m-\u001b[39m\u001b[38;5;241m>\u001b[39m go\u001b[38;5;241m.\u001b[39mFigure:\n\u001b[1;32m    369\u001b[0m \u001b[38;5;250m    \u001b[39m\u001b[38;5;124;03m\"\"\"\u001b[39;00m\n\u001b[1;32m    370\u001b[0m \u001b[38;5;124;03m    In a bar plot, each row of `data_frame` is represented as a rectangular\u001b[39;00m\n\u001b[1;32m    371\u001b[0m \u001b[38;5;124;03m    mark.\u001b[39;00m\n\u001b[1;32m    372\u001b[0m \u001b[38;5;124;03m    \"\"\"\u001b[39;00m\n\u001b[0;32m--> 373\u001b[0m     \u001b[38;5;28;01mreturn\u001b[39;00m \u001b[43mmake_figure\u001b[49m\u001b[43m(\u001b[49m\n\u001b[1;32m    374\u001b[0m \u001b[43m        \u001b[49m\u001b[43margs\u001b[49m\u001b[38;5;241;43m=\u001b[39;49m\u001b[38;5;28;43mlocals\u001b[39;49m\u001b[43m(\u001b[49m\u001b[43m)\u001b[49m\u001b[43m,\u001b[49m\n\u001b[1;32m    375\u001b[0m \u001b[43m        \u001b[49m\u001b[43mconstructor\u001b[49m\u001b[38;5;241;43m=\u001b[39;49m\u001b[43mgo\u001b[49m\u001b[38;5;241;43m.\u001b[39;49m\u001b[43mBar\u001b[49m\u001b[43m,\u001b[49m\n\u001b[1;32m    376\u001b[0m \u001b[43m        \u001b[49m\u001b[43mtrace_patch\u001b[49m\u001b[38;5;241;43m=\u001b[39;49m\u001b[38;5;28;43mdict\u001b[39;49m\u001b[43m(\u001b[49m\u001b[43mtextposition\u001b[49m\u001b[38;5;241;43m=\u001b[39;49m\u001b[38;5;124;43m\"\u001b[39;49m\u001b[38;5;124;43mauto\u001b[39;49m\u001b[38;5;124;43m\"\u001b[39;49m\u001b[43m)\u001b[49m\u001b[43m,\u001b[49m\n\u001b[1;32m    377\u001b[0m \u001b[43m        \u001b[49m\u001b[43mlayout_patch\u001b[49m\u001b[38;5;241;43m=\u001b[39;49m\u001b[38;5;28;43mdict\u001b[39;49m\u001b[43m(\u001b[49m\u001b[43mbarmode\u001b[49m\u001b[38;5;241;43m=\u001b[39;49m\u001b[43mbarmode\u001b[49m\u001b[43m)\u001b[49m\u001b[43m,\u001b[49m\n\u001b[1;32m    378\u001b[0m \u001b[43m    \u001b[49m\u001b[43m)\u001b[49m\n",
      "File \u001b[0;32m~/.local/lib/python3.10/site-packages/plotly/express/_core.py:2090\u001b[0m, in \u001b[0;36mmake_figure\u001b[0;34m(args, constructor, trace_patch, layout_patch)\u001b[0m\n\u001b[1;32m   2087\u001b[0m layout_patch \u001b[38;5;241m=\u001b[39m layout_patch \u001b[38;5;129;01mor\u001b[39;00m {}\n\u001b[1;32m   2088\u001b[0m apply_default_cascade(args)\n\u001b[0;32m-> 2090\u001b[0m args \u001b[38;5;241m=\u001b[39m \u001b[43mbuild_dataframe\u001b[49m\u001b[43m(\u001b[49m\u001b[43margs\u001b[49m\u001b[43m,\u001b[49m\u001b[43m \u001b[49m\u001b[43mconstructor\u001b[49m\u001b[43m)\u001b[49m\n\u001b[1;32m   2091\u001b[0m \u001b[38;5;28;01mif\u001b[39;00m constructor \u001b[38;5;129;01min\u001b[39;00m [go\u001b[38;5;241m.\u001b[39mTreemap, go\u001b[38;5;241m.\u001b[39mSunburst, go\u001b[38;5;241m.\u001b[39mIcicle] \u001b[38;5;129;01mand\u001b[39;00m args[\u001b[38;5;124m\"\u001b[39m\u001b[38;5;124mpath\u001b[39m\u001b[38;5;124m\"\u001b[39m] \u001b[38;5;129;01mis\u001b[39;00m \u001b[38;5;129;01mnot\u001b[39;00m \u001b[38;5;28;01mNone\u001b[39;00m:\n\u001b[1;32m   2092\u001b[0m     args \u001b[38;5;241m=\u001b[39m process_dataframe_hierarchy(args)\n",
      "File \u001b[0;32m~/.local/lib/python3.10/site-packages/plotly/express/_core.py:1492\u001b[0m, in \u001b[0;36mbuild_dataframe\u001b[0;34m(args, constructor)\u001b[0m\n\u001b[1;32m   1489\u001b[0m     args[\u001b[38;5;124m\"\u001b[39m\u001b[38;5;124mcolor\u001b[39m\u001b[38;5;124m\"\u001b[39m] \u001b[38;5;241m=\u001b[39m \u001b[38;5;28;01mNone\u001b[39;00m\n\u001b[1;32m   1490\u001b[0m \u001b[38;5;66;03m# now that things have been prepped, we do the systematic rewriting of `args`\u001b[39;00m\n\u001b[0;32m-> 1492\u001b[0m df_output, wide_id_vars \u001b[38;5;241m=\u001b[39m \u001b[43mprocess_args_into_dataframe\u001b[49m\u001b[43m(\u001b[49m\n\u001b[1;32m   1493\u001b[0m \u001b[43m    \u001b[49m\u001b[43margs\u001b[49m\u001b[43m,\u001b[49m\u001b[43m \u001b[49m\u001b[43mwide_mode\u001b[49m\u001b[43m,\u001b[49m\u001b[43m \u001b[49m\u001b[43mvar_name\u001b[49m\u001b[43m,\u001b[49m\u001b[43m \u001b[49m\u001b[43mvalue_name\u001b[49m\n\u001b[1;32m   1494\u001b[0m \u001b[43m\u001b[49m\u001b[43m)\u001b[49m\n\u001b[1;32m   1496\u001b[0m \u001b[38;5;66;03m# now that `df_output` exists and `args` contains only references, we complete\u001b[39;00m\n\u001b[1;32m   1497\u001b[0m \u001b[38;5;66;03m# the special-case and wide-mode handling by further rewriting args and/or mutating\u001b[39;00m\n\u001b[1;32m   1498\u001b[0m \u001b[38;5;66;03m# df_output\u001b[39;00m\n\u001b[1;32m   1500\u001b[0m count_name \u001b[38;5;241m=\u001b[39m _escape_col_name(df_output, \u001b[38;5;124m\"\u001b[39m\u001b[38;5;124mcount\u001b[39m\u001b[38;5;124m\"\u001b[39m, [var_name, value_name])\n",
      "File \u001b[0;32m~/.local/lib/python3.10/site-packages/plotly/express/_core.py:1213\u001b[0m, in \u001b[0;36mprocess_args_into_dataframe\u001b[0;34m(args, wide_mode, var_name, value_name)\u001b[0m\n\u001b[1;32m   1211\u001b[0m         \u001b[38;5;28;01mif\u001b[39;00m argument \u001b[38;5;241m==\u001b[39m \u001b[38;5;124m\"\u001b[39m\u001b[38;5;124mindex\u001b[39m\u001b[38;5;124m\"\u001b[39m:\n\u001b[1;32m   1212\u001b[0m             err_msg \u001b[38;5;241m+\u001b[39m\u001b[38;5;241m=\u001b[39m \u001b[38;5;124m\"\u001b[39m\u001b[38;5;130;01m\\n\u001b[39;00m\u001b[38;5;124m To use the index, pass it in directly as `df.index`.\u001b[39m\u001b[38;5;124m\"\u001b[39m\n\u001b[0;32m-> 1213\u001b[0m         \u001b[38;5;28;01mraise\u001b[39;00m \u001b[38;5;167;01mValueError\u001b[39;00m(err_msg)\n\u001b[1;32m   1214\u001b[0m \u001b[38;5;28;01melif\u001b[39;00m length \u001b[38;5;129;01mand\u001b[39;00m \u001b[38;5;28mlen\u001b[39m(df_input[argument]) \u001b[38;5;241m!=\u001b[39m length:\n\u001b[1;32m   1215\u001b[0m     \u001b[38;5;28;01mraise\u001b[39;00m \u001b[38;5;167;01mValueError\u001b[39;00m(\n\u001b[1;32m   1216\u001b[0m         \u001b[38;5;124m\"\u001b[39m\u001b[38;5;124mAll arguments should have the same length. \u001b[39m\u001b[38;5;124m\"\u001b[39m\n\u001b[1;32m   1217\u001b[0m         \u001b[38;5;124m\"\u001b[39m\u001b[38;5;124mThe length of column argument `df[\u001b[39m\u001b[38;5;132;01m%s\u001b[39;00m\u001b[38;5;124m]` is \u001b[39m\u001b[38;5;132;01m%d\u001b[39;00m\u001b[38;5;124m, whereas the \u001b[39m\u001b[38;5;124m\"\u001b[39m\n\u001b[0;32m   (...)\u001b[0m\n\u001b[1;32m   1224\u001b[0m         )\n\u001b[1;32m   1225\u001b[0m     )\n",
      "\u001b[0;31mValueError\u001b[0m: Value of 'y' is not the name of a column in 'data_frame'. Expected one of ['název_obce', '2023', '2024'] but received: 2023"
     ]
    }
   ],
   "source": [
    "file = \"hackiton/udesky/data/most_soud.jsonld\"\n",
    "with open(file, 'r', encoding='utf-8') as file:\n",
    "    data = json.load(file)\n",
    "\n",
    "# Normalizace JSON dat do DataFrame\n",
    "df = pd.json_normalize(data['informace'])\n",
    "# print(df)\n",
    "df['vyvěšení.datum_a_čas'] = pd.to_datetime(df['vyvěšení.datum_a_čas'])\n",
    "\n",
    "# Extrahování roku a uložení do nového sloupce\n",
    "df['rok_vyvěšení'] = df['vyvěšení.datum_a_čas'].dt.year\n",
    "df[\"count\"] = 1\n",
    "df_count_per_year = df.groupby('rok_vyvěšení').size().reset_index(name='count')\n",
    "\n",
    "# Resetování indexu pro pěknější výstup\n",
    "df_count_per_year.reset_index(drop=True, inplace=True)\n",
    "\n",
    "print(df_count_per_year)\n",
    "data = {\n",
    "    'název_obce': [\"Děčín\"],\n",
    "    # '2023': [df_count_per_year[\"count\"].loc[0]],\n",
    "    # '2024': [df_count_per_year[\"count\"].loc[1]]}\n",
    "     \"2023\": [\"\"], \n",
    "     \"2024\":[\"\"]\n",
    "    }\n",
    "\n",
    "df2 = pd.DataFrame(data)\n",
    "\n",
    "\n",
    "\n",
    "\n",
    "print(df_count_per_year)\n"
   ]
  },
  {
   "cell_type": "code",
   "execution_count": 113,
   "metadata": {},
   "outputs": [
    {
     "name": "stdout",
     "output_type": "stream",
     "text": [
      "hackiton/udesky/data/chomutov_soudy.jsonld\n",
      "no ben\n",
      "2009\n",
      "no ben\n",
      "2012\n",
      "no ben\n",
      "2013\n",
      "no ben\n",
      "2015\n",
      "no ben\n",
      "2017\n",
      "5\n",
      "6\n",
      "7\n",
      "8\n",
      "9\n",
      "10\n",
      "11\n",
      "  nazev_okresu 2018 2019 2020 2021 2022 2023 2024\n",
      "0     chomutov    4    5    3    5    3   27  851\n",
      "hackiton/udesky/data/most_soud.jsonld\n",
      "0\n",
      "1\n",
      "2\n",
      "  nazev_okresu 2018 2019 2020 2021 2022 2023 2024\n",
      "0     chomutov    4    5    3    5    3   27  851\n",
      "1         most  NaN  NaN  NaN  NaN    1    3  574\n",
      "hackiton/udesky/data/soudy_decin.jsonld\n",
      "0\n",
      "1\n",
      "  nazev_okresu 2018 2019 2020 2021 2022 2023 2024\n",
      "0     chomutov    4    5    3    5    3   27  851\n",
      "1         most  NaN  NaN  NaN  NaN    1    3  574\n",
      "2        decin  NaN  NaN  NaN  NaN  NaN    2  501\n",
      "hackiton/udesky/data/usti_soud.jsonld\n",
      "0\n",
      "1\n",
      "2\n",
      "  nazev_okresu 2018 2019 2020 2021 2022 2023 2024\n",
      "0     chomutov    4    5    3    5    3   27  851\n",
      "1         most  NaN  NaN  NaN  NaN    1    3  574\n",
      "2        decin  NaN  NaN  NaN  NaN  NaN    2  501\n",
      "3         usti  NaN    1  NaN  NaN  NaN   33  999\n",
      "<bound method DataFrame.to_string of   nazev_okresu 2018 2019 2020 2021 2022 2023 2024\n",
      "0     chomutov    4    5    3    5    3   27  851\n",
      "1         most  NaN  NaN  NaN  NaN    1    3  574\n",
      "2        decin  NaN  NaN  NaN  NaN  NaN    2  501\n",
      "3         usti  NaN    1  NaN  NaN  NaN   33  999\n",
      "4        louny  NaN  NaN  NaN  NaN  NaN  NaN  NaN\n",
      "5   litomeřice  NaN  NaN  NaN  NaN  NaN  NaN  NaN>\n"
     ]
    },
    {
     "ename": "AttributeError",
     "evalue": "'str' object has no attribute 'show'",
     "output_type": "error",
     "traceback": [
      "\u001b[0;31m---------------------------------------------------------------------------\u001b[0m",
      "\u001b[0;31mAttributeError\u001b[0m                            Traceback (most recent call last)",
      "Cell \u001b[0;32mIn[113], line 63\u001b[0m\n\u001b[1;32m     61\u001b[0m fig \u001b[38;5;241m=\u001b[39m px\u001b[38;5;241m.\u001b[39mbar(df_d, x\u001b[38;5;241m=\u001b[39m\u001b[38;5;124m\"\u001b[39m\u001b[38;5;124mnazev_okresu\u001b[39m\u001b[38;5;124m\"\u001b[39m, y\u001b[38;5;241m=\u001b[39m\u001b[38;5;241m2023\u001b[39m, title\u001b[38;5;241m=\u001b[39m\u001b[38;5;124m\"\u001b[39m\u001b[38;5;124mPočet soudů v rokach\u001b[39m\u001b[38;5;124m\"\u001b[39m)\n\u001b[1;32m     62\u001b[0m pplot \u001b[38;5;241m=\u001b[39m plot(fig)\n\u001b[0;32m---> 63\u001b[0m \u001b[43mpplot\u001b[49m\u001b[38;5;241;43m.\u001b[39;49m\u001b[43mshow\u001b[49m()\n",
      "\u001b[0;31mAttributeError\u001b[0m: 'str' object has no attribute 'show'"
     ]
    }
   ],
   "source": [
    "\n",
    "\n",
    "dta = {\n",
    "    \"nazev_okresu\":[\"\"],\n",
    "    2018:[\"\"],\n",
    "    2019:[\"\"],\n",
    "    2020:[\"\"],\n",
    "    2021:[\"\"],\n",
    "    2022:[\"\"],\n",
    "    2023:[\"\"],\n",
    "    2024:[\"\"]\n",
    "}\n",
    "df_d = pd.DataFrame(dta)\n",
    "chomutov = \"hackiton/udesky/data/chomutov_soudy.jsonld\"\n",
    "most= \"hackiton/udesky/data/most_soud.jsonld\"\n",
    "decin = \"hackiton/udesky/data/soudy_decin.jsonld\"\n",
    "usti = \"hackiton/udesky/data/usti_soud.jsonld\"\n",
    "b=0\n",
    "jmena = [\"chomutov\",\"most\",\"decin\",\"usti\",\"louny\",\"litomeřice\"]\n",
    "listerpister = [chomutov,most,decin,usti,]\n",
    "for x in listerpister:\n",
    "    print(x)\n",
    "    with open(x, 'r', encoding='utf-8') as file:\n",
    "        data = json.load(file)\n",
    "\n",
    "    df = pd.json_normalize(data['informace'])\n",
    "    df['vyvěšení.datum_a_čas'] = pd.to_datetime(df['vyvěšení.datum_a_čas'])\n",
    "\n",
    "\n",
    "    df['rok_vyvěšení'] = df['vyvěšení.datum_a_čas'].dt.year\n",
    "    df[\"count\"] = 1\n",
    "    df_count_per_year = df.groupby('rok_vyvěšení').size().reset_index(name='count')\n",
    "\n",
    "    df_count_per_year.reset_index(drop=True, inplace=True)\n",
    "\n",
    "    df_count_per_year.sort_values(by=[\"rok_vyvěšení\"], ascending=False)\n",
    "    df_d.at[b, \"nazev_okresu\"] = jmena[b]\n",
    "    pocet = df_count_per_year.shape[0]\n",
    "    for i in range(pocet):\n",
    "        if df_count_per_year[\"rok_vyvěšení\"].loc[i] < 2018:\n",
    "            print(\"no ben\")\n",
    "            print(df_count_per_year[\"rok_vyvěšení\"].loc[i])\n",
    "        else:\n",
    "            df_d.at[b,df_count_per_year[\"rok_vyvěšení\"].loc[i]] = df_count_per_year[\"count\"].loc[i]\n",
    "            print(i)\n",
    "    print(df_d)\n",
    "    b += 1\n",
    "for i in range(0,2):\n",
    "      df_d.at[b, \"nazev_okresu\"] = jmena[b]\n",
    "      b+=1\n",
    "\n",
    "# Append the dictionary to the DataFrame\n",
    "# df_d = pd.concat([df_d, pd.DataFrame([new_row])], ignore_index=True)\n",
    "# print(df_d)\n",
    "# x = 0\n",
    "# for i in df_count_per_year[\"rok_vyvěšení\"]:\n",
    "#     try:\n",
    "#         df_d[i].loc[0] = df_count_per_year[\"count\"].loc[x]\n",
    "#     except:\n",
    "#         print(\"gg\")\n",
    "\n",
    "print(df_d.to_string)\n",
    "fig = px.bar(df_d, x=\"nazev_okresu\", y=2023, title=\"Počet soudů v rokach\")\n",
    "pplot = plot(fig)\n",
    "pplot.show()\n"
   ]
  },
  {
   "cell_type": "code",
   "execution_count": 7,
   "metadata": {},
   "outputs": [
    {
     "data": {
      "text/html": [
       "<div>\n",
       "<style scoped>\n",
       "    .dataframe tbody tr th:only-of-type {\n",
       "        vertical-align: middle;\n",
       "    }\n",
       "\n",
       "    .dataframe tbody tr th {\n",
       "        vertical-align: top;\n",
       "    }\n",
       "\n",
       "    .dataframe thead th {\n",
       "        text-align: right;\n",
       "    }\n",
       "</style>\n",
       "<table border=\"1\" class=\"dataframe\">\n",
       "  <thead>\n",
       "    <tr style=\"text-align: right;\">\n",
       "      <th></th>\n",
       "      <th>druh_duchodu_kod</th>\n",
       "      <th>druh_duchodu</th>\n",
       "      <th>pohlavi_kod</th>\n",
       "      <th>pohlavi</th>\n",
       "      <th>referencni_obdobi</th>\n",
       "      <th>referencni_oblast_kod</th>\n",
       "      <th>referencni_oblast</th>\n",
       "      <th>pocet_duchodcu</th>\n",
       "      <th>prumerny_vek</th>\n",
       "      <th>prumerna_vyse_duchodu</th>\n",
       "      <th>rok</th>\n",
       "      <th>real_pocet</th>\n",
       "    </tr>\n",
       "  </thead>\n",
       "  <tbody>\n",
       "    <tr>\n",
       "      <th>58227</th>\n",
       "      <td>PK_SD</td>\n",
       "      <td>Starobní důchod SD</td>\n",
       "      <td>T</td>\n",
       "      <td>Celkem</td>\n",
       "      <td>2009-12-31</td>\n",
       "      <td>ST.1</td>\n",
       "      <td>Česká republika</td>\n",
       "      <td>2896.0</td>\n",
       "      <td>65.0</td>\n",
       "      <td>8433.0</td>\n",
       "      <td>2009</td>\n",
       "      <td>2896000.0</td>\n",
       "    </tr>\n",
       "    <tr>\n",
       "      <th>58329</th>\n",
       "      <td>PK_SD</td>\n",
       "      <td>Starobní důchod SD</td>\n",
       "      <td>T</td>\n",
       "      <td>Celkem</td>\n",
       "      <td>2010-12-31</td>\n",
       "      <td>ST.1</td>\n",
       "      <td>Česká republika</td>\n",
       "      <td>2655.0</td>\n",
       "      <td>66.0</td>\n",
       "      <td>8456.0</td>\n",
       "      <td>2010</td>\n",
       "      <td>2655000.0</td>\n",
       "    </tr>\n",
       "    <tr>\n",
       "      <th>58431</th>\n",
       "      <td>PK_SD</td>\n",
       "      <td>Starobní důchod SD</td>\n",
       "      <td>T</td>\n",
       "      <td>Celkem</td>\n",
       "      <td>2011-12-31</td>\n",
       "      <td>ST.1</td>\n",
       "      <td>Česká republika</td>\n",
       "      <td>2422.0</td>\n",
       "      <td>67.0</td>\n",
       "      <td>8761.0</td>\n",
       "      <td>2011</td>\n",
       "      <td>2422000.0</td>\n",
       "    </tr>\n",
       "    <tr>\n",
       "      <th>58533</th>\n",
       "      <td>PK_SD</td>\n",
       "      <td>Starobní důchod SD</td>\n",
       "      <td>T</td>\n",
       "      <td>Celkem</td>\n",
       "      <td>2012-12-31</td>\n",
       "      <td>ST.1</td>\n",
       "      <td>Česká republika</td>\n",
       "      <td>2232.0</td>\n",
       "      <td>68.0</td>\n",
       "      <td>8934.0</td>\n",
       "      <td>2012</td>\n",
       "      <td>2232000.0</td>\n",
       "    </tr>\n",
       "    <tr>\n",
       "      <th>58635</th>\n",
       "      <td>PK_SD</td>\n",
       "      <td>Starobní důchod SD</td>\n",
       "      <td>T</td>\n",
       "      <td>Celkem</td>\n",
       "      <td>2013-12-31</td>\n",
       "      <td>ST.1</td>\n",
       "      <td>Česká republika</td>\n",
       "      <td>2081.0</td>\n",
       "      <td>69.0</td>\n",
       "      <td>9082.0</td>\n",
       "      <td>2013</td>\n",
       "      <td>2081000.0</td>\n",
       "    </tr>\n",
       "    <tr>\n",
       "      <th>58737</th>\n",
       "      <td>PK_SD</td>\n",
       "      <td>Starobní důchod SD</td>\n",
       "      <td>T</td>\n",
       "      <td>Celkem</td>\n",
       "      <td>2014-12-31</td>\n",
       "      <td>ST.1</td>\n",
       "      <td>Česká republika</td>\n",
       "      <td>1940.0</td>\n",
       "      <td>70.0</td>\n",
       "      <td>9136.0</td>\n",
       "      <td>2014</td>\n",
       "      <td>1940000.0</td>\n",
       "    </tr>\n",
       "    <tr>\n",
       "      <th>58839</th>\n",
       "      <td>PK_SD</td>\n",
       "      <td>Starobní důchod SD</td>\n",
       "      <td>T</td>\n",
       "      <td>Celkem</td>\n",
       "      <td>2015-12-31</td>\n",
       "      <td>ST.1</td>\n",
       "      <td>Česká republika</td>\n",
       "      <td>1791.0</td>\n",
       "      <td>71.0</td>\n",
       "      <td>9326.0</td>\n",
       "      <td>2015</td>\n",
       "      <td>1791000.0</td>\n",
       "    </tr>\n",
       "    <tr>\n",
       "      <th>58941</th>\n",
       "      <td>PK_SD</td>\n",
       "      <td>Starobní důchod SD</td>\n",
       "      <td>T</td>\n",
       "      <td>Celkem</td>\n",
       "      <td>2016-12-31</td>\n",
       "      <td>ST.1</td>\n",
       "      <td>Česká republika</td>\n",
       "      <td>1667.0</td>\n",
       "      <td>72.0</td>\n",
       "      <td>9364.0</td>\n",
       "      <td>2016</td>\n",
       "      <td>1667000.0</td>\n",
       "    </tr>\n",
       "    <tr>\n",
       "      <th>59043</th>\n",
       "      <td>PK_SD</td>\n",
       "      <td>Starobní důchod SD</td>\n",
       "      <td>T</td>\n",
       "      <td>Celkem</td>\n",
       "      <td>2017-12-31</td>\n",
       "      <td>ST.1</td>\n",
       "      <td>Česká republika</td>\n",
       "      <td>1531.0</td>\n",
       "      <td>73.0</td>\n",
       "      <td>9632.0</td>\n",
       "      <td>2017</td>\n",
       "      <td>1531000.0</td>\n",
       "    </tr>\n",
       "    <tr>\n",
       "      <th>59145</th>\n",
       "      <td>PK_SD</td>\n",
       "      <td>Starobní důchod SD</td>\n",
       "      <td>T</td>\n",
       "      <td>Celkem</td>\n",
       "      <td>2018-12-31</td>\n",
       "      <td>ST.1</td>\n",
       "      <td>Česká republika</td>\n",
       "      <td>1408.0</td>\n",
       "      <td>74.0</td>\n",
       "      <td>10066.0</td>\n",
       "      <td>2018</td>\n",
       "      <td>1408000.0</td>\n",
       "    </tr>\n",
       "    <tr>\n",
       "      <th>59247</th>\n",
       "      <td>PK_SD</td>\n",
       "      <td>Starobní důchod SD</td>\n",
       "      <td>T</td>\n",
       "      <td>Celkem</td>\n",
       "      <td>2019-12-31</td>\n",
       "      <td>ST.1</td>\n",
       "      <td>Česká republika</td>\n",
       "      <td>1269.0</td>\n",
       "      <td>75.0</td>\n",
       "      <td>10890.0</td>\n",
       "      <td>2019</td>\n",
       "      <td>1269000.0</td>\n",
       "    </tr>\n",
       "    <tr>\n",
       "      <th>59349</th>\n",
       "      <td>PK_SD</td>\n",
       "      <td>Starobní důchod SD</td>\n",
       "      <td>T</td>\n",
       "      <td>Celkem</td>\n",
       "      <td>2020-12-31</td>\n",
       "      <td>ST.1</td>\n",
       "      <td>Česká republika</td>\n",
       "      <td>1162.0</td>\n",
       "      <td>76.0</td>\n",
       "      <td>11639.0</td>\n",
       "      <td>2020</td>\n",
       "      <td>1162000.0</td>\n",
       "    </tr>\n",
       "    <tr>\n",
       "      <th>59451</th>\n",
       "      <td>PK_SD</td>\n",
       "      <td>Starobní důchod SD</td>\n",
       "      <td>T</td>\n",
       "      <td>Celkem</td>\n",
       "      <td>2021-12-31</td>\n",
       "      <td>ST.1</td>\n",
       "      <td>Česká republika</td>\n",
       "      <td>1028.0</td>\n",
       "      <td>77.0</td>\n",
       "      <td>12331.0</td>\n",
       "      <td>2021</td>\n",
       "      <td>1028000.0</td>\n",
       "    </tr>\n",
       "    <tr>\n",
       "      <th>59553</th>\n",
       "      <td>PK_SD</td>\n",
       "      <td>Starobní důchod SD</td>\n",
       "      <td>T</td>\n",
       "      <td>Celkem</td>\n",
       "      <td>2022-12-31</td>\n",
       "      <td>ST.1</td>\n",
       "      <td>Česká republika</td>\n",
       "      <td>910.0</td>\n",
       "      <td>78.0</td>\n",
       "      <td>14399.0</td>\n",
       "      <td>2022</td>\n",
       "      <td>910000.0</td>\n",
       "    </tr>\n",
       "  </tbody>\n",
       "</table>\n",
       "</div>"
      ],
      "text/plain": [
       "      druh_duchodu_kod        druh_duchodu pohlavi_kod pohlavi  \\\n",
       "58227            PK_SD  Starobní důchod SD           T  Celkem   \n",
       "58329            PK_SD  Starobní důchod SD           T  Celkem   \n",
       "58431            PK_SD  Starobní důchod SD           T  Celkem   \n",
       "58533            PK_SD  Starobní důchod SD           T  Celkem   \n",
       "58635            PK_SD  Starobní důchod SD           T  Celkem   \n",
       "58737            PK_SD  Starobní důchod SD           T  Celkem   \n",
       "58839            PK_SD  Starobní důchod SD           T  Celkem   \n",
       "58941            PK_SD  Starobní důchod SD           T  Celkem   \n",
       "59043            PK_SD  Starobní důchod SD           T  Celkem   \n",
       "59145            PK_SD  Starobní důchod SD           T  Celkem   \n",
       "59247            PK_SD  Starobní důchod SD           T  Celkem   \n",
       "59349            PK_SD  Starobní důchod SD           T  Celkem   \n",
       "59451            PK_SD  Starobní důchod SD           T  Celkem   \n",
       "59553            PK_SD  Starobní důchod SD           T  Celkem   \n",
       "\n",
       "      referencni_obdobi referencni_oblast_kod referencni_oblast  \\\n",
       "58227        2009-12-31                  ST.1   Česká republika   \n",
       "58329        2010-12-31                  ST.1   Česká republika   \n",
       "58431        2011-12-31                  ST.1   Česká republika   \n",
       "58533        2012-12-31                  ST.1   Česká republika   \n",
       "58635        2013-12-31                  ST.1   Česká republika   \n",
       "58737        2014-12-31                  ST.1   Česká republika   \n",
       "58839        2015-12-31                  ST.1   Česká republika   \n",
       "58941        2016-12-31                  ST.1   Česká republika   \n",
       "59043        2017-12-31                  ST.1   Česká republika   \n",
       "59145        2018-12-31                  ST.1   Česká republika   \n",
       "59247        2019-12-31                  ST.1   Česká republika   \n",
       "59349        2020-12-31                  ST.1   Česká republika   \n",
       "59451        2021-12-31                  ST.1   Česká republika   \n",
       "59553        2022-12-31                  ST.1   Česká republika   \n",
       "\n",
       "       pocet_duchodcu  prumerny_vek  prumerna_vyse_duchodu   rok  real_pocet  \n",
       "58227          2896.0          65.0                 8433.0  2009   2896000.0  \n",
       "58329          2655.0          66.0                 8456.0  2010   2655000.0  \n",
       "58431          2422.0          67.0                 8761.0  2011   2422000.0  \n",
       "58533          2232.0          68.0                 8934.0  2012   2232000.0  \n",
       "58635          2081.0          69.0                 9082.0  2013   2081000.0  \n",
       "58737          1940.0          70.0                 9136.0  2014   1940000.0  \n",
       "58839          1791.0          71.0                 9326.0  2015   1791000.0  \n",
       "58941          1667.0          72.0                 9364.0  2016   1667000.0  \n",
       "59043          1531.0          73.0                 9632.0  2017   1531000.0  \n",
       "59145          1408.0          74.0                10066.0  2018   1408000.0  \n",
       "59247          1269.0          75.0                10890.0  2019   1269000.0  \n",
       "59349          1162.0          76.0                11639.0  2020   1162000.0  \n",
       "59451          1028.0          77.0                12331.0  2021   1028000.0  \n",
       "59553           910.0          78.0                14399.0  2022    910000.0  "
      ]
     },
     "execution_count": 7,
     "metadata": {},
     "output_type": "execute_result"
    }
   ],
   "source": [
    "df = pd.read_csv(\"hackiton/udesky/data/duchodci-v-cr-krajich-okresech.csv\")\n",
    "df['referencni_obdobi'] = pd.to_datetime(df['referencni_obdobi'])\n",
    "df['rok'] = df['referencni_obdobi'].dt.year\n",
    "df[\"real_pocet\"] = df[\"pocet_duchodcu\"] *1000\n",
    "df = df[df[\"druh_duchodu\"]==\"Starobní důchod SD\"]\n",
    "\n",
    "\n",
    "df = df[df[\"pohlavi\"] ==\"Celkem\"]\n",
    "df_kraje = df[df['referencni_oblast'].str.contains(\"Kraj|kraj\", na=False)]\n",
    "df_cr = df[df[\"referencni_oblast\"]==\"Česká republika\"]\n",
    "df_cr"
   ]
  },
  {
   "cell_type": "code",
   "execution_count": 8,
   "metadata": {},
   "outputs": [
    {
     "data": {
      "application/vnd.plotly.v1+json": {
       "config": {
        "plotlyServerURL": "https://plot.ly"
       },
       "data": [
        {
         "hovertemplate": "rok=%{x}<br>real_pocet=%{y}<extra></extra>",
         "legendgroup": "",
         "line": {
          "color": "#636efa",
          "dash": "solid"
         },
         "marker": {
          "symbol": "circle"
         },
         "mode": "lines",
         "name": "",
         "orientation": "v",
         "showlegend": false,
         "type": "scatter",
         "x": [
          2009,
          2010,
          2011,
          2012,
          2013,
          2014,
          2015,
          2016,
          2017,
          2018,
          2019,
          2020,
          2021,
          2022
         ],
         "xaxis": "x",
         "y": [
          2896000,
          2655000,
          2422000,
          2232000,
          2081000,
          1940000,
          1791000,
          1667000,
          1531000,
          1408000,
          1269000,
          1162000,
          1028000,
          910000
         ],
         "yaxis": "y"
        }
       ],
       "layout": {
        "legend": {
         "tracegroupgap": 0
        },
        "template": {
         "data": {
          "bar": [
           {
            "error_x": {
             "color": "#2a3f5f"
            },
            "error_y": {
             "color": "#2a3f5f"
            },
            "marker": {
             "line": {
              "color": "#E5ECF6",
              "width": 0.5
             },
             "pattern": {
              "fillmode": "overlay",
              "size": 10,
              "solidity": 0.2
             }
            },
            "type": "bar"
           }
          ],
          "barpolar": [
           {
            "marker": {
             "line": {
              "color": "#E5ECF6",
              "width": 0.5
             },
             "pattern": {
              "fillmode": "overlay",
              "size": 10,
              "solidity": 0.2
             }
            },
            "type": "barpolar"
           }
          ],
          "carpet": [
           {
            "aaxis": {
             "endlinecolor": "#2a3f5f",
             "gridcolor": "white",
             "linecolor": "white",
             "minorgridcolor": "white",
             "startlinecolor": "#2a3f5f"
            },
            "baxis": {
             "endlinecolor": "#2a3f5f",
             "gridcolor": "white",
             "linecolor": "white",
             "minorgridcolor": "white",
             "startlinecolor": "#2a3f5f"
            },
            "type": "carpet"
           }
          ],
          "choropleth": [
           {
            "colorbar": {
             "outlinewidth": 0,
             "ticks": ""
            },
            "type": "choropleth"
           }
          ],
          "contour": [
           {
            "colorbar": {
             "outlinewidth": 0,
             "ticks": ""
            },
            "colorscale": [
             [
              0,
              "#0d0887"
             ],
             [
              0.1111111111111111,
              "#46039f"
             ],
             [
              0.2222222222222222,
              "#7201a8"
             ],
             [
              0.3333333333333333,
              "#9c179e"
             ],
             [
              0.4444444444444444,
              "#bd3786"
             ],
             [
              0.5555555555555556,
              "#d8576b"
             ],
             [
              0.6666666666666666,
              "#ed7953"
             ],
             [
              0.7777777777777778,
              "#fb9f3a"
             ],
             [
              0.8888888888888888,
              "#fdca26"
             ],
             [
              1,
              "#f0f921"
             ]
            ],
            "type": "contour"
           }
          ],
          "contourcarpet": [
           {
            "colorbar": {
             "outlinewidth": 0,
             "ticks": ""
            },
            "type": "contourcarpet"
           }
          ],
          "heatmap": [
           {
            "colorbar": {
             "outlinewidth": 0,
             "ticks": ""
            },
            "colorscale": [
             [
              0,
              "#0d0887"
             ],
             [
              0.1111111111111111,
              "#46039f"
             ],
             [
              0.2222222222222222,
              "#7201a8"
             ],
             [
              0.3333333333333333,
              "#9c179e"
             ],
             [
              0.4444444444444444,
              "#bd3786"
             ],
             [
              0.5555555555555556,
              "#d8576b"
             ],
             [
              0.6666666666666666,
              "#ed7953"
             ],
             [
              0.7777777777777778,
              "#fb9f3a"
             ],
             [
              0.8888888888888888,
              "#fdca26"
             ],
             [
              1,
              "#f0f921"
             ]
            ],
            "type": "heatmap"
           }
          ],
          "heatmapgl": [
           {
            "colorbar": {
             "outlinewidth": 0,
             "ticks": ""
            },
            "colorscale": [
             [
              0,
              "#0d0887"
             ],
             [
              0.1111111111111111,
              "#46039f"
             ],
             [
              0.2222222222222222,
              "#7201a8"
             ],
             [
              0.3333333333333333,
              "#9c179e"
             ],
             [
              0.4444444444444444,
              "#bd3786"
             ],
             [
              0.5555555555555556,
              "#d8576b"
             ],
             [
              0.6666666666666666,
              "#ed7953"
             ],
             [
              0.7777777777777778,
              "#fb9f3a"
             ],
             [
              0.8888888888888888,
              "#fdca26"
             ],
             [
              1,
              "#f0f921"
             ]
            ],
            "type": "heatmapgl"
           }
          ],
          "histogram": [
           {
            "marker": {
             "pattern": {
              "fillmode": "overlay",
              "size": 10,
              "solidity": 0.2
             }
            },
            "type": "histogram"
           }
          ],
          "histogram2d": [
           {
            "colorbar": {
             "outlinewidth": 0,
             "ticks": ""
            },
            "colorscale": [
             [
              0,
              "#0d0887"
             ],
             [
              0.1111111111111111,
              "#46039f"
             ],
             [
              0.2222222222222222,
              "#7201a8"
             ],
             [
              0.3333333333333333,
              "#9c179e"
             ],
             [
              0.4444444444444444,
              "#bd3786"
             ],
             [
              0.5555555555555556,
              "#d8576b"
             ],
             [
              0.6666666666666666,
              "#ed7953"
             ],
             [
              0.7777777777777778,
              "#fb9f3a"
             ],
             [
              0.8888888888888888,
              "#fdca26"
             ],
             [
              1,
              "#f0f921"
             ]
            ],
            "type": "histogram2d"
           }
          ],
          "histogram2dcontour": [
           {
            "colorbar": {
             "outlinewidth": 0,
             "ticks": ""
            },
            "colorscale": [
             [
              0,
              "#0d0887"
             ],
             [
              0.1111111111111111,
              "#46039f"
             ],
             [
              0.2222222222222222,
              "#7201a8"
             ],
             [
              0.3333333333333333,
              "#9c179e"
             ],
             [
              0.4444444444444444,
              "#bd3786"
             ],
             [
              0.5555555555555556,
              "#d8576b"
             ],
             [
              0.6666666666666666,
              "#ed7953"
             ],
             [
              0.7777777777777778,
              "#fb9f3a"
             ],
             [
              0.8888888888888888,
              "#fdca26"
             ],
             [
              1,
              "#f0f921"
             ]
            ],
            "type": "histogram2dcontour"
           }
          ],
          "mesh3d": [
           {
            "colorbar": {
             "outlinewidth": 0,
             "ticks": ""
            },
            "type": "mesh3d"
           }
          ],
          "parcoords": [
           {
            "line": {
             "colorbar": {
              "outlinewidth": 0,
              "ticks": ""
             }
            },
            "type": "parcoords"
           }
          ],
          "pie": [
           {
            "automargin": true,
            "type": "pie"
           }
          ],
          "scatter": [
           {
            "fillpattern": {
             "fillmode": "overlay",
             "size": 10,
             "solidity": 0.2
            },
            "type": "scatter"
           }
          ],
          "scatter3d": [
           {
            "line": {
             "colorbar": {
              "outlinewidth": 0,
              "ticks": ""
             }
            },
            "marker": {
             "colorbar": {
              "outlinewidth": 0,
              "ticks": ""
             }
            },
            "type": "scatter3d"
           }
          ],
          "scattercarpet": [
           {
            "marker": {
             "colorbar": {
              "outlinewidth": 0,
              "ticks": ""
             }
            },
            "type": "scattercarpet"
           }
          ],
          "scattergeo": [
           {
            "marker": {
             "colorbar": {
              "outlinewidth": 0,
              "ticks": ""
             }
            },
            "type": "scattergeo"
           }
          ],
          "scattergl": [
           {
            "marker": {
             "colorbar": {
              "outlinewidth": 0,
              "ticks": ""
             }
            },
            "type": "scattergl"
           }
          ],
          "scattermapbox": [
           {
            "marker": {
             "colorbar": {
              "outlinewidth": 0,
              "ticks": ""
             }
            },
            "type": "scattermapbox"
           }
          ],
          "scatterpolar": [
           {
            "marker": {
             "colorbar": {
              "outlinewidth": 0,
              "ticks": ""
             }
            },
            "type": "scatterpolar"
           }
          ],
          "scatterpolargl": [
           {
            "marker": {
             "colorbar": {
              "outlinewidth": 0,
              "ticks": ""
             }
            },
            "type": "scatterpolargl"
           }
          ],
          "scatterternary": [
           {
            "marker": {
             "colorbar": {
              "outlinewidth": 0,
              "ticks": ""
             }
            },
            "type": "scatterternary"
           }
          ],
          "surface": [
           {
            "colorbar": {
             "outlinewidth": 0,
             "ticks": ""
            },
            "colorscale": [
             [
              0,
              "#0d0887"
             ],
             [
              0.1111111111111111,
              "#46039f"
             ],
             [
              0.2222222222222222,
              "#7201a8"
             ],
             [
              0.3333333333333333,
              "#9c179e"
             ],
             [
              0.4444444444444444,
              "#bd3786"
             ],
             [
              0.5555555555555556,
              "#d8576b"
             ],
             [
              0.6666666666666666,
              "#ed7953"
             ],
             [
              0.7777777777777778,
              "#fb9f3a"
             ],
             [
              0.8888888888888888,
              "#fdca26"
             ],
             [
              1,
              "#f0f921"
             ]
            ],
            "type": "surface"
           }
          ],
          "table": [
           {
            "cells": {
             "fill": {
              "color": "#EBF0F8"
             },
             "line": {
              "color": "white"
             }
            },
            "header": {
             "fill": {
              "color": "#C8D4E3"
             },
             "line": {
              "color": "white"
             }
            },
            "type": "table"
           }
          ]
         },
         "layout": {
          "annotationdefaults": {
           "arrowcolor": "#2a3f5f",
           "arrowhead": 0,
           "arrowwidth": 1
          },
          "autotypenumbers": "strict",
          "coloraxis": {
           "colorbar": {
            "outlinewidth": 0,
            "ticks": ""
           }
          },
          "colorscale": {
           "diverging": [
            [
             0,
             "#8e0152"
            ],
            [
             0.1,
             "#c51b7d"
            ],
            [
             0.2,
             "#de77ae"
            ],
            [
             0.3,
             "#f1b6da"
            ],
            [
             0.4,
             "#fde0ef"
            ],
            [
             0.5,
             "#f7f7f7"
            ],
            [
             0.6,
             "#e6f5d0"
            ],
            [
             0.7,
             "#b8e186"
            ],
            [
             0.8,
             "#7fbc41"
            ],
            [
             0.9,
             "#4d9221"
            ],
            [
             1,
             "#276419"
            ]
           ],
           "sequential": [
            [
             0,
             "#0d0887"
            ],
            [
             0.1111111111111111,
             "#46039f"
            ],
            [
             0.2222222222222222,
             "#7201a8"
            ],
            [
             0.3333333333333333,
             "#9c179e"
            ],
            [
             0.4444444444444444,
             "#bd3786"
            ],
            [
             0.5555555555555556,
             "#d8576b"
            ],
            [
             0.6666666666666666,
             "#ed7953"
            ],
            [
             0.7777777777777778,
             "#fb9f3a"
            ],
            [
             0.8888888888888888,
             "#fdca26"
            ],
            [
             1,
             "#f0f921"
            ]
           ],
           "sequentialminus": [
            [
             0,
             "#0d0887"
            ],
            [
             0.1111111111111111,
             "#46039f"
            ],
            [
             0.2222222222222222,
             "#7201a8"
            ],
            [
             0.3333333333333333,
             "#9c179e"
            ],
            [
             0.4444444444444444,
             "#bd3786"
            ],
            [
             0.5555555555555556,
             "#d8576b"
            ],
            [
             0.6666666666666666,
             "#ed7953"
            ],
            [
             0.7777777777777778,
             "#fb9f3a"
            ],
            [
             0.8888888888888888,
             "#fdca26"
            ],
            [
             1,
             "#f0f921"
            ]
           ]
          },
          "colorway": [
           "#636efa",
           "#EF553B",
           "#00cc96",
           "#ab63fa",
           "#FFA15A",
           "#19d3f3",
           "#FF6692",
           "#B6E880",
           "#FF97FF",
           "#FECB52"
          ],
          "font": {
           "color": "#2a3f5f"
          },
          "geo": {
           "bgcolor": "white",
           "lakecolor": "white",
           "landcolor": "#E5ECF6",
           "showlakes": true,
           "showland": true,
           "subunitcolor": "white"
          },
          "hoverlabel": {
           "align": "left"
          },
          "hovermode": "closest",
          "mapbox": {
           "style": "light"
          },
          "paper_bgcolor": "white",
          "plot_bgcolor": "#E5ECF6",
          "polar": {
           "angularaxis": {
            "gridcolor": "white",
            "linecolor": "white",
            "ticks": ""
           },
           "bgcolor": "#E5ECF6",
           "radialaxis": {
            "gridcolor": "white",
            "linecolor": "white",
            "ticks": ""
           }
          },
          "scene": {
           "xaxis": {
            "backgroundcolor": "#E5ECF6",
            "gridcolor": "white",
            "gridwidth": 2,
            "linecolor": "white",
            "showbackground": true,
            "ticks": "",
            "zerolinecolor": "white"
           },
           "yaxis": {
            "backgroundcolor": "#E5ECF6",
            "gridcolor": "white",
            "gridwidth": 2,
            "linecolor": "white",
            "showbackground": true,
            "ticks": "",
            "zerolinecolor": "white"
           },
           "zaxis": {
            "backgroundcolor": "#E5ECF6",
            "gridcolor": "white",
            "gridwidth": 2,
            "linecolor": "white",
            "showbackground": true,
            "ticks": "",
            "zerolinecolor": "white"
           }
          },
          "shapedefaults": {
           "line": {
            "color": "#2a3f5f"
           }
          },
          "ternary": {
           "aaxis": {
            "gridcolor": "white",
            "linecolor": "white",
            "ticks": ""
           },
           "baxis": {
            "gridcolor": "white",
            "linecolor": "white",
            "ticks": ""
           },
           "bgcolor": "#E5ECF6",
           "caxis": {
            "gridcolor": "white",
            "linecolor": "white",
            "ticks": ""
           }
          },
          "title": {
           "x": 0.05
          },
          "xaxis": {
           "automargin": true,
           "gridcolor": "white",
           "linecolor": "white",
           "ticks": "",
           "title": {
            "standoff": 15
           },
           "zerolinecolor": "white",
           "zerolinewidth": 2
          },
          "yaxis": {
           "automargin": true,
           "gridcolor": "white",
           "linecolor": "white",
           "ticks": "",
           "title": {
            "standoff": 15
           },
           "zerolinecolor": "white",
           "zerolinewidth": 2
          }
         }
        },
        "title": {
         "text": "Life expectancy in Canada"
        },
        "xaxis": {
         "anchor": "y",
         "domain": [
          0,
          1
         ],
         "title": {
          "text": "rok"
         }
        },
        "yaxis": {
         "anchor": "x",
         "domain": [
          0,
          1
         ],
         "title": {
          "text": "real_pocet"
         }
        }
       }
      }
     },
     "metadata": {},
     "output_type": "display_data"
    }
   ],
   "source": [
    "# fig = px.line(df_cr, x=\"rok\", y=\"real_pocet\", title='Life expectancy in Canada')\n",
    "fig = px.treemap(df_cr, path=['rok', 'prumerna_vyse_duchodu'], values='value')\n",
    "fig.show()\n",
    "\n"
   ]
  }
 ],
 "metadata": {
  "kernelspec": {
   "display_name": "venv",
   "language": "python",
   "name": "python3"
  },
  "language_info": {
   "codemirror_mode": {
    "name": "ipython",
    "version": 3
   },
   "file_extension": ".py",
   "mimetype": "text/x-python",
   "name": "python",
   "nbconvert_exporter": "python",
   "pygments_lexer": "ipython3",
   "version": "3.10.12"
  }
 },
 "nbformat": 4,
 "nbformat_minor": 2
}
