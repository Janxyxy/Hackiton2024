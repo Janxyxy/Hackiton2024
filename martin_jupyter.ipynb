{
 "cells": [
  {
   "cell_type": "code",
   "execution_count": 1,
   "metadata": {},
   "outputs": [
    {
     "name": "stdout",
     "output_type": "stream",
     "text": [
      "5.10.4\n"
     ]
    }
   ],
   "source": [
    "import pandas as pd\n",
    "import json\n",
    "import plotly.express as px\n",
    "from plotly.offline import plot\n",
    "import nbformat\n",
    "print(nbformat.__version__)\n"
   ]
  },
  {
   "cell_type": "code",
   "execution_count": 21,
   "metadata": {},
   "outputs": [
    {
     "name": "stdout",
     "output_type": "stream",
     "text": [
      "31    Veřejná vyhláška ZDŘ-193/2023-509 Obecné obesl...\n",
      "Name: název.cs, dtype: object\n"
     ]
    }
   ],
   "source": [
    "file=\"hackiton/udesky/data/560.jsonld\"\n",
    "df_ciselnik = pd.read_csv(\"hackiton/udesky/data/ciselnik.csv\")\n",
    "# df = pd.read_json(file, lines= True,orient= \"row\")\n",
    "# print(df)\n",
    "with open(file, 'r', encoding='utf-8') as file:\n",
    "    data = json.load(file)\n",
    "\n",
    "# Normalizace JSON dat do DataFrame\n",
    "df = pd.json_normalize(data['informace'])\n",
    "\n",
    "# Zobrazení prvních pár řádků DataFrame\n",
    "cs = df[\"název.cs\"]\n",
    "# print(cs)\n",
    "# df.loc[0].loc[\"název.cs\"]\n",
    "df_usetecky = df_ciselnik[df_ciselnik[\"kraj_name\"] == \"Ústecký kraj\"]\n",
    "# print(df_usetecky)\n",
    "df_vyhlaseni = df[df['název.cs'].str.contains(\"Veřejná vyhláška\", na=False)]\n",
    "df_vyhlaseni = df_vyhlaseni[df_vyhlaseni[\"název.cs\"].str.contains('|'.join(df_usetecky[\"obec_name\"]), na=False)]\n",
    "\n",
    "print(df_vyhlaseni[\"název.cs\"])\n",
    "\n"
   ]
  },
  {
   "cell_type": "code",
   "execution_count": 109,
   "metadata": {},
   "outputs": [
    {
     "name": "stdout",
     "output_type": "stream",
     "text": [
      "   rok_vyvěšení  count\n",
      "0          2022      1\n",
      "1          2023      3\n",
      "2          2024    574\n",
      "   rok_vyvěšení  count\n",
      "0          2022      1\n",
      "1          2023      3\n",
      "2          2024    574\n"
     ]
    },
    {
     "ename": "ValueError",
     "evalue": "Value of 'y' is not the name of a column in 'data_frame'. Expected one of ['název_obce', '2023', '2024'] but received: 2023",
     "output_type": "error",
     "traceback": [
      "\u001b[0;31m---------------------------------------------------------------------------\u001b[0m",
      "\u001b[0;31mValueError\u001b[0m                                Traceback (most recent call last)",
      "Cell \u001b[0;32mIn[109], line 33\u001b[0m\n\u001b[1;32m     27\u001b[0m df2 \u001b[38;5;241m=\u001b[39m pd\u001b[38;5;241m.\u001b[39mDataFrame(data)\n\u001b[1;32m     32\u001b[0m \u001b[38;5;28mprint\u001b[39m(df_count_per_year)\n\u001b[0;32m---> 33\u001b[0m fig \u001b[38;5;241m=\u001b[39m \u001b[43mpx\u001b[49m\u001b[38;5;241;43m.\u001b[39;49m\u001b[43mbar\u001b[49m\u001b[43m(\u001b[49m\u001b[43mdf2\u001b[49m\u001b[43m,\u001b[49m\u001b[43m \u001b[49m\u001b[43mx\u001b[49m\u001b[38;5;241;43m=\u001b[39;49m\u001b[38;5;124;43m\"\u001b[39;49m\u001b[38;5;124;43mnázev_obce\u001b[39;49m\u001b[38;5;124;43m\"\u001b[39;49m\u001b[43m,\u001b[49m\u001b[43m \u001b[49m\u001b[43my\u001b[49m\u001b[38;5;241;43m=\u001b[39;49m\u001b[38;5;241;43m2023\u001b[39;49m\u001b[43m,\u001b[49m\u001b[43m \u001b[49m\u001b[43mtitle\u001b[49m\u001b[38;5;241;43m=\u001b[39;49m\u001b[38;5;124;43m\"\u001b[39;49m\u001b[38;5;124;43mPočet důchodců\u001b[39;49m\u001b[38;5;124;43m\"\u001b[39;49m\u001b[43m)\u001b[49m\n\u001b[1;32m     34\u001b[0m pplot \u001b[38;5;241m=\u001b[39m plot(fig)\n\u001b[1;32m     35\u001b[0m pplot\u001b[38;5;241m.\u001b[39mshow()\n",
      "File \u001b[0;32m~/.local/lib/python3.10/site-packages/plotly/express/_chart_types.py:373\u001b[0m, in \u001b[0;36mbar\u001b[0;34m(data_frame, x, y, color, pattern_shape, facet_row, facet_col, facet_col_wrap, facet_row_spacing, facet_col_spacing, hover_name, hover_data, custom_data, text, base, error_x, error_x_minus, error_y, error_y_minus, animation_frame, animation_group, category_orders, labels, color_discrete_sequence, color_discrete_map, color_continuous_scale, pattern_shape_sequence, pattern_shape_map, range_color, color_continuous_midpoint, opacity, orientation, barmode, log_x, log_y, range_x, range_y, text_auto, title, template, width, height)\u001b[0m\n\u001b[1;32m    325\u001b[0m \u001b[38;5;28;01mdef\u001b[39;00m \u001b[38;5;21mbar\u001b[39m(\n\u001b[1;32m    326\u001b[0m     data_frame\u001b[38;5;241m=\u001b[39m\u001b[38;5;28;01mNone\u001b[39;00m,\n\u001b[1;32m    327\u001b[0m     x\u001b[38;5;241m=\u001b[39m\u001b[38;5;28;01mNone\u001b[39;00m,\n\u001b[0;32m   (...)\u001b[0m\n\u001b[1;32m    367\u001b[0m     height\u001b[38;5;241m=\u001b[39m\u001b[38;5;28;01mNone\u001b[39;00m,\n\u001b[1;32m    368\u001b[0m ) \u001b[38;5;241m-\u001b[39m\u001b[38;5;241m>\u001b[39m go\u001b[38;5;241m.\u001b[39mFigure:\n\u001b[1;32m    369\u001b[0m \u001b[38;5;250m    \u001b[39m\u001b[38;5;124;03m\"\"\"\u001b[39;00m\n\u001b[1;32m    370\u001b[0m \u001b[38;5;124;03m    In a bar plot, each row of `data_frame` is represented as a rectangular\u001b[39;00m\n\u001b[1;32m    371\u001b[0m \u001b[38;5;124;03m    mark.\u001b[39;00m\n\u001b[1;32m    372\u001b[0m \u001b[38;5;124;03m    \"\"\"\u001b[39;00m\n\u001b[0;32m--> 373\u001b[0m     \u001b[38;5;28;01mreturn\u001b[39;00m \u001b[43mmake_figure\u001b[49m\u001b[43m(\u001b[49m\n\u001b[1;32m    374\u001b[0m \u001b[43m        \u001b[49m\u001b[43margs\u001b[49m\u001b[38;5;241;43m=\u001b[39;49m\u001b[38;5;28;43mlocals\u001b[39;49m\u001b[43m(\u001b[49m\u001b[43m)\u001b[49m\u001b[43m,\u001b[49m\n\u001b[1;32m    375\u001b[0m \u001b[43m        \u001b[49m\u001b[43mconstructor\u001b[49m\u001b[38;5;241;43m=\u001b[39;49m\u001b[43mgo\u001b[49m\u001b[38;5;241;43m.\u001b[39;49m\u001b[43mBar\u001b[49m\u001b[43m,\u001b[49m\n\u001b[1;32m    376\u001b[0m \u001b[43m        \u001b[49m\u001b[43mtrace_patch\u001b[49m\u001b[38;5;241;43m=\u001b[39;49m\u001b[38;5;28;43mdict\u001b[39;49m\u001b[43m(\u001b[49m\u001b[43mtextposition\u001b[49m\u001b[38;5;241;43m=\u001b[39;49m\u001b[38;5;124;43m\"\u001b[39;49m\u001b[38;5;124;43mauto\u001b[39;49m\u001b[38;5;124;43m\"\u001b[39;49m\u001b[43m)\u001b[49m\u001b[43m,\u001b[49m\n\u001b[1;32m    377\u001b[0m \u001b[43m        \u001b[49m\u001b[43mlayout_patch\u001b[49m\u001b[38;5;241;43m=\u001b[39;49m\u001b[38;5;28;43mdict\u001b[39;49m\u001b[43m(\u001b[49m\u001b[43mbarmode\u001b[49m\u001b[38;5;241;43m=\u001b[39;49m\u001b[43mbarmode\u001b[49m\u001b[43m)\u001b[49m\u001b[43m,\u001b[49m\n\u001b[1;32m    378\u001b[0m \u001b[43m    \u001b[49m\u001b[43m)\u001b[49m\n",
      "File \u001b[0;32m~/.local/lib/python3.10/site-packages/plotly/express/_core.py:2090\u001b[0m, in \u001b[0;36mmake_figure\u001b[0;34m(args, constructor, trace_patch, layout_patch)\u001b[0m\n\u001b[1;32m   2087\u001b[0m layout_patch \u001b[38;5;241m=\u001b[39m layout_patch \u001b[38;5;129;01mor\u001b[39;00m {}\n\u001b[1;32m   2088\u001b[0m apply_default_cascade(args)\n\u001b[0;32m-> 2090\u001b[0m args \u001b[38;5;241m=\u001b[39m \u001b[43mbuild_dataframe\u001b[49m\u001b[43m(\u001b[49m\u001b[43margs\u001b[49m\u001b[43m,\u001b[49m\u001b[43m \u001b[49m\u001b[43mconstructor\u001b[49m\u001b[43m)\u001b[49m\n\u001b[1;32m   2091\u001b[0m \u001b[38;5;28;01mif\u001b[39;00m constructor \u001b[38;5;129;01min\u001b[39;00m [go\u001b[38;5;241m.\u001b[39mTreemap, go\u001b[38;5;241m.\u001b[39mSunburst, go\u001b[38;5;241m.\u001b[39mIcicle] \u001b[38;5;129;01mand\u001b[39;00m args[\u001b[38;5;124m\"\u001b[39m\u001b[38;5;124mpath\u001b[39m\u001b[38;5;124m\"\u001b[39m] \u001b[38;5;129;01mis\u001b[39;00m \u001b[38;5;129;01mnot\u001b[39;00m \u001b[38;5;28;01mNone\u001b[39;00m:\n\u001b[1;32m   2092\u001b[0m     args \u001b[38;5;241m=\u001b[39m process_dataframe_hierarchy(args)\n",
      "File \u001b[0;32m~/.local/lib/python3.10/site-packages/plotly/express/_core.py:1492\u001b[0m, in \u001b[0;36mbuild_dataframe\u001b[0;34m(args, constructor)\u001b[0m\n\u001b[1;32m   1489\u001b[0m     args[\u001b[38;5;124m\"\u001b[39m\u001b[38;5;124mcolor\u001b[39m\u001b[38;5;124m\"\u001b[39m] \u001b[38;5;241m=\u001b[39m \u001b[38;5;28;01mNone\u001b[39;00m\n\u001b[1;32m   1490\u001b[0m \u001b[38;5;66;03m# now that things have been prepped, we do the systematic rewriting of `args`\u001b[39;00m\n\u001b[0;32m-> 1492\u001b[0m df_output, wide_id_vars \u001b[38;5;241m=\u001b[39m \u001b[43mprocess_args_into_dataframe\u001b[49m\u001b[43m(\u001b[49m\n\u001b[1;32m   1493\u001b[0m \u001b[43m    \u001b[49m\u001b[43margs\u001b[49m\u001b[43m,\u001b[49m\u001b[43m \u001b[49m\u001b[43mwide_mode\u001b[49m\u001b[43m,\u001b[49m\u001b[43m \u001b[49m\u001b[43mvar_name\u001b[49m\u001b[43m,\u001b[49m\u001b[43m \u001b[49m\u001b[43mvalue_name\u001b[49m\n\u001b[1;32m   1494\u001b[0m \u001b[43m\u001b[49m\u001b[43m)\u001b[49m\n\u001b[1;32m   1496\u001b[0m \u001b[38;5;66;03m# now that `df_output` exists and `args` contains only references, we complete\u001b[39;00m\n\u001b[1;32m   1497\u001b[0m \u001b[38;5;66;03m# the special-case and wide-mode handling by further rewriting args and/or mutating\u001b[39;00m\n\u001b[1;32m   1498\u001b[0m \u001b[38;5;66;03m# df_output\u001b[39;00m\n\u001b[1;32m   1500\u001b[0m count_name \u001b[38;5;241m=\u001b[39m _escape_col_name(df_output, \u001b[38;5;124m\"\u001b[39m\u001b[38;5;124mcount\u001b[39m\u001b[38;5;124m\"\u001b[39m, [var_name, value_name])\n",
      "File \u001b[0;32m~/.local/lib/python3.10/site-packages/plotly/express/_core.py:1213\u001b[0m, in \u001b[0;36mprocess_args_into_dataframe\u001b[0;34m(args, wide_mode, var_name, value_name)\u001b[0m\n\u001b[1;32m   1211\u001b[0m         \u001b[38;5;28;01mif\u001b[39;00m argument \u001b[38;5;241m==\u001b[39m \u001b[38;5;124m\"\u001b[39m\u001b[38;5;124mindex\u001b[39m\u001b[38;5;124m\"\u001b[39m:\n\u001b[1;32m   1212\u001b[0m             err_msg \u001b[38;5;241m+\u001b[39m\u001b[38;5;241m=\u001b[39m \u001b[38;5;124m\"\u001b[39m\u001b[38;5;130;01m\\n\u001b[39;00m\u001b[38;5;124m To use the index, pass it in directly as `df.index`.\u001b[39m\u001b[38;5;124m\"\u001b[39m\n\u001b[0;32m-> 1213\u001b[0m         \u001b[38;5;28;01mraise\u001b[39;00m \u001b[38;5;167;01mValueError\u001b[39;00m(err_msg)\n\u001b[1;32m   1214\u001b[0m \u001b[38;5;28;01melif\u001b[39;00m length \u001b[38;5;129;01mand\u001b[39;00m \u001b[38;5;28mlen\u001b[39m(df_input[argument]) \u001b[38;5;241m!=\u001b[39m length:\n\u001b[1;32m   1215\u001b[0m     \u001b[38;5;28;01mraise\u001b[39;00m \u001b[38;5;167;01mValueError\u001b[39;00m(\n\u001b[1;32m   1216\u001b[0m         \u001b[38;5;124m\"\u001b[39m\u001b[38;5;124mAll arguments should have the same length. \u001b[39m\u001b[38;5;124m\"\u001b[39m\n\u001b[1;32m   1217\u001b[0m         \u001b[38;5;124m\"\u001b[39m\u001b[38;5;124mThe length of column argument `df[\u001b[39m\u001b[38;5;132;01m%s\u001b[39;00m\u001b[38;5;124m]` is \u001b[39m\u001b[38;5;132;01m%d\u001b[39;00m\u001b[38;5;124m, whereas the \u001b[39m\u001b[38;5;124m\"\u001b[39m\n\u001b[0;32m   (...)\u001b[0m\n\u001b[1;32m   1224\u001b[0m         )\n\u001b[1;32m   1225\u001b[0m     )\n",
      "\u001b[0;31mValueError\u001b[0m: Value of 'y' is not the name of a column in 'data_frame'. Expected one of ['název_obce', '2023', '2024'] but received: 2023"
     ]
    }
   ],
   "source": [
    "file = \"hackiton/udesky/data/most_soud.jsonld\"\n",
    "with open(file, 'r', encoding='utf-8') as file:\n",
    "    data = json.load(file)\n",
    "\n",
    "# Normalizace JSON dat do DataFrame\n",
    "df = pd.json_normalize(data['informace'])\n",
    "# print(df)\n",
    "df['vyvěšení.datum_a_čas'] = pd.to_datetime(df['vyvěšení.datum_a_čas'])\n",
    "\n",
    "# Extrahování roku a uložení do nového sloupce\n",
    "df['rok_vyvěšení'] = df['vyvěšení.datum_a_čas'].dt.year\n",
    "df[\"count\"] = 1\n",
    "df_count_per_year = df.groupby('rok_vyvěšení').size().reset_index(name='count')\n",
    "\n",
    "# Resetování indexu pro pěknější výstup\n",
    "df_count_per_year.reset_index(drop=True, inplace=True)\n",
    "\n",
    "print(df_count_per_year)\n",
    "data = {\n",
    "    'název_obce': [\"Děčín\"],\n",
    "    # '2023': [df_count_per_year[\"count\"].loc[0]],\n",
    "    # '2024': [df_count_per_year[\"count\"].loc[1]]}\n",
    "     \"2023\": [\"\"], \n",
    "     \"2024\":[\"\"]\n",
    "    }\n",
    "\n",
    "df2 = pd.DataFrame(data)\n",
    "\n",
    "\n",
    "\n",
    "\n",
    "print(df_count_per_year)\n"
   ]
  },
  {
   "cell_type": "code",
   "execution_count": 113,
   "metadata": {},
   "outputs": [
    {
     "name": "stdout",
     "output_type": "stream",
     "text": [
      "hackiton/udesky/data/chomutov_soudy.jsonld\n",
      "no ben\n",
      "2009\n",
      "no ben\n",
      "2012\n",
      "no ben\n",
      "2013\n",
      "no ben\n",
      "2015\n",
      "no ben\n",
      "2017\n",
      "5\n",
      "6\n",
      "7\n",
      "8\n",
      "9\n",
      "10\n",
      "11\n",
      "  nazev_okresu 2018 2019 2020 2021 2022 2023 2024\n",
      "0     chomutov    4    5    3    5    3   27  851\n",
      "hackiton/udesky/data/most_soud.jsonld\n",
      "0\n",
      "1\n",
      "2\n",
      "  nazev_okresu 2018 2019 2020 2021 2022 2023 2024\n",
      "0     chomutov    4    5    3    5    3   27  851\n",
      "1         most  NaN  NaN  NaN  NaN    1    3  574\n",
      "hackiton/udesky/data/soudy_decin.jsonld\n",
      "0\n",
      "1\n",
      "  nazev_okresu 2018 2019 2020 2021 2022 2023 2024\n",
      "0     chomutov    4    5    3    5    3   27  851\n",
      "1         most  NaN  NaN  NaN  NaN    1    3  574\n",
      "2        decin  NaN  NaN  NaN  NaN  NaN    2  501\n",
      "hackiton/udesky/data/usti_soud.jsonld\n",
      "0\n",
      "1\n",
      "2\n",
      "  nazev_okresu 2018 2019 2020 2021 2022 2023 2024\n",
      "0     chomutov    4    5    3    5    3   27  851\n",
      "1         most  NaN  NaN  NaN  NaN    1    3  574\n",
      "2        decin  NaN  NaN  NaN  NaN  NaN    2  501\n",
      "3         usti  NaN    1  NaN  NaN  NaN   33  999\n",
      "<bound method DataFrame.to_string of   nazev_okresu 2018 2019 2020 2021 2022 2023 2024\n",
      "0     chomutov    4    5    3    5    3   27  851\n",
      "1         most  NaN  NaN  NaN  NaN    1    3  574\n",
      "2        decin  NaN  NaN  NaN  NaN  NaN    2  501\n",
      "3         usti  NaN    1  NaN  NaN  NaN   33  999\n",
      "4        louny  NaN  NaN  NaN  NaN  NaN  NaN  NaN\n",
      "5   litomeřice  NaN  NaN  NaN  NaN  NaN  NaN  NaN>\n"
     ]
    },
    {
     "ename": "AttributeError",
     "evalue": "'str' object has no attribute 'show'",
     "output_type": "error",
     "traceback": [
      "\u001b[0;31m---------------------------------------------------------------------------\u001b[0m",
      "\u001b[0;31mAttributeError\u001b[0m                            Traceback (most recent call last)",
      "Cell \u001b[0;32mIn[113], line 63\u001b[0m\n\u001b[1;32m     61\u001b[0m fig \u001b[38;5;241m=\u001b[39m px\u001b[38;5;241m.\u001b[39mbar(df_d, x\u001b[38;5;241m=\u001b[39m\u001b[38;5;124m\"\u001b[39m\u001b[38;5;124mnazev_okresu\u001b[39m\u001b[38;5;124m\"\u001b[39m, y\u001b[38;5;241m=\u001b[39m\u001b[38;5;241m2023\u001b[39m, title\u001b[38;5;241m=\u001b[39m\u001b[38;5;124m\"\u001b[39m\u001b[38;5;124mPočet soudů v rokach\u001b[39m\u001b[38;5;124m\"\u001b[39m)\n\u001b[1;32m     62\u001b[0m pplot \u001b[38;5;241m=\u001b[39m plot(fig)\n\u001b[0;32m---> 63\u001b[0m \u001b[43mpplot\u001b[49m\u001b[38;5;241;43m.\u001b[39;49m\u001b[43mshow\u001b[49m()\n",
      "\u001b[0;31mAttributeError\u001b[0m: 'str' object has no attribute 'show'"
     ]
    }
   ],
   "source": [
    "\n",
    "\n",
    "dta = {\n",
    "    \"nazev_okresu\":[\"\"],\n",
    "    2018:[\"\"],\n",
    "    2019:[\"\"],\n",
    "    2020:[\"\"],\n",
    "    2021:[\"\"],\n",
    "    2022:[\"\"],\n",
    "    2023:[\"\"],\n",
    "    2024:[\"\"]\n",
    "}\n",
    "df_d = pd.DataFrame(dta)\n",
    "chomutov = \"hackiton/udesky/data/chomutov_soudy.jsonld\"\n",
    "most= \"hackiton/udesky/data/most_soud.jsonld\"\n",
    "decin = \"hackiton/udesky/data/soudy_decin.jsonld\"\n",
    "usti = \"hackiton/udesky/data/usti_soud.jsonld\"\n",
    "b=0\n",
    "jmena = [\"chomutov\",\"most\",\"decin\",\"usti\",\"louny\",\"litomeřice\"]\n",
    "listerpister = [chomutov,most,decin,usti,]\n",
    "for x in listerpister:\n",
    "    print(x)\n",
    "    with open(x, 'r', encoding='utf-8') as file:\n",
    "        data = json.load(file)\n",
    "\n",
    "    df = pd.json_normalize(data['informace'])\n",
    "    df['vyvěšení.datum_a_čas'] = pd.to_datetime(df['vyvěšení.datum_a_čas'])\n",
    "\n",
    "\n",
    "    df['rok_vyvěšení'] = df['vyvěšení.datum_a_čas'].dt.year\n",
    "    df[\"count\"] = 1\n",
    "    df_count_per_year = df.groupby('rok_vyvěšení').size().reset_index(name='count')\n",
    "\n",
    "    df_count_per_year.reset_index(drop=True, inplace=True)\n",
    "\n",
    "    df_count_per_year.sort_values(by=[\"rok_vyvěšení\"], ascending=False)\n",
    "    df_d.at[b, \"nazev_okresu\"] = jmena[b]\n",
    "    pocet = df_count_per_year.shape[0]\n",
    "    for i in range(pocet):\n",
    "        if df_count_per_year[\"rok_vyvěšení\"].loc[i] < 2018:\n",
    "            print(\"no ben\")\n",
    "            print(df_count_per_year[\"rok_vyvěšení\"].loc[i])\n",
    "        else:\n",
    "            df_d.at[b,df_count_per_year[\"rok_vyvěšení\"].loc[i]] = df_count_per_year[\"count\"].loc[i]\n",
    "            print(i)\n",
    "    print(df_d)\n",
    "    b += 1\n",
    "for i in range(0,2):\n",
    "      df_d.at[b, \"nazev_okresu\"] = jmena[b]\n",
    "      b+=1\n",
    "\n",
    "# Append the dictionary to the DataFrame\n",
    "# df_d = pd.concat([df_d, pd.DataFrame([new_row])], ignore_index=True)\n",
    "# print(df_d)\n",
    "# x = 0\n",
    "# for i in df_count_per_year[\"rok_vyvěšení\"]:\n",
    "#     try:\n",
    "#         df_d[i].loc[0] = df_count_per_year[\"count\"].loc[x]\n",
    "#     except:\n",
    "#         print(\"gg\")\n",
    "\n",
    "print(df_d.to_string)\n",
    "fig = px.bar(df_d, x=\"nazev_okresu\", y=2023, title=\"Počet soudů v rokach\")\n",
    "pplot = plot(fig)\n",
    "pplot.show()\n"
   ]
  },
  {
   "cell_type": "code",
   "execution_count": 7,
   "metadata": {},
   "outputs": [
    {
     "data": {
      "text/html": [
       "<div>\n",
       "<style scoped>\n",
       "    .dataframe tbody tr th:only-of-type {\n",
       "        vertical-align: middle;\n",
       "    }\n",
       "\n",
       "    .dataframe tbody tr th {\n",
       "        vertical-align: top;\n",
       "    }\n",
       "\n",
       "    .dataframe thead th {\n",
       "        text-align: right;\n",
       "    }\n",
       "</style>\n",
       "<table border=\"1\" class=\"dataframe\">\n",
       "  <thead>\n",
       "    <tr style=\"text-align: right;\">\n",
       "      <th></th>\n",
       "      <th>druh_duchodu_kod</th>\n",
       "      <th>druh_duchodu</th>\n",
       "      <th>pohlavi_kod</th>\n",
       "      <th>pohlavi</th>\n",
       "      <th>referencni_obdobi</th>\n",
       "      <th>referencni_oblast_kod</th>\n",
       "      <th>referencni_oblast</th>\n",
       "      <th>pocet_duchodcu</th>\n",
       "      <th>prumerny_vek</th>\n",
       "      <th>prumerna_vyse_duchodu</th>\n",
       "      <th>rok</th>\n",
       "      <th>real_pocet</th>\n",
       "    </tr>\n",
       "  </thead>\n",
       "  <tbody>\n",
       "    <tr>\n",
       "      <th>58227</th>\n",
       "      <td>PK_SD</td>\n",
       "      <td>Starobní důchod SD</td>\n",
       "      <td>T</td>\n",
       "      <td>Celkem</td>\n",
       "      <td>2009-12-31</td>\n",
       "      <td>ST.1</td>\n",
       "      <td>Česká republika</td>\n",
       "      <td>2896.0</td>\n",
       "      <td>65.0</td>\n",
       "      <td>8433.0</td>\n",
       "      <td>2009</td>\n",
       "      <td>2896000.0</td>\n",
       "    </tr>\n",
       "    <tr>\n",
       "      <th>58329</th>\n",
       "      <td>PK_SD</td>\n",
       "      <td>Starobní důchod SD</td>\n",
       "      <td>T</td>\n",
       "      <td>Celkem</td>\n",
       "      <td>2010-12-31</td>\n",
       "      <td>ST.1</td>\n",
       "      <td>Česká republika</td>\n",
       "      <td>2655.0</td>\n",
       "      <td>66.0</td>\n",
       "      <td>8456.0</td>\n",
       "      <td>2010</td>\n",
       "      <td>2655000.0</td>\n",
       "    </tr>\n",
       "    <tr>\n",
       "      <th>58431</th>\n",
       "      <td>PK_SD</td>\n",
       "      <td>Starobní důchod SD</td>\n",
       "      <td>T</td>\n",
       "      <td>Celkem</td>\n",
       "      <td>2011-12-31</td>\n",
       "      <td>ST.1</td>\n",
       "      <td>Česká republika</td>\n",
       "      <td>2422.0</td>\n",
       "      <td>67.0</td>\n",
       "      <td>8761.0</td>\n",
       "      <td>2011</td>\n",
       "      <td>2422000.0</td>\n",
       "    </tr>\n",
       "    <tr>\n",
       "      <th>58533</th>\n",
       "      <td>PK_SD</td>\n",
       "      <td>Starobní důchod SD</td>\n",
       "      <td>T</td>\n",
       "      <td>Celkem</td>\n",
       "      <td>2012-12-31</td>\n",
       "      <td>ST.1</td>\n",
       "      <td>Česká republika</td>\n",
       "      <td>2232.0</td>\n",
       "      <td>68.0</td>\n",
       "      <td>8934.0</td>\n",
       "      <td>2012</td>\n",
       "      <td>2232000.0</td>\n",
       "    </tr>\n",
       "    <tr>\n",
       "      <th>58635</th>\n",
       "      <td>PK_SD</td>\n",
       "      <td>Starobní důchod SD</td>\n",
       "      <td>T</td>\n",
       "      <td>Celkem</td>\n",
       "      <td>2013-12-31</td>\n",
       "      <td>ST.1</td>\n",
       "      <td>Česká republika</td>\n",
       "      <td>2081.0</td>\n",
       "      <td>69.0</td>\n",
       "      <td>9082.0</td>\n",
       "      <td>2013</td>\n",
       "      <td>2081000.0</td>\n",
       "    </tr>\n",
       "    <tr>\n",
       "      <th>58737</th>\n",
       "      <td>PK_SD</td>\n",
       "      <td>Starobní důchod SD</td>\n",
       "      <td>T</td>\n",
       "      <td>Celkem</td>\n",
       "      <td>2014-12-31</td>\n",
       "      <td>ST.1</td>\n",
       "      <td>Česká republika</td>\n",
       "      <td>1940.0</td>\n",
       "      <td>70.0</td>\n",
       "      <td>9136.0</td>\n",
       "      <td>2014</td>\n",
       "      <td>1940000.0</td>\n",
       "    </tr>\n",
       "    <tr>\n",
       "      <th>58839</th>\n",
       "      <td>PK_SD</td>\n",
       "      <td>Starobní důchod SD</td>\n",
       "      <td>T</td>\n",
       "      <td>Celkem</td>\n",
       "      <td>2015-12-31</td>\n",
       "      <td>ST.1</td>\n",
       "      <td>Česká republika</td>\n",
       "      <td>1791.0</td>\n",
       "      <td>71.0</td>\n",
       "      <td>9326.0</td>\n",
       "      <td>2015</td>\n",
       "      <td>1791000.0</td>\n",
       "    </tr>\n",
       "    <tr>\n",
       "      <th>58941</th>\n",
       "      <td>PK_SD</td>\n",
       "      <td>Starobní důchod SD</td>\n",
       "      <td>T</td>\n",
       "      <td>Celkem</td>\n",
       "      <td>2016-12-31</td>\n",
       "      <td>ST.1</td>\n",
       "      <td>Česká republika</td>\n",
       "      <td>1667.0</td>\n",
       "      <td>72.0</td>\n",
       "      <td>9364.0</td>\n",
       "      <td>2016</td>\n",
       "      <td>1667000.0</td>\n",
       "    </tr>\n",
       "    <tr>\n",
       "      <th>59043</th>\n",
       "      <td>PK_SD</td>\n",
       "      <td>Starobní důchod SD</td>\n",
       "      <td>T</td>\n",
       "      <td>Celkem</td>\n",
       "      <td>2017-12-31</td>\n",
       "      <td>ST.1</td>\n",
       "      <td>Česká republika</td>\n",
       "      <td>1531.0</td>\n",
       "      <td>73.0</td>\n",
       "      <td>9632.0</td>\n",
       "      <td>2017</td>\n",
       "      <td>1531000.0</td>\n",
       "    </tr>\n",
       "    <tr>\n",
       "      <th>59145</th>\n",
       "      <td>PK_SD</td>\n",
       "      <td>Starobní důchod SD</td>\n",
       "      <td>T</td>\n",
       "      <td>Celkem</td>\n",
       "      <td>2018-12-31</td>\n",
       "      <td>ST.1</td>\n",
       "      <td>Česká republika</td>\n",
       "      <td>1408.0</td>\n",
       "      <td>74.0</td>\n",
       "      <td>10066.0</td>\n",
       "      <td>2018</td>\n",
       "      <td>1408000.0</td>\n",
       "    </tr>\n",
       "    <tr>\n",
       "      <th>59247</th>\n",
       "      <td>PK_SD</td>\n",
       "      <td>Starobní důchod SD</td>\n",
       "      <td>T</td>\n",
       "      <td>Celkem</td>\n",
       "      <td>2019-12-31</td>\n",
       "      <td>ST.1</td>\n",
       "      <td>Česká republika</td>\n",
       "      <td>1269.0</td>\n",
       "      <td>75.0</td>\n",
       "      <td>10890.0</td>\n",
       "      <td>2019</td>\n",
       "      <td>1269000.0</td>\n",
       "    </tr>\n",
       "    <tr>\n",
       "      <th>59349</th>\n",
       "      <td>PK_SD</td>\n",
       "      <td>Starobní důchod SD</td>\n",
       "      <td>T</td>\n",
       "      <td>Celkem</td>\n",
       "      <td>2020-12-31</td>\n",
       "      <td>ST.1</td>\n",
       "      <td>Česká republika</td>\n",
       "      <td>1162.0</td>\n",
       "      <td>76.0</td>\n",
       "      <td>11639.0</td>\n",
       "      <td>2020</td>\n",
       "      <td>1162000.0</td>\n",
       "    </tr>\n",
       "    <tr>\n",
       "      <th>59451</th>\n",
       "      <td>PK_SD</td>\n",
       "      <td>Starobní důchod SD</td>\n",
       "      <td>T</td>\n",
       "      <td>Celkem</td>\n",
       "      <td>2021-12-31</td>\n",
       "      <td>ST.1</td>\n",
       "      <td>Česká republika</td>\n",
       "      <td>1028.0</td>\n",
       "      <td>77.0</td>\n",
       "      <td>12331.0</td>\n",
       "      <td>2021</td>\n",
       "      <td>1028000.0</td>\n",
       "    </tr>\n",
       "    <tr>\n",
       "      <th>59553</th>\n",
       "      <td>PK_SD</td>\n",
       "      <td>Starobní důchod SD</td>\n",
       "      <td>T</td>\n",
       "      <td>Celkem</td>\n",
       "      <td>2022-12-31</td>\n",
       "      <td>ST.1</td>\n",
       "      <td>Česká republika</td>\n",
       "      <td>910.0</td>\n",
       "      <td>78.0</td>\n",
       "      <td>14399.0</td>\n",
       "      <td>2022</td>\n",
       "      <td>910000.0</td>\n",
       "    </tr>\n",
       "  </tbody>\n",
       "</table>\n",
       "</div>"
      ],
      "text/plain": [
       "      druh_duchodu_kod        druh_duchodu pohlavi_kod pohlavi  \\\n",
       "58227            PK_SD  Starobní důchod SD           T  Celkem   \n",
       "58329            PK_SD  Starobní důchod SD           T  Celkem   \n",
       "58431            PK_SD  Starobní důchod SD           T  Celkem   \n",
       "58533            PK_SD  Starobní důchod SD           T  Celkem   \n",
       "58635            PK_SD  Starobní důchod SD           T  Celkem   \n",
       "58737            PK_SD  Starobní důchod SD           T  Celkem   \n",
       "58839            PK_SD  Starobní důchod SD           T  Celkem   \n",
       "58941            PK_SD  Starobní důchod SD           T  Celkem   \n",
       "59043            PK_SD  Starobní důchod SD           T  Celkem   \n",
       "59145            PK_SD  Starobní důchod SD           T  Celkem   \n",
       "59247            PK_SD  Starobní důchod SD           T  Celkem   \n",
       "59349            PK_SD  Starobní důchod SD           T  Celkem   \n",
       "59451            PK_SD  Starobní důchod SD           T  Celkem   \n",
       "59553            PK_SD  Starobní důchod SD           T  Celkem   \n",
       "\n",
       "      referencni_obdobi referencni_oblast_kod referencni_oblast  \\\n",
       "58227        2009-12-31                  ST.1   Česká republika   \n",
       "58329        2010-12-31                  ST.1   Česká republika   \n",
       "58431        2011-12-31                  ST.1   Česká republika   \n",
       "58533        2012-12-31                  ST.1   Česká republika   \n",
       "58635        2013-12-31                  ST.1   Česká republika   \n",
       "58737        2014-12-31                  ST.1   Česká republika   \n",
       "58839        2015-12-31                  ST.1   Česká republika   \n",
       "58941        2016-12-31                  ST.1   Česká republika   \n",
       "59043        2017-12-31                  ST.1   Česká republika   \n",
       "59145        2018-12-31                  ST.1   Česká republika   \n",
       "59247        2019-12-31                  ST.1   Česká republika   \n",
       "59349        2020-12-31                  ST.1   Česká republika   \n",
       "59451        2021-12-31                  ST.1   Česká republika   \n",
       "59553        2022-12-31                  ST.1   Česká republika   \n",
       "\n",
       "       pocet_duchodcu  prumerny_vek  prumerna_vyse_duchodu   rok  real_pocet  \n",
       "58227          2896.0          65.0                 8433.0  2009   2896000.0  \n",
       "58329          2655.0          66.0                 8456.0  2010   2655000.0  \n",
       "58431          2422.0          67.0                 8761.0  2011   2422000.0  \n",
       "58533          2232.0          68.0                 8934.0  2012   2232000.0  \n",
       "58635          2081.0          69.0                 9082.0  2013   2081000.0  \n",
       "58737          1940.0          70.0                 9136.0  2014   1940000.0  \n",
       "58839          1791.0          71.0                 9326.0  2015   1791000.0  \n",
       "58941          1667.0          72.0                 9364.0  2016   1667000.0  \n",
       "59043          1531.0          73.0                 9632.0  2017   1531000.0  \n",
       "59145          1408.0          74.0                10066.0  2018   1408000.0  \n",
       "59247          1269.0          75.0                10890.0  2019   1269000.0  \n",
       "59349          1162.0          76.0                11639.0  2020   1162000.0  \n",
       "59451          1028.0          77.0                12331.0  2021   1028000.0  \n",
       "59553           910.0          78.0                14399.0  2022    910000.0  "
      ]
     },
     "execution_count": 7,
     "metadata": {},
     "output_type": "execute_result"
    }
   ],
   "source": [
    "df = pd.read_csv(\"hackiton/udesky/data/duchodci-v-cr-krajich-okresech.csv\")\n",
    "df['referencni_obdobi'] = pd.to_datetime(df['referencni_obdobi'])\n",
    "df['rok'] = df['referencni_obdobi'].dt.year\n",
    "df[\"real_pocet\"] = df[\"pocet_duchodcu\"] *1000\n",
    "df = df[df[\"druh_duchodu\"]==\"Starobní důchod SD\"]\n",
    "\n",
    "\n",
    "df = df[df[\"pohlavi\"] ==\"Celkem\"]\n",
    "df_kraje = df[df['referencni_oblast'].str.contains(\"Kraj|kraj\", na=False)]\n",
    "df_cr = df[df[\"referencni_oblast\"]==\"Česká republika\"]\n",
    "df_cr"
   ]
  },
  {
   "cell_type": "code",
   "execution_count": 14,
   "metadata": {},
   "outputs": [
    {
     "data": {
      "application/vnd.plotly.v1+json": {
       "config": {
        "plotlyServerURL": "https://plot.ly"
       },
       "data": [
        {
         "hovertemplate": "rok=%{x}<br>real_pocet=%{y}<extra></extra>",
         "legendgroup": "",
         "line": {
          "color": "#636efa",
          "dash": "solid"
         },
         "marker": {
          "symbol": "circle"
         },
         "mode": "lines",
         "name": "",
         "orientation": "v",
         "showlegend": false,
         "type": "scatter",
         "x": [
          2009,
          2010,
          2011,
          2012,
          2013,
          2014,
          2015,
          2016,
          2017,
          2018,
          2019,
          2020,
          2021,
          2022
         ],
         "xaxis": "x",
         "y": [
          2896000,
          2655000,
          2422000,
          2232000,
          2081000,
          1940000,
          1791000,
          1667000,
          1531000,
          1408000,
          1269000,
          1162000,
          1028000,
          910000
         ],
         "yaxis": "y"
        }
       ],
       "layout": {
        "legend": {
         "tracegroupgap": 0
        },
        "template": {
         "data": {
          "bar": [
           {
            "error_x": {
             "color": "#2a3f5f"
            },
            "error_y": {
             "color": "#2a3f5f"
            },
            "marker": {
             "line": {
              "color": "#E5ECF6",
              "width": 0.5
             },
             "pattern": {
              "fillmode": "overlay",
              "size": 10,
              "solidity": 0.2
             }
            },
            "type": "bar"
           }
          ],
          "barpolar": [
           {
            "marker": {
             "line": {
              "color": "#E5ECF6",
              "width": 0.5
             },
             "pattern": {
              "fillmode": "overlay",
              "size": 10,
              "solidity": 0.2
             }
            },
            "type": "barpolar"
           }
          ],
          "carpet": [
           {
            "aaxis": {
             "endlinecolor": "#2a3f5f",
             "gridcolor": "white",
             "linecolor": "white",
             "minorgridcolor": "white",
             "startlinecolor": "#2a3f5f"
            },
            "baxis": {
             "endlinecolor": "#2a3f5f",
             "gridcolor": "white",
             "linecolor": "white",
             "minorgridcolor": "white",
             "startlinecolor": "#2a3f5f"
            },
            "type": "carpet"
           }
          ],
          "choropleth": [
           {
            "colorbar": {
             "outlinewidth": 0,
             "ticks": ""
            },
            "type": "choropleth"
           }
          ],
          "contour": [
           {
            "colorbar": {
             "outlinewidth": 0,
             "ticks": ""
            },
            "colorscale": [
             [
              0,
              "#0d0887"
             ],
             [
              0.1111111111111111,
              "#46039f"
             ],
             [
              0.2222222222222222,
              "#7201a8"
             ],
             [
              0.3333333333333333,
              "#9c179e"
             ],
             [
              0.4444444444444444,
              "#bd3786"
             ],
             [
              0.5555555555555556,
              "#d8576b"
             ],
             [
              0.6666666666666666,
              "#ed7953"
             ],
             [
              0.7777777777777778,
              "#fb9f3a"
             ],
             [
              0.8888888888888888,
              "#fdca26"
             ],
             [
              1,
              "#f0f921"
             ]
            ],
            "type": "contour"
           }
          ],
          "contourcarpet": [
           {
            "colorbar": {
             "outlinewidth": 0,
             "ticks": ""
            },
            "type": "contourcarpet"
           }
          ],
          "heatmap": [
           {
            "colorbar": {
             "outlinewidth": 0,
             "ticks": ""
            },
            "colorscale": [
             [
              0,
              "#0d0887"
             ],
             [
              0.1111111111111111,
              "#46039f"
             ],
             [
              0.2222222222222222,
              "#7201a8"
             ],
             [
              0.3333333333333333,
              "#9c179e"
             ],
             [
              0.4444444444444444,
              "#bd3786"
             ],
             [
              0.5555555555555556,
              "#d8576b"
             ],
             [
              0.6666666666666666,
              "#ed7953"
             ],
             [
              0.7777777777777778,
              "#fb9f3a"
             ],
             [
              0.8888888888888888,
              "#fdca26"
             ],
             [
              1,
              "#f0f921"
             ]
            ],
            "type": "heatmap"
           }
          ],
          "heatmapgl": [
           {
            "colorbar": {
             "outlinewidth": 0,
             "ticks": ""
            },
            "colorscale": [
             [
              0,
              "#0d0887"
             ],
             [
              0.1111111111111111,
              "#46039f"
             ],
             [
              0.2222222222222222,
              "#7201a8"
             ],
             [
              0.3333333333333333,
              "#9c179e"
             ],
             [
              0.4444444444444444,
              "#bd3786"
             ],
             [
              0.5555555555555556,
              "#d8576b"
             ],
             [
              0.6666666666666666,
              "#ed7953"
             ],
             [
              0.7777777777777778,
              "#fb9f3a"
             ],
             [
              0.8888888888888888,
              "#fdca26"
             ],
             [
              1,
              "#f0f921"
             ]
            ],
            "type": "heatmapgl"
           }
          ],
          "histogram": [
           {
            "marker": {
             "pattern": {
              "fillmode": "overlay",
              "size": 10,
              "solidity": 0.2
             }
            },
            "type": "histogram"
           }
          ],
          "histogram2d": [
           {
            "colorbar": {
             "outlinewidth": 0,
             "ticks": ""
            },
            "colorscale": [
             [
              0,
              "#0d0887"
             ],
             [
              0.1111111111111111,
              "#46039f"
             ],
             [
              0.2222222222222222,
              "#7201a8"
             ],
             [
              0.3333333333333333,
              "#9c179e"
             ],
             [
              0.4444444444444444,
              "#bd3786"
             ],
             [
              0.5555555555555556,
              "#d8576b"
             ],
             [
              0.6666666666666666,
              "#ed7953"
             ],
             [
              0.7777777777777778,
              "#fb9f3a"
             ],
             [
              0.8888888888888888,
              "#fdca26"
             ],
             [
              1,
              "#f0f921"
             ]
            ],
            "type": "histogram2d"
           }
          ],
          "histogram2dcontour": [
           {
            "colorbar": {
             "outlinewidth": 0,
             "ticks": ""
            },
            "colorscale": [
             [
              0,
              "#0d0887"
             ],
             [
              0.1111111111111111,
              "#46039f"
             ],
             [
              0.2222222222222222,
              "#7201a8"
             ],
             [
              0.3333333333333333,
              "#9c179e"
             ],
             [
              0.4444444444444444,
              "#bd3786"
             ],
             [
              0.5555555555555556,
              "#d8576b"
             ],
             [
              0.6666666666666666,
              "#ed7953"
             ],
             [
              0.7777777777777778,
              "#fb9f3a"
             ],
             [
              0.8888888888888888,
              "#fdca26"
             ],
             [
              1,
              "#f0f921"
             ]
            ],
            "type": "histogram2dcontour"
           }
          ],
          "mesh3d": [
           {
            "colorbar": {
             "outlinewidth": 0,
             "ticks": ""
            },
            "type": "mesh3d"
           }
          ],
          "parcoords": [
           {
            "line": {
             "colorbar": {
              "outlinewidth": 0,
              "ticks": ""
             }
            },
            "type": "parcoords"
           }
          ],
          "pie": [
           {
            "automargin": true,
            "type": "pie"
           }
          ],
          "scatter": [
           {
            "fillpattern": {
             "fillmode": "overlay",
             "size": 10,
             "solidity": 0.2
            },
            "type": "scatter"
           }
          ],
          "scatter3d": [
           {
            "line": {
             "colorbar": {
              "outlinewidth": 0,
              "ticks": ""
             }
            },
            "marker": {
             "colorbar": {
              "outlinewidth": 0,
              "ticks": ""
             }
            },
            "type": "scatter3d"
           }
          ],
          "scattercarpet": [
           {
            "marker": {
             "colorbar": {
              "outlinewidth": 0,
              "ticks": ""
             }
            },
            "type": "scattercarpet"
           }
          ],
          "scattergeo": [
           {
            "marker": {
             "colorbar": {
              "outlinewidth": 0,
              "ticks": ""
             }
            },
            "type": "scattergeo"
           }
          ],
          "scattergl": [
           {
            "marker": {
             "colorbar": {
              "outlinewidth": 0,
              "ticks": ""
             }
            },
            "type": "scattergl"
           }
          ],
          "scattermapbox": [
           {
            "marker": {
             "colorbar": {
              "outlinewidth": 0,
              "ticks": ""
             }
            },
            "type": "scattermapbox"
           }
          ],
          "scatterpolar": [
           {
            "marker": {
             "colorbar": {
              "outlinewidth": 0,
              "ticks": ""
             }
            },
            "type": "scatterpolar"
           }
          ],
          "scatterpolargl": [
           {
            "marker": {
             "colorbar": {
              "outlinewidth": 0,
              "ticks": ""
             }
            },
            "type": "scatterpolargl"
           }
          ],
          "scatterternary": [
           {
            "marker": {
             "colorbar": {
              "outlinewidth": 0,
              "ticks": ""
             }
            },
            "type": "scatterternary"
           }
          ],
          "surface": [
           {
            "colorbar": {
             "outlinewidth": 0,
             "ticks": ""
            },
            "colorscale": [
             [
              0,
              "#0d0887"
             ],
             [
              0.1111111111111111,
              "#46039f"
             ],
             [
              0.2222222222222222,
              "#7201a8"
             ],
             [
              0.3333333333333333,
              "#9c179e"
             ],
             [
              0.4444444444444444,
              "#bd3786"
             ],
             [
              0.5555555555555556,
              "#d8576b"
             ],
             [
              0.6666666666666666,
              "#ed7953"
             ],
             [
              0.7777777777777778,
              "#fb9f3a"
             ],
             [
              0.8888888888888888,
              "#fdca26"
             ],
             [
              1,
              "#f0f921"
             ]
            ],
            "type": "surface"
           }
          ],
          "table": [
           {
            "cells": {
             "fill": {
              "color": "#EBF0F8"
             },
             "line": {
              "color": "white"
             }
            },
            "header": {
             "fill": {
              "color": "#C8D4E3"
             },
             "line": {
              "color": "white"
             }
            },
            "type": "table"
           }
          ]
         },
         "layout": {
          "annotationdefaults": {
           "arrowcolor": "#2a3f5f",
           "arrowhead": 0,
           "arrowwidth": 1
          },
          "autotypenumbers": "strict",
          "coloraxis": {
           "colorbar": {
            "outlinewidth": 0,
            "ticks": ""
           }
          },
          "colorscale": {
           "diverging": [
            [
             0,
             "#8e0152"
            ],
            [
             0.1,
             "#c51b7d"
            ],
            [
             0.2,
             "#de77ae"
            ],
            [
             0.3,
             "#f1b6da"
            ],
            [
             0.4,
             "#fde0ef"
            ],
            [
             0.5,
             "#f7f7f7"
            ],
            [
             0.6,
             "#e6f5d0"
            ],
            [
             0.7,
             "#b8e186"
            ],
            [
             0.8,
             "#7fbc41"
            ],
            [
             0.9,
             "#4d9221"
            ],
            [
             1,
             "#276419"
            ]
           ],
           "sequential": [
            [
             0,
             "#0d0887"
            ],
            [
             0.1111111111111111,
             "#46039f"
            ],
            [
             0.2222222222222222,
             "#7201a8"
            ],
            [
             0.3333333333333333,
             "#9c179e"
            ],
            [
             0.4444444444444444,
             "#bd3786"
            ],
            [
             0.5555555555555556,
             "#d8576b"
            ],
            [
             0.6666666666666666,
             "#ed7953"
            ],
            [
             0.7777777777777778,
             "#fb9f3a"
            ],
            [
             0.8888888888888888,
             "#fdca26"
            ],
            [
             1,
             "#f0f921"
            ]
           ],
           "sequentialminus": [
            [
             0,
             "#0d0887"
            ],
            [
             0.1111111111111111,
             "#46039f"
            ],
            [
             0.2222222222222222,
             "#7201a8"
            ],
            [
             0.3333333333333333,
             "#9c179e"
            ],
            [
             0.4444444444444444,
             "#bd3786"
            ],
            [
             0.5555555555555556,
             "#d8576b"
            ],
            [
             0.6666666666666666,
             "#ed7953"
            ],
            [
             0.7777777777777778,
             "#fb9f3a"
            ],
            [
             0.8888888888888888,
             "#fdca26"
            ],
            [
             1,
             "#f0f921"
            ]
           ]
          },
          "colorway": [
           "#636efa",
           "#EF553B",
           "#00cc96",
           "#ab63fa",
           "#FFA15A",
           "#19d3f3",
           "#FF6692",
           "#B6E880",
           "#FF97FF",
           "#FECB52"
          ],
          "font": {
           "color": "#2a3f5f"
          },
          "geo": {
           "bgcolor": "white",
           "lakecolor": "white",
           "landcolor": "#E5ECF6",
           "showlakes": true,
           "showland": true,
           "subunitcolor": "white"
          },
          "hoverlabel": {
           "align": "left"
          },
          "hovermode": "closest",
          "mapbox": {
           "style": "light"
          },
          "paper_bgcolor": "white",
          "plot_bgcolor": "#E5ECF6",
          "polar": {
           "angularaxis": {
            "gridcolor": "white",
            "linecolor": "white",
            "ticks": ""
           },
           "bgcolor": "#E5ECF6",
           "radialaxis": {
            "gridcolor": "white",
            "linecolor": "white",
            "ticks": ""
           }
          },
          "scene": {
           "xaxis": {
            "backgroundcolor": "#E5ECF6",
            "gridcolor": "white",
            "gridwidth": 2,
            "linecolor": "white",
            "showbackground": true,
            "ticks": "",
            "zerolinecolor": "white"
           },
           "yaxis": {
            "backgroundcolor": "#E5ECF6",
            "gridcolor": "white",
            "gridwidth": 2,
            "linecolor": "white",
            "showbackground": true,
            "ticks": "",
            "zerolinecolor": "white"
           },
           "zaxis": {
            "backgroundcolor": "#E5ECF6",
            "gridcolor": "white",
            "gridwidth": 2,
            "linecolor": "white",
            "showbackground": true,
            "ticks": "",
            "zerolinecolor": "white"
           }
          },
          "shapedefaults": {
           "line": {
            "color": "#2a3f5f"
           }
          },
          "ternary": {
           "aaxis": {
            "gridcolor": "white",
            "linecolor": "white",
            "ticks": ""
           },
           "baxis": {
            "gridcolor": "white",
            "linecolor": "white",
            "ticks": ""
           },
           "bgcolor": "#E5ECF6",
           "caxis": {
            "gridcolor": "white",
            "linecolor": "white",
            "ticks": ""
           }
          },
          "title": {
           "x": 0.05
          },
          "xaxis": {
           "automargin": true,
           "gridcolor": "white",
           "linecolor": "white",
           "ticks": "",
           "title": {
            "standoff": 15
           },
           "zerolinecolor": "white",
           "zerolinewidth": 2
          },
          "yaxis": {
           "automargin": true,
           "gridcolor": "white",
           "linecolor": "white",
           "ticks": "",
           "title": {
            "standoff": 15
           },
           "zerolinecolor": "white",
           "zerolinewidth": 2
          }
         }
        },
        "title": {
         "text": "Life expectancy in Canada"
        },
        "xaxis": {
         "anchor": "y",
         "domain": [
          0,
          1
         ],
         "title": {
          "text": "rok"
         }
        },
        "yaxis": {
         "anchor": "x",
         "domain": [
          0,
          1
         ],
         "title": {
          "text": "real_pocet"
         }
        }
       }
      }
     },
     "metadata": {},
     "output_type": "display_data"
    },
    {
     "data": {
      "application/vnd.plotly.v1+json": {
       "config": {
        "plotlyServerURL": "https://plot.ly"
       },
       "data": [
        {
         "branchvalues": "total",
         "domain": {
          "x": [
           0,
           1
          ],
          "y": [
           0,
           1
          ]
         },
         "hovertemplate": "labels=%{label}<br>prumerna_vyse_duchodu=%{value}<br>parent=%{parent}<br>id=%{id}<extra></extra>",
         "ids": [
          "Česká republika/2009",
          "Česká republika/2010",
          "Česká republika/2011",
          "Česká republika/2012",
          "Česká republika/2013",
          "Česká republika/2014",
          "Česká republika/2015",
          "Česká republika/2016",
          "Česká republika/2017",
          "Česká republika/2018",
          "Česká republika/2019",
          "Česká republika/2020",
          "Česká republika/2021",
          "Česká republika/2022",
          "Česká republika"
         ],
         "labels": [
          "2009",
          "2010",
          "2011",
          "2012",
          "2013",
          "2014",
          "2015",
          "2016",
          "2017",
          "2018",
          "2019",
          "2020",
          "2021",
          "2022",
          "Česká republika"
         ],
         "name": "",
         "parents": [
          "Česká republika",
          "Česká republika",
          "Česká republika",
          "Česká republika",
          "Česká republika",
          "Česká republika",
          "Česká republika",
          "Česká republika",
          "Česká republika",
          "Česká republika",
          "Česká republika",
          "Česká republika",
          "Česká republika",
          "Česká republika",
          ""
         ],
         "type": "treemap",
         "values": [
          8433,
          8456,
          8761,
          8934,
          9082,
          9136,
          9326,
          9364,
          9632,
          10066,
          10890,
          11639,
          12331,
          14399,
          140449
         ]
        }
       ],
       "layout": {
        "legend": {
         "tracegroupgap": 0
        },
        "template": {
         "data": {
          "bar": [
           {
            "error_x": {
             "color": "#2a3f5f"
            },
            "error_y": {
             "color": "#2a3f5f"
            },
            "marker": {
             "line": {
              "color": "#E5ECF6",
              "width": 0.5
             },
             "pattern": {
              "fillmode": "overlay",
              "size": 10,
              "solidity": 0.2
             }
            },
            "type": "bar"
           }
          ],
          "barpolar": [
           {
            "marker": {
             "line": {
              "color": "#E5ECF6",
              "width": 0.5
             },
             "pattern": {
              "fillmode": "overlay",
              "size": 10,
              "solidity": 0.2
             }
            },
            "type": "barpolar"
           }
          ],
          "carpet": [
           {
            "aaxis": {
             "endlinecolor": "#2a3f5f",
             "gridcolor": "white",
             "linecolor": "white",
             "minorgridcolor": "white",
             "startlinecolor": "#2a3f5f"
            },
            "baxis": {
             "endlinecolor": "#2a3f5f",
             "gridcolor": "white",
             "linecolor": "white",
             "minorgridcolor": "white",
             "startlinecolor": "#2a3f5f"
            },
            "type": "carpet"
           }
          ],
          "choropleth": [
           {
            "colorbar": {
             "outlinewidth": 0,
             "ticks": ""
            },
            "type": "choropleth"
           }
          ],
          "contour": [
           {
            "colorbar": {
             "outlinewidth": 0,
             "ticks": ""
            },
            "colorscale": [
             [
              0,
              "#0d0887"
             ],
             [
              0.1111111111111111,
              "#46039f"
             ],
             [
              0.2222222222222222,
              "#7201a8"
             ],
             [
              0.3333333333333333,
              "#9c179e"
             ],
             [
              0.4444444444444444,
              "#bd3786"
             ],
             [
              0.5555555555555556,
              "#d8576b"
             ],
             [
              0.6666666666666666,
              "#ed7953"
             ],
             [
              0.7777777777777778,
              "#fb9f3a"
             ],
             [
              0.8888888888888888,
              "#fdca26"
             ],
             [
              1,
              "#f0f921"
             ]
            ],
            "type": "contour"
           }
          ],
          "contourcarpet": [
           {
            "colorbar": {
             "outlinewidth": 0,
             "ticks": ""
            },
            "type": "contourcarpet"
           }
          ],
          "heatmap": [
           {
            "colorbar": {
             "outlinewidth": 0,
             "ticks": ""
            },
            "colorscale": [
             [
              0,
              "#0d0887"
             ],
             [
              0.1111111111111111,
              "#46039f"
             ],
             [
              0.2222222222222222,
              "#7201a8"
             ],
             [
              0.3333333333333333,
              "#9c179e"
             ],
             [
              0.4444444444444444,
              "#bd3786"
             ],
             [
              0.5555555555555556,
              "#d8576b"
             ],
             [
              0.6666666666666666,
              "#ed7953"
             ],
             [
              0.7777777777777778,
              "#fb9f3a"
             ],
             [
              0.8888888888888888,
              "#fdca26"
             ],
             [
              1,
              "#f0f921"
             ]
            ],
            "type": "heatmap"
           }
          ],
          "heatmapgl": [
           {
            "colorbar": {
             "outlinewidth": 0,
             "ticks": ""
            },
            "colorscale": [
             [
              0,
              "#0d0887"
             ],
             [
              0.1111111111111111,
              "#46039f"
             ],
             [
              0.2222222222222222,
              "#7201a8"
             ],
             [
              0.3333333333333333,
              "#9c179e"
             ],
             [
              0.4444444444444444,
              "#bd3786"
             ],
             [
              0.5555555555555556,
              "#d8576b"
             ],
             [
              0.6666666666666666,
              "#ed7953"
             ],
             [
              0.7777777777777778,
              "#fb9f3a"
             ],
             [
              0.8888888888888888,
              "#fdca26"
             ],
             [
              1,
              "#f0f921"
             ]
            ],
            "type": "heatmapgl"
           }
          ],
          "histogram": [
           {
            "marker": {
             "pattern": {
              "fillmode": "overlay",
              "size": 10,
              "solidity": 0.2
             }
            },
            "type": "histogram"
           }
          ],
          "histogram2d": [
           {
            "colorbar": {
             "outlinewidth": 0,
             "ticks": ""
            },
            "colorscale": [
             [
              0,
              "#0d0887"
             ],
             [
              0.1111111111111111,
              "#46039f"
             ],
             [
              0.2222222222222222,
              "#7201a8"
             ],
             [
              0.3333333333333333,
              "#9c179e"
             ],
             [
              0.4444444444444444,
              "#bd3786"
             ],
             [
              0.5555555555555556,
              "#d8576b"
             ],
             [
              0.6666666666666666,
              "#ed7953"
             ],
             [
              0.7777777777777778,
              "#fb9f3a"
             ],
             [
              0.8888888888888888,
              "#fdca26"
             ],
             [
              1,
              "#f0f921"
             ]
            ],
            "type": "histogram2d"
           }
          ],
          "histogram2dcontour": [
           {
            "colorbar": {
             "outlinewidth": 0,
             "ticks": ""
            },
            "colorscale": [
             [
              0,
              "#0d0887"
             ],
             [
              0.1111111111111111,
              "#46039f"
             ],
             [
              0.2222222222222222,
              "#7201a8"
             ],
             [
              0.3333333333333333,
              "#9c179e"
             ],
             [
              0.4444444444444444,
              "#bd3786"
             ],
             [
              0.5555555555555556,
              "#d8576b"
             ],
             [
              0.6666666666666666,
              "#ed7953"
             ],
             [
              0.7777777777777778,
              "#fb9f3a"
             ],
             [
              0.8888888888888888,
              "#fdca26"
             ],
             [
              1,
              "#f0f921"
             ]
            ],
            "type": "histogram2dcontour"
           }
          ],
          "mesh3d": [
           {
            "colorbar": {
             "outlinewidth": 0,
             "ticks": ""
            },
            "type": "mesh3d"
           }
          ],
          "parcoords": [
           {
            "line": {
             "colorbar": {
              "outlinewidth": 0,
              "ticks": ""
             }
            },
            "type": "parcoords"
           }
          ],
          "pie": [
           {
            "automargin": true,
            "type": "pie"
           }
          ],
          "scatter": [
           {
            "fillpattern": {
             "fillmode": "overlay",
             "size": 10,
             "solidity": 0.2
            },
            "type": "scatter"
           }
          ],
          "scatter3d": [
           {
            "line": {
             "colorbar": {
              "outlinewidth": 0,
              "ticks": ""
             }
            },
            "marker": {
             "colorbar": {
              "outlinewidth": 0,
              "ticks": ""
             }
            },
            "type": "scatter3d"
           }
          ],
          "scattercarpet": [
           {
            "marker": {
             "colorbar": {
              "outlinewidth": 0,
              "ticks": ""
             }
            },
            "type": "scattercarpet"
           }
          ],
          "scattergeo": [
           {
            "marker": {
             "colorbar": {
              "outlinewidth": 0,
              "ticks": ""
             }
            },
            "type": "scattergeo"
           }
          ],
          "scattergl": [
           {
            "marker": {
             "colorbar": {
              "outlinewidth": 0,
              "ticks": ""
             }
            },
            "type": "scattergl"
           }
          ],
          "scattermapbox": [
           {
            "marker": {
             "colorbar": {
              "outlinewidth": 0,
              "ticks": ""
             }
            },
            "type": "scattermapbox"
           }
          ],
          "scatterpolar": [
           {
            "marker": {
             "colorbar": {
              "outlinewidth": 0,
              "ticks": ""
             }
            },
            "type": "scatterpolar"
           }
          ],
          "scatterpolargl": [
           {
            "marker": {
             "colorbar": {
              "outlinewidth": 0,
              "ticks": ""
             }
            },
            "type": "scatterpolargl"
           }
          ],
          "scatterternary": [
           {
            "marker": {
             "colorbar": {
              "outlinewidth": 0,
              "ticks": ""
             }
            },
            "type": "scatterternary"
           }
          ],
          "surface": [
           {
            "colorbar": {
             "outlinewidth": 0,
             "ticks": ""
            },
            "colorscale": [
             [
              0,
              "#0d0887"
             ],
             [
              0.1111111111111111,
              "#46039f"
             ],
             [
              0.2222222222222222,
              "#7201a8"
             ],
             [
              0.3333333333333333,
              "#9c179e"
             ],
             [
              0.4444444444444444,
              "#bd3786"
             ],
             [
              0.5555555555555556,
              "#d8576b"
             ],
             [
              0.6666666666666666,
              "#ed7953"
             ],
             [
              0.7777777777777778,
              "#fb9f3a"
             ],
             [
              0.8888888888888888,
              "#fdca26"
             ],
             [
              1,
              "#f0f921"
             ]
            ],
            "type": "surface"
           }
          ],
          "table": [
           {
            "cells": {
             "fill": {
              "color": "#EBF0F8"
             },
             "line": {
              "color": "white"
             }
            },
            "header": {
             "fill": {
              "color": "#C8D4E3"
             },
             "line": {
              "color": "white"
             }
            },
            "type": "table"
           }
          ]
         },
         "layout": {
          "annotationdefaults": {
           "arrowcolor": "#2a3f5f",
           "arrowhead": 0,
           "arrowwidth": 1
          },
          "autotypenumbers": "strict",
          "coloraxis": {
           "colorbar": {
            "outlinewidth": 0,
            "ticks": ""
           }
          },
          "colorscale": {
           "diverging": [
            [
             0,
             "#8e0152"
            ],
            [
             0.1,
             "#c51b7d"
            ],
            [
             0.2,
             "#de77ae"
            ],
            [
             0.3,
             "#f1b6da"
            ],
            [
             0.4,
             "#fde0ef"
            ],
            [
             0.5,
             "#f7f7f7"
            ],
            [
             0.6,
             "#e6f5d0"
            ],
            [
             0.7,
             "#b8e186"
            ],
            [
             0.8,
             "#7fbc41"
            ],
            [
             0.9,
             "#4d9221"
            ],
            [
             1,
             "#276419"
            ]
           ],
           "sequential": [
            [
             0,
             "#0d0887"
            ],
            [
             0.1111111111111111,
             "#46039f"
            ],
            [
             0.2222222222222222,
             "#7201a8"
            ],
            [
             0.3333333333333333,
             "#9c179e"
            ],
            [
             0.4444444444444444,
             "#bd3786"
            ],
            [
             0.5555555555555556,
             "#d8576b"
            ],
            [
             0.6666666666666666,
             "#ed7953"
            ],
            [
             0.7777777777777778,
             "#fb9f3a"
            ],
            [
             0.8888888888888888,
             "#fdca26"
            ],
            [
             1,
             "#f0f921"
            ]
           ],
           "sequentialminus": [
            [
             0,
             "#0d0887"
            ],
            [
             0.1111111111111111,
             "#46039f"
            ],
            [
             0.2222222222222222,
             "#7201a8"
            ],
            [
             0.3333333333333333,
             "#9c179e"
            ],
            [
             0.4444444444444444,
             "#bd3786"
            ],
            [
             0.5555555555555556,
             "#d8576b"
            ],
            [
             0.6666666666666666,
             "#ed7953"
            ],
            [
             0.7777777777777778,
             "#fb9f3a"
            ],
            [
             0.8888888888888888,
             "#fdca26"
            ],
            [
             1,
             "#f0f921"
            ]
           ]
          },
          "colorway": [
           "#636efa",
           "#EF553B",
           "#00cc96",
           "#ab63fa",
           "#FFA15A",
           "#19d3f3",
           "#FF6692",
           "#B6E880",
           "#FF97FF",
           "#FECB52"
          ],
          "font": {
           "color": "#2a3f5f"
          },
          "geo": {
           "bgcolor": "white",
           "lakecolor": "white",
           "landcolor": "#E5ECF6",
           "showlakes": true,
           "showland": true,
           "subunitcolor": "white"
          },
          "hoverlabel": {
           "align": "left"
          },
          "hovermode": "closest",
          "mapbox": {
           "style": "light"
          },
          "paper_bgcolor": "white",
          "plot_bgcolor": "#E5ECF6",
          "polar": {
           "angularaxis": {
            "gridcolor": "white",
            "linecolor": "white",
            "ticks": ""
           },
           "bgcolor": "#E5ECF6",
           "radialaxis": {
            "gridcolor": "white",
            "linecolor": "white",
            "ticks": ""
           }
          },
          "scene": {
           "xaxis": {
            "backgroundcolor": "#E5ECF6",
            "gridcolor": "white",
            "gridwidth": 2,
            "linecolor": "white",
            "showbackground": true,
            "ticks": "",
            "zerolinecolor": "white"
           },
           "yaxis": {
            "backgroundcolor": "#E5ECF6",
            "gridcolor": "white",
            "gridwidth": 2,
            "linecolor": "white",
            "showbackground": true,
            "ticks": "",
            "zerolinecolor": "white"
           },
           "zaxis": {
            "backgroundcolor": "#E5ECF6",
            "gridcolor": "white",
            "gridwidth": 2,
            "linecolor": "white",
            "showbackground": true,
            "ticks": "",
            "zerolinecolor": "white"
           }
          },
          "shapedefaults": {
           "line": {
            "color": "#2a3f5f"
           }
          },
          "ternary": {
           "aaxis": {
            "gridcolor": "white",
            "linecolor": "white",
            "ticks": ""
           },
           "baxis": {
            "gridcolor": "white",
            "linecolor": "white",
            "ticks": ""
           },
           "bgcolor": "#E5ECF6",
           "caxis": {
            "gridcolor": "white",
            "linecolor": "white",
            "ticks": ""
           }
          },
          "title": {
           "x": 0.05
          },
          "xaxis": {
           "automargin": true,
           "gridcolor": "white",
           "linecolor": "white",
           "ticks": "",
           "title": {
            "standoff": 15
           },
           "zerolinecolor": "white",
           "zerolinewidth": 2
          },
          "yaxis": {
           "automargin": true,
           "gridcolor": "white",
           "linecolor": "white",
           "ticks": "",
           "title": {
            "standoff": 15
           },
           "zerolinecolor": "white",
           "zerolinewidth": 2
          }
         }
        },
        "title": {
         "text": "Stromový graf důchodů podle druhu, pohlaví a oblasti"
        }
       }
      }
     },
     "metadata": {},
     "output_type": "display_data"
    }
   ],
   "source": [
    "fig = px.line(df_cr, x=\"rok\", y=\"real_pocet\", title='Life expectancy in Canada')\n",
    "fig.show()\n",
    "fig = px.treemap(\n",
    "    df_cr,\n",
    "    path=[\"referencni_oblast\",\"rok\"],  # Hierarchie\n",
    "    values='prumerna_vyse_duchodu',  # Sloupec s hodnotami\n",
    "    title='Stromový graf důchodů podle druhu, pohlaví a oblasti'\n",
    ")\n",
    "fig.show()\n",
    "\n"
   ]
  },
  {
   "cell_type": "code",
   "execution_count": 34,
   "metadata": {},
   "outputs": [
    {
     "name": "stdout",
     "output_type": "stream",
     "text": [
      "hackiton/udesky/data/krs_jihocesky.jsonld\n",
      "     spisová_značka               revize  \\\n",
      "0    20 T 13 / 2010  06.02.2014 10:46:48   \n",
      "1    17 T 16 / 2005   12.01.2012 9:43:35   \n",
      "2    20 T 15 / 2013  04.12.2014 14:48:57   \n",
      "3    20 T 13 / 2010  09.04.2015 14:17:55   \n",
      "4    20 T 13 / 2010  09.04.2015 14:17:58   \n",
      "..              ...                  ...   \n",
      "657   Si 117 / 2022  17.06.2022 14:16:58   \n",
      "658   Si 120 / 2022  13.06.2022 15:22:06   \n",
      "659   Si 116 / 2022  10.06.2022 11:18:33   \n",
      "660   Si 111 / 2022  10.06.2022 11:17:30   \n",
      "661   Si 112 / 2022  27.05.2022 13:10:47   \n",
      "\n",
      "                                              dokument  \\\n",
      "0    [{'typ': ['Digitální objekt'], 'url': 'https:/...   \n",
      "1    [{'typ': ['Digitální objekt'], 'url': 'https:/...   \n",
      "2    [{'typ': ['Digitální objekt'], 'url': 'https:/...   \n",
      "3    [{'typ': ['Digitální objekt'], 'url': 'https:/...   \n",
      "4    [{'typ': ['Digitální objekt'], 'url': 'https:/...   \n",
      "..                                                 ...   \n",
      "657  [{'typ': ['Digitální objekt'], 'url': 'https:/...   \n",
      "658  [{'typ': ['Digitální objekt'], 'url': 'https:/...   \n",
      "659  [{'typ': ['Digitální objekt'], 'url': 'https:/...   \n",
      "660  [{'typ': ['Digitální objekt'], 'url': 'https:/...   \n",
      "661  [{'typ': ['Digitální objekt'], 'url': 'https:/...   \n",
      "\n",
      "                                                agenda  \\\n",
      "0      [{'typ': 'Agenda', 'název': {'cs': 'Trestní'}}]   \n",
      "1      [{'typ': 'Agenda', 'název': {'cs': 'Trestní'}}]   \n",
      "2      [{'typ': 'Agenda', 'název': {'cs': 'Trestní'}}]   \n",
      "3      [{'typ': 'Agenda', 'název': {'cs': 'Trestní'}}]   \n",
      "4      [{'typ': 'Agenda', 'název': {'cs': 'Trestní'}}]   \n",
      "..                                                 ...   \n",
      "657  [{'typ': 'Agenda', 'název': {'cs': 'Informace ...   \n",
      "658  [{'typ': 'Agenda', 'název': {'cs': 'Informace ...   \n",
      "659  [{'typ': 'Agenda', 'název': {'cs': 'Informace ...   \n",
      "660  [{'typ': 'Agenda', 'název': {'cs': 'Informace ...   \n",
      "661  [{'typ': 'Agenda', 'název': {'cs': 'Informace ...   \n",
      "\n",
      "                                               typ  \\\n",
      "0    [Digitální objekt, Informace na úřední desce]   \n",
      "1    [Digitální objekt, Informace na úřední desce]   \n",
      "2    [Digitální objekt, Informace na úřední desce]   \n",
      "3    [Digitální objekt, Informace na úřední desce]   \n",
      "4    [Digitální objekt, Informace na úřední desce]   \n",
      "..                                             ...   \n",
      "657  [Digitální objekt, Informace na úřední desce]   \n",
      "658  [Digitální objekt, Informace na úřední desce]   \n",
      "659  [Digitální objekt, Informace na úřední desce]   \n",
      "660  [Digitální objekt, Informace na úřední desce]   \n",
      "661  [Digitální objekt, Informace na úřední desce]   \n",
      "\n",
      "                                                   url  \\\n",
      "0    https://infodeska.justice.cz/vyveseni.aspx?vyv...   \n",
      "1    https://infodeska.justice.cz/vyveseni.aspx?vyv...   \n",
      "2    https://infodeska.justice.cz/vyveseni.aspx?vyv...   \n",
      "3    https://infodeska.justice.cz/vyveseni.aspx?vyv...   \n",
      "4    https://infodeska.justice.cz/vyveseni.aspx?vyv...   \n",
      "..                                                 ...   \n",
      "657  https://infodeska.justice.cz/vyveseni.aspx?vyv...   \n",
      "658  https://infodeska.justice.cz/vyveseni.aspx?vyv...   \n",
      "659  https://infodeska.justice.cz/vyveseni.aspx?vyv...   \n",
      "660  https://infodeska.justice.cz/vyveseni.aspx?vyv...   \n",
      "661  https://infodeska.justice.cz/vyveseni.aspx?vyv...   \n",
      "\n",
      "                                                   iri    vyvěšení.typ  \\\n",
      "0    https://data.justice.cz/zdroj/úřední_deska/002...  Časový okamžik   \n",
      "1    https://data.justice.cz/zdroj/úřední_deska/002...  Časový okamžik   \n",
      "2    https://data.justice.cz/zdroj/úřední_deska/002...  Časový okamžik   \n",
      "3    https://data.justice.cz/zdroj/úřední_deska/002...  Časový okamžik   \n",
      "4    https://data.justice.cz/zdroj/úřední_deska/002...  Časový okamžik   \n",
      "..                                                 ...             ...   \n",
      "657  https://data.justice.cz/zdroj/úřední_deska/002...  Časový okamžik   \n",
      "658  https://data.justice.cz/zdroj/úřední_deska/002...  Časový okamžik   \n",
      "659  https://data.justice.cz/zdroj/úřední_deska/002...  Časový okamžik   \n",
      "660  https://data.justice.cz/zdroj/úřední_deska/002...  Časový okamžik   \n",
      "661  https://data.justice.cz/zdroj/úřední_deska/002...  Časový okamžik   \n",
      "\n",
      "    vyvěšení.datum_a_čas               název.cs relevantní_do.typ  \\\n",
      "0    2014-02-06T10:46:48  Usnesení 20 T 13/2010    Časový okamžik   \n",
      "1    2012-01-12T09:43:35  Vzor 49 Ilona Háčková    Časový okamžik   \n",
      "2    2014-12-04T14:48:57               Usnesení    Časový okamžik   \n",
      "3    2015-04-09T14:17:55                 vz.85     Časový okamžik   \n",
      "4    2015-04-09T14:17:58              Opatření     Časový okamžik   \n",
      "..                   ...                    ...               ...   \n",
      "657  2022-06-17T14:16:58            Si 117/2022    Časový okamžik   \n",
      "658  2022-06-13T15:22:06            Si 120/2022    Časový okamžik   \n",
      "659  2022-06-10T11:18:33            Si 116/2022    Časový okamžik   \n",
      "660  2022-06-10T11:17:30            Si 111/2022    Časový okamžik   \n",
      "661  2022-05-27T13:10:47            Si 112/2022    Časový okamžik   \n",
      "\n",
      "    relevantní_do.nespecifikovaný relevantní_do.datum_a_čas  \\\n",
      "0                            True                       NaN   \n",
      "1                            True                       NaN   \n",
      "2                            True                       NaN   \n",
      "3                            True                       NaN   \n",
      "4                            True                       NaN   \n",
      "..                            ...                       ...   \n",
      "657                          True                       NaN   \n",
      "658                          True                       NaN   \n",
      "659                          True                       NaN   \n",
      "660                          True                       NaN   \n",
      "661                          True                       NaN   \n",
      "\n",
      "    relevantní_do.datum vyvěšení.datum  \n",
      "0                   NaN            NaN  \n",
      "1                   NaN            NaN  \n",
      "2                   NaN            NaN  \n",
      "3                   NaN            NaN  \n",
      "4                   NaN            NaN  \n",
      "..                  ...            ...  \n",
      "657                 NaN            NaN  \n",
      "658                 NaN            NaN  \n",
      "659                 NaN            NaN  \n",
      "660                 NaN            NaN  \n",
      "661                 NaN            NaN  \n",
      "\n",
      "[662 rows x 15 columns]\n",
      "hackiton/udesky/data/krs_jihocesky.jsonld\n",
      "     spisová_značka               revize  \\\n",
      "0    20 T 13 / 2010  06.02.2014 10:46:48   \n",
      "1    17 T 16 / 2005   12.01.2012 9:43:35   \n",
      "2    20 T 15 / 2013  04.12.2014 14:48:57   \n",
      "3    20 T 13 / 2010  09.04.2015 14:17:55   \n",
      "4    20 T 13 / 2010  09.04.2015 14:17:58   \n",
      "..              ...                  ...   \n",
      "657   Si 117 / 2022  17.06.2022 14:16:58   \n",
      "658   Si 120 / 2022  13.06.2022 15:22:06   \n",
      "659   Si 116 / 2022  10.06.2022 11:18:33   \n",
      "660   Si 111 / 2022  10.06.2022 11:17:30   \n",
      "661   Si 112 / 2022  27.05.2022 13:10:47   \n",
      "\n",
      "                                              dokument  \\\n",
      "0    [{'typ': ['Digitální objekt'], 'url': 'https:/...   \n",
      "1    [{'typ': ['Digitální objekt'], 'url': 'https:/...   \n",
      "2    [{'typ': ['Digitální objekt'], 'url': 'https:/...   \n",
      "3    [{'typ': ['Digitální objekt'], 'url': 'https:/...   \n",
      "4    [{'typ': ['Digitální objekt'], 'url': 'https:/...   \n",
      "..                                                 ...   \n",
      "657  [{'typ': ['Digitální objekt'], 'url': 'https:/...   \n",
      "658  [{'typ': ['Digitální objekt'], 'url': 'https:/...   \n",
      "659  [{'typ': ['Digitální objekt'], 'url': 'https:/...   \n",
      "660  [{'typ': ['Digitální objekt'], 'url': 'https:/...   \n",
      "661  [{'typ': ['Digitální objekt'], 'url': 'https:/...   \n",
      "\n",
      "                                                agenda  \\\n",
      "0      [{'typ': 'Agenda', 'název': {'cs': 'Trestní'}}]   \n",
      "1      [{'typ': 'Agenda', 'název': {'cs': 'Trestní'}}]   \n",
      "2      [{'typ': 'Agenda', 'název': {'cs': 'Trestní'}}]   \n",
      "3      [{'typ': 'Agenda', 'název': {'cs': 'Trestní'}}]   \n",
      "4      [{'typ': 'Agenda', 'název': {'cs': 'Trestní'}}]   \n",
      "..                                                 ...   \n",
      "657  [{'typ': 'Agenda', 'název': {'cs': 'Informace ...   \n",
      "658  [{'typ': 'Agenda', 'název': {'cs': 'Informace ...   \n",
      "659  [{'typ': 'Agenda', 'název': {'cs': 'Informace ...   \n",
      "660  [{'typ': 'Agenda', 'název': {'cs': 'Informace ...   \n",
      "661  [{'typ': 'Agenda', 'název': {'cs': 'Informace ...   \n",
      "\n",
      "                                               typ  \\\n",
      "0    [Digitální objekt, Informace na úřední desce]   \n",
      "1    [Digitální objekt, Informace na úřední desce]   \n",
      "2    [Digitální objekt, Informace na úřední desce]   \n",
      "3    [Digitální objekt, Informace na úřední desce]   \n",
      "4    [Digitální objekt, Informace na úřední desce]   \n",
      "..                                             ...   \n",
      "657  [Digitální objekt, Informace na úřední desce]   \n",
      "658  [Digitální objekt, Informace na úřední desce]   \n",
      "659  [Digitální objekt, Informace na úřední desce]   \n",
      "660  [Digitální objekt, Informace na úřední desce]   \n",
      "661  [Digitální objekt, Informace na úřední desce]   \n",
      "\n",
      "                                                   url  \\\n",
      "0    https://infodeska.justice.cz/vyveseni.aspx?vyv...   \n",
      "1    https://infodeska.justice.cz/vyveseni.aspx?vyv...   \n",
      "2    https://infodeska.justice.cz/vyveseni.aspx?vyv...   \n",
      "3    https://infodeska.justice.cz/vyveseni.aspx?vyv...   \n",
      "4    https://infodeska.justice.cz/vyveseni.aspx?vyv...   \n",
      "..                                                 ...   \n",
      "657  https://infodeska.justice.cz/vyveseni.aspx?vyv...   \n",
      "658  https://infodeska.justice.cz/vyveseni.aspx?vyv...   \n",
      "659  https://infodeska.justice.cz/vyveseni.aspx?vyv...   \n",
      "660  https://infodeska.justice.cz/vyveseni.aspx?vyv...   \n",
      "661  https://infodeska.justice.cz/vyveseni.aspx?vyv...   \n",
      "\n",
      "                                                   iri    vyvěšení.typ  \\\n",
      "0    https://data.justice.cz/zdroj/úřední_deska/002...  Časový okamžik   \n",
      "1    https://data.justice.cz/zdroj/úřední_deska/002...  Časový okamžik   \n",
      "2    https://data.justice.cz/zdroj/úřední_deska/002...  Časový okamžik   \n",
      "3    https://data.justice.cz/zdroj/úřední_deska/002...  Časový okamžik   \n",
      "4    https://data.justice.cz/zdroj/úřední_deska/002...  Časový okamžik   \n",
      "..                                                 ...             ...   \n",
      "657  https://data.justice.cz/zdroj/úřední_deska/002...  Časový okamžik   \n",
      "658  https://data.justice.cz/zdroj/úřední_deska/002...  Časový okamžik   \n",
      "659  https://data.justice.cz/zdroj/úřední_deska/002...  Časový okamžik   \n",
      "660  https://data.justice.cz/zdroj/úřední_deska/002...  Časový okamžik   \n",
      "661  https://data.justice.cz/zdroj/úřední_deska/002...  Časový okamžik   \n",
      "\n",
      "    vyvěšení.datum_a_čas               název.cs relevantní_do.typ  \\\n",
      "0    2014-02-06T10:46:48  Usnesení 20 T 13/2010    Časový okamžik   \n",
      "1    2012-01-12T09:43:35  Vzor 49 Ilona Háčková    Časový okamžik   \n",
      "2    2014-12-04T14:48:57               Usnesení    Časový okamžik   \n",
      "3    2015-04-09T14:17:55                 vz.85     Časový okamžik   \n",
      "4    2015-04-09T14:17:58              Opatření     Časový okamžik   \n",
      "..                   ...                    ...               ...   \n",
      "657  2022-06-17T14:16:58            Si 117/2022    Časový okamžik   \n",
      "658  2022-06-13T15:22:06            Si 120/2022    Časový okamžik   \n",
      "659  2022-06-10T11:18:33            Si 116/2022    Časový okamžik   \n",
      "660  2022-06-10T11:17:30            Si 111/2022    Časový okamžik   \n",
      "661  2022-05-27T13:10:47            Si 112/2022    Časový okamžik   \n",
      "\n",
      "    relevantní_do.nespecifikovaný relevantní_do.datum_a_čas  \\\n",
      "0                            True                       NaN   \n",
      "1                            True                       NaN   \n",
      "2                            True                       NaN   \n",
      "3                            True                       NaN   \n",
      "4                            True                       NaN   \n",
      "..                            ...                       ...   \n",
      "657                          True                       NaN   \n",
      "658                          True                       NaN   \n",
      "659                          True                       NaN   \n",
      "660                          True                       NaN   \n",
      "661                          True                       NaN   \n",
      "\n",
      "    relevantní_do.datum vyvěšení.datum  \n",
      "0                   NaN            NaN  \n",
      "1                   NaN            NaN  \n",
      "2                   NaN            NaN  \n",
      "3                   NaN            NaN  \n",
      "4                   NaN            NaN  \n",
      "..                  ...            ...  \n",
      "657                 NaN            NaN  \n",
      "658                 NaN            NaN  \n",
      "659                 NaN            NaN  \n",
      "660                 NaN            NaN  \n",
      "661                 NaN            NaN  \n",
      "\n",
      "[662 rows x 15 columns]\n",
      "hackiton/udesky/data/krs_kralovehradecky.jsonld\n",
      "          spisová_značka               revize  \\\n",
      "0     40 INS 6386 / 2019   20.04.2023 9:14:26   \n",
      "1     35 INS 1024 / 2023  07.08.2023 12:16:16   \n",
      "2    70 INS 19745 / 2022  17.05.2024 10:37:48   \n",
      "3         16 C 71 / 2023  17.05.2024 10:56:03   \n",
      "4        55 Cm 57 / 2024  09.05.2024 12:13:46   \n",
      "..                   ...                  ...   \n",
      "617       Spr 137 / 2011  21.03.2011 14:03:29   \n",
      "618      Spr 1339 / 2011  21.03.2011 13:43:27   \n",
      "619      Spr 5568 / 2010  21.03.2011 13:37:30   \n",
      "620      Spr 4271 / 2013   21.10.2013 9:13:20   \n",
      "621      Spr 1267 / 2009   03.03.2015 8:46:56   \n",
      "\n",
      "                                              dokument  \\\n",
      "0    [{'typ': ['Digitální objekt'], 'url': 'https:/...   \n",
      "1    [{'typ': ['Digitální objekt'], 'url': 'https:/...   \n",
      "2    [{'typ': ['Digitální objekt'], 'url': 'https:/...   \n",
      "3    [{'typ': ['Digitální objekt'], 'url': 'https:/...   \n",
      "4    [{'typ': ['Digitální objekt'], 'url': 'https:/...   \n",
      "..                                                 ...   \n",
      "617  [{'typ': ['Digitální objekt'], 'url': 'https:/...   \n",
      "618  [{'typ': ['Digitální objekt'], 'url': 'https:/...   \n",
      "619  [{'typ': ['Digitální objekt'], 'url': 'https:/...   \n",
      "620  [{'typ': ['Digitální objekt'], 'url': 'https:/...   \n",
      "621  [{'typ': ['Digitální objekt'], 'url': 'https:/...   \n",
      "\n",
      "                                                agenda  \\\n",
      "0    [{'typ': 'Agenda', 'název': {'cs': 'Insolvenčn...   \n",
      "1    [{'typ': 'Agenda', 'název': {'cs': 'Insolvenčn...   \n",
      "2    [{'typ': 'Agenda', 'název': {'cs': 'Insolvenčn...   \n",
      "3    [{'typ': 'Agenda', 'název': {'cs': 'Občanskopr...   \n",
      "4     [{'typ': 'Agenda', 'název': {'cs': 'Obchodní'}}]   \n",
      "..                                                 ...   \n",
      "617  [{'typ': 'Agenda', 'název': {'cs': 'Informace ...   \n",
      "618  [{'typ': 'Agenda', 'název': {'cs': 'Informace ...   \n",
      "619  [{'typ': 'Agenda', 'název': {'cs': 'Informace ...   \n",
      "620  [{'typ': 'Agenda', 'název': {'cs': 'Správa sou...   \n",
      "621  [{'typ': 'Agenda', 'název': {'cs': 'Informace ...   \n",
      "\n",
      "                                               typ  \\\n",
      "0    [Digitální objekt, Informace na úřední desce]   \n",
      "1    [Digitální objekt, Informace na úřední desce]   \n",
      "2    [Digitální objekt, Informace na úřední desce]   \n",
      "3    [Digitální objekt, Informace na úřední desce]   \n",
      "4    [Digitální objekt, Informace na úřední desce]   \n",
      "..                                             ...   \n",
      "617  [Digitální objekt, Informace na úřední desce]   \n",
      "618  [Digitální objekt, Informace na úřední desce]   \n",
      "619  [Digitální objekt, Informace na úřední desce]   \n",
      "620  [Digitální objekt, Informace na úřední desce]   \n",
      "621  [Digitální objekt, Informace na úřední desce]   \n",
      "\n",
      "                                                   url  \\\n",
      "0    https://infodeska.justice.cz/vyveseni.aspx?vyv...   \n",
      "1    https://infodeska.justice.cz/vyveseni.aspx?vyv...   \n",
      "2    https://infodeska.justice.cz/vyveseni.aspx?vyv...   \n",
      "3    https://infodeska.justice.cz/vyveseni.aspx?vyv...   \n",
      "4    https://infodeska.justice.cz/vyveseni.aspx?vyv...   \n",
      "..                                                 ...   \n",
      "617  https://infodeska.justice.cz/vyveseni.aspx?vyv...   \n",
      "618  https://infodeska.justice.cz/vyveseni.aspx?vyv...   \n",
      "619  https://infodeska.justice.cz/vyveseni.aspx?vyv...   \n",
      "620  https://infodeska.justice.cz/vyveseni.aspx?vyv...   \n",
      "621  https://infodeska.justice.cz/vyveseni.aspx?vyv...   \n",
      "\n",
      "                                                   iri    vyvěšení.typ  \\\n",
      "0    https://data.justice.cz/zdroj/úřední_deska/002...  Časový okamžik   \n",
      "1    https://data.justice.cz/zdroj/úřední_deska/002...  Časový okamžik   \n",
      "2    https://data.justice.cz/zdroj/úřední_deska/002...  Časový okamžik   \n",
      "3    https://data.justice.cz/zdroj/úřední_deska/002...  Časový okamžik   \n",
      "4    https://data.justice.cz/zdroj/úřední_deska/002...  Časový okamžik   \n",
      "..                                                 ...             ...   \n",
      "617  https://data.justice.cz/zdroj/úřední_deska/002...  Časový okamžik   \n",
      "618  https://data.justice.cz/zdroj/úřední_deska/002...  Časový okamžik   \n",
      "619  https://data.justice.cz/zdroj/úřední_deska/002...  Časový okamžik   \n",
      "620  https://data.justice.cz/zdroj/úřední_deska/002...  Časový okamžik   \n",
      "621  https://data.justice.cz/zdroj/úřední_deska/002...  Časový okamžik   \n",
      "\n",
      "    vyvěšení.datum_a_čas                                           název.cs  \\\n",
      "0    2023-04-20T09:14:26  Sdělení pro vyvěšení na úřední desce soudu (§ ...   \n",
      "1    2023-08-07T12:16:16                                                      \n",
      "2    2024-05-17T10:37:48  Oznámení  pro vyvěšení na úřední desce soudu  ...   \n",
      "3    2024-05-17T10:56:03   Oznámení § 50 odst.2 o. s. ř. - Ing. Pavel Radoň   \n",
      "4    2024-05-09T12:13:46  Sdělení - Pce - § 49 odst. 4 o.s.ř. 2018 - Jed...   \n",
      "..                   ...                                                ...   \n",
      "617  2011-03-21T14:03:29                         Výroční zpráva za rok 2010   \n",
      "618  2011-03-21T13:43:27  Sazebník úhrad za poskytování informací (od 18...   \n",
      "619  2010-11-23T15:18:36  Sazebník úhrad za poskytování informací (od 1....   \n",
      "620  2013-10-21T09:13:20              Změna rozvrhu práce na rok 2013 č. 12   \n",
      "621  2009-04-01T12:12:00    Základní informace podle zákona č. 106/1999 Sb.   \n",
      "\n",
      "    relevantní_do.typ relevantní_do.datum relevantní_do.nespecifikovaný  \\\n",
      "0      Časový okamžik          5023-05-22                           NaN   \n",
      "1      Časový okamžik                 NaN                          True   \n",
      "2      Časový okamžik          2024-05-28                           NaN   \n",
      "3      Časový okamžik                 NaN                           NaN   \n",
      "4      Časový okamžik                 NaN                           NaN   \n",
      "..                ...                 ...                           ...   \n",
      "617    Časový okamžik                 NaN                          True   \n",
      "618    Časový okamžik                 NaN                          True   \n",
      "619    Časový okamžik                 NaN                          True   \n",
      "620    Časový okamžik                 NaN                          True   \n",
      "621    Časový okamžik                 NaN                          True   \n",
      "\n",
      "    relevantní_do.datum_a_čas vyvěšení.datum  \n",
      "0                         NaN            NaN  \n",
      "1                         NaN            NaN  \n",
      "2                         NaN            NaN  \n",
      "3         2024-05-27T23:59:59            NaN  \n",
      "4         2024-06-09T23:59:59            NaN  \n",
      "..                        ...            ...  \n",
      "617                       NaN            NaN  \n",
      "618                       NaN            NaN  \n",
      "619                       NaN            NaN  \n",
      "620                       NaN            NaN  \n",
      "621                       NaN            NaN  \n",
      "\n",
      "[622 rows x 15 columns]\n",
      "hackiton/udesky/data/krs_moravskoslezky.jsonld\n",
      "        spisová_značka               revize  \\\n",
      "0      16 Cm 82 / 2003  18.05.2022 10:46:09   \n",
      "1    12 Nc 1070 / 2022  12.07.2022 10:50:29   \n",
      "2    12 Nc 1070 / 2022  12.07.2022 10:51:45   \n",
      "3      5 To 283 / 2022  29.11.2022 10:00:00   \n",
      "4        4 Cm 1 / 2023   17.07.2023 7:57:10   \n",
      "..                 ...                  ...   \n",
      "385      Spr 29 / 2009  26.03.2009 12:14:18   \n",
      "386      Spr 19 / 2009  02.01.2012 15:12:10   \n",
      "387      Spr 13 / 2009  09.07.2012 11:53:28   \n",
      "388     Fj 3461 / 2024  22.05.2024 12:36:29   \n",
      "389    Fj 44069 / 2024   20.05.2024 6:37:06   \n",
      "\n",
      "                                              dokument  \\\n",
      "0    [{'typ': ['Digitální objekt'], 'url': 'https:/...   \n",
      "1    [{'typ': ['Digitální objekt'], 'url': 'https:/...   \n",
      "2    [{'typ': ['Digitální objekt'], 'url': 'https:/...   \n",
      "3    [{'typ': ['Digitální objekt'], 'url': 'https:/...   \n",
      "4    [{'typ': ['Digitální objekt'], 'url': 'https:/...   \n",
      "..                                                 ...   \n",
      "385  [{'typ': ['Digitální objekt'], 'url': 'https:/...   \n",
      "386  [{'typ': ['Digitální objekt'], 'url': 'https:/...   \n",
      "387  [{'typ': ['Digitální objekt'], 'url': 'https:/...   \n",
      "388  [{'typ': ['Digitální objekt'], 'url': 'https:/...   \n",
      "389  [{'typ': ['Digitální objekt'], 'url': 'https:/...   \n",
      "\n",
      "                                                agenda  \\\n",
      "0     [{'typ': 'Agenda', 'název': {'cs': 'Obchodní'}}]   \n",
      "1     [{'typ': 'Agenda', 'název': {'cs': 'Obchodní'}}]   \n",
      "2     [{'typ': 'Agenda', 'název': {'cs': 'Obchodní'}}]   \n",
      "3      [{'typ': 'Agenda', 'název': {'cs': 'Trestní'}}]   \n",
      "4     [{'typ': 'Agenda', 'název': {'cs': 'Obchodní'}}]   \n",
      "..                                                 ...   \n",
      "385  [{'typ': 'Agenda', 'název': {'cs': 'Správa sou...   \n",
      "386  [{'typ': 'Agenda', 'název': {'cs': 'Správa sou...   \n",
      "387  [{'typ': 'Agenda', 'název': {'cs': 'Správa sou...   \n",
      "388  [{'typ': 'Agenda', 'název': {'cs': 'Veřejné re...   \n",
      "389  [{'typ': 'Agenda', 'název': {'cs': 'Veřejné re...   \n",
      "\n",
      "                                               typ  \\\n",
      "0    [Digitální objekt, Informace na úřední desce]   \n",
      "1    [Digitální objekt, Informace na úřední desce]   \n",
      "2    [Digitální objekt, Informace na úřední desce]   \n",
      "3    [Digitální objekt, Informace na úřední desce]   \n",
      "4    [Digitální objekt, Informace na úřední desce]   \n",
      "..                                             ...   \n",
      "385  [Digitální objekt, Informace na úřední desce]   \n",
      "386  [Digitální objekt, Informace na úřední desce]   \n",
      "387  [Digitální objekt, Informace na úřední desce]   \n",
      "388  [Digitální objekt, Informace na úřední desce]   \n",
      "389  [Digitální objekt, Informace na úřední desce]   \n",
      "\n",
      "                                                   url  \\\n",
      "0    https://infodeska.justice.cz/vyveseni.aspx?vyv...   \n",
      "1    https://infodeska.justice.cz/vyveseni.aspx?vyv...   \n",
      "2    https://infodeska.justice.cz/vyveseni.aspx?vyv...   \n",
      "3    https://infodeska.justice.cz/vyveseni.aspx?vyv...   \n",
      "4    https://infodeska.justice.cz/vyveseni.aspx?vyv...   \n",
      "..                                                 ...   \n",
      "385  https://infodeska.justice.cz/vyveseni.aspx?vyv...   \n",
      "386  https://infodeska.justice.cz/vyveseni.aspx?vyv...   \n",
      "387  https://infodeska.justice.cz/vyveseni.aspx?vyv...   \n",
      "388  https://infodeska.justice.cz/vyveseni.aspx?vyv...   \n",
      "389  https://infodeska.justice.cz/vyveseni.aspx?vyv...   \n",
      "\n",
      "                                                   iri    vyvěšení.typ  \\\n",
      "0    https://data.justice.cz/zdroj/úřední_deska/002...  Časový okamžik   \n",
      "1    https://data.justice.cz/zdroj/úřední_deska/002...  Časový okamžik   \n",
      "2    https://data.justice.cz/zdroj/úřední_deska/002...  Časový okamžik   \n",
      "3    https://data.justice.cz/zdroj/úřední_deska/002...  Časový okamžik   \n",
      "4    https://data.justice.cz/zdroj/úřední_deska/002...  Časový okamžik   \n",
      "..                                                 ...             ...   \n",
      "385  https://data.justice.cz/zdroj/úřední_deska/002...  Časový okamžik   \n",
      "386  https://data.justice.cz/zdroj/úřední_deska/002...  Časový okamžik   \n",
      "387  https://data.justice.cz/zdroj/úřední_deska/002...  Časový okamžik   \n",
      "388  https://data.justice.cz/zdroj/úřední_deska/002...  Časový okamžik   \n",
      "389  https://data.justice.cz/zdroj/úřední_deska/002...  Časový okamžik   \n",
      "\n",
      "    vyvěšení.datum_a_čas                                           název.cs  \\\n",
      "0    2022-05-18T10:46:09                                 O.s.ř. č. 127-2018   \n",
      "1    2022-07-12T10:50:29                                           Oznámení   \n",
      "2    2022-07-12T10:51:45                    Sdělení k INS - vyrozumění § 97   \n",
      "3    2022-11-29T10:00:00                                   T.ř. č. 017-2018   \n",
      "4    2023-07-17T07:57:10                                           Oznámení   \n",
      "..                   ...                                                ...   \n",
      "385  2009-03-26T12:14:18                                           Poplatky   \n",
      "386  2009-01-14T08:03:23  Úhrady za poskytnutí infomací dle zák. č. 106/...   \n",
      "387  2009-01-14T07:17:15     Poskytování informací dle zák. č. 106/1999 Sb.   \n",
      "388  2024-05-22T12:36:29            C 80201, ozn. § 50/2 o.s.ř., výzva RD52   \n",
      "389  2024-05-20T06:37:06        A 3980, sděl. § 49/4 o.s.ř., usn. o ZŘ RD12   \n",
      "\n",
      "    relevantní_do.typ relevantní_do.nespecifikovaný relevantní_do.datum_a_čas  \\\n",
      "0      Časový okamžik                          True                       NaN   \n",
      "1      Časový okamžik                          True                       NaN   \n",
      "2      Časový okamžik                          True                       NaN   \n",
      "3      Časový okamžik                          True                       NaN   \n",
      "4      Časový okamžik                          True                       NaN   \n",
      "..                ...                           ...                       ...   \n",
      "385    Časový okamžik                          True                       NaN   \n",
      "386    Časový okamžik                          True                       NaN   \n",
      "387    Časový okamžik                          True                       NaN   \n",
      "388    Časový okamžik                           NaN       2024-06-21T23:59:59   \n",
      "389    Časový okamžik                           NaN                       NaN   \n",
      "\n",
      "    relevantní_do.datum vyvěšení.datum  \n",
      "0                   NaN            NaN  \n",
      "1                   NaN            NaN  \n",
      "2                   NaN            NaN  \n",
      "3                   NaN            NaN  \n",
      "4                   NaN            NaN  \n",
      "..                  ...            ...  \n",
      "385                 NaN            NaN  \n",
      "386                 NaN            NaN  \n",
      "387                 NaN            NaN  \n",
      "388                 NaN            NaN  \n",
      "389          2024-06-19            NaN  \n",
      "\n",
      "[390 rows x 15 columns]\n",
      "hackiton/udesky/data/krs_plzensky.jsonld\n",
      "          spisová_značka               revize  \\\n",
      "0         0 Si 41 / 2013  26.02.2013 12:00:00   \n",
      "1        40 Cm 88 / 2010   24.11.2020 9:48:29   \n",
      "2    65 INS 10402 / 2023   19.12.2023 8:16:10   \n",
      "3       38 Cm 430 / 2022   17.05.2024 9:14:25   \n",
      "4    29 INS 23501 / 2021  17.05.2024 13:22:51   \n",
      "..                   ...                  ...   \n",
      "240         Si 15 / 2015   26.02.2015 7:48:03   \n",
      "241         Si 13 / 2014  07.12.2015 11:06:57   \n",
      "242      Spr 2894 / 2013  11.07.2016 10:38:09   \n",
      "243      Spr 1675 / 2013  28.03.2024 13:28:43   \n",
      "244      Spr 2979 / 2012  07.12.2015 13:04:55   \n",
      "\n",
      "                                              dokument  \\\n",
      "0    [{'typ': ['Digitální objekt'], 'url': 'https:/...   \n",
      "1    [{'typ': ['Digitální objekt'], 'url': 'https:/...   \n",
      "2    [{'typ': ['Digitální objekt'], 'url': 'https:/...   \n",
      "3    [{'typ': ['Digitální objekt'], 'url': 'https:/...   \n",
      "4    [{'typ': ['Digitální objekt'], 'url': 'https:/...   \n",
      "..                                                 ...   \n",
      "240  [{'typ': ['Digitální objekt'], 'url': 'https:/...   \n",
      "241  [{'typ': ['Digitální objekt'], 'url': 'https:/...   \n",
      "242  [{'typ': ['Digitální objekt'], 'url': 'https:/...   \n",
      "243  [{'typ': ['Digitální objekt'], 'url': 'https:/...   \n",
      "244  [{'typ': ['Digitální objekt'], 'url': 'https:/...   \n",
      "\n",
      "                                                agenda  \\\n",
      "0    [{'typ': 'Agenda', 'název': {'cs': 'Informace ...   \n",
      "1     [{'typ': 'Agenda', 'název': {'cs': 'Obchodní'}}]   \n",
      "2    [{'typ': 'Agenda', 'název': {'cs': 'Insolvenčn...   \n",
      "3     [{'typ': 'Agenda', 'název': {'cs': 'Obchodní'}}]   \n",
      "4    [{'typ': 'Agenda', 'název': {'cs': 'Insolvenčn...   \n",
      "..                                                 ...   \n",
      "240  [{'typ': 'Agenda', 'název': {'cs': 'Informace ...   \n",
      "241  [{'typ': 'Agenda', 'název': {'cs': 'Informace ...   \n",
      "242  [{'typ': 'Agenda', 'název': {'cs': 'Správa sou...   \n",
      "243  [{'typ': 'Agenda', 'název': {'cs': 'Správa sou...   \n",
      "244  [{'typ': 'Agenda', 'název': {'cs': 'Správa sou...   \n",
      "\n",
      "                                               typ  \\\n",
      "0    [Digitální objekt, Informace na úřední desce]   \n",
      "1    [Digitální objekt, Informace na úřední desce]   \n",
      "2    [Digitální objekt, Informace na úřední desce]   \n",
      "3    [Digitální objekt, Informace na úřední desce]   \n",
      "4    [Digitální objekt, Informace na úřední desce]   \n",
      "..                                             ...   \n",
      "240  [Digitální objekt, Informace na úřední desce]   \n",
      "241  [Digitální objekt, Informace na úřední desce]   \n",
      "242  [Digitální objekt, Informace na úřední desce]   \n",
      "243  [Digitální objekt, Informace na úřední desce]   \n",
      "244  [Digitální objekt, Informace na úřední desce]   \n",
      "\n",
      "                                                   url  \\\n",
      "0    https://infodeska.justice.cz/vyveseni.aspx?vyv...   \n",
      "1    https://infodeska.justice.cz/vyveseni.aspx?vyv...   \n",
      "2    https://infodeska.justice.cz/vyveseni.aspx?vyv...   \n",
      "3    https://infodeska.justice.cz/vyveseni.aspx?vyv...   \n",
      "4    https://infodeska.justice.cz/vyveseni.aspx?vyv...   \n",
      "..                                                 ...   \n",
      "240  https://infodeska.justice.cz/vyveseni.aspx?vyv...   \n",
      "241  https://infodeska.justice.cz/vyveseni.aspx?vyv...   \n",
      "242  https://infodeska.justice.cz/vyveseni.aspx?vyv...   \n",
      "243  https://infodeska.justice.cz/vyveseni.aspx?vyv...   \n",
      "244  https://infodeska.justice.cz/vyveseni.aspx?vyv...   \n",
      "\n",
      "                                                   iri    vyvěšení.typ  \\\n",
      "0    https://data.justice.cz/zdroj/úřední_deska/002...  Časový okamžik   \n",
      "1    https://data.justice.cz/zdroj/úřední_deska/002...  Časový okamžik   \n",
      "2    https://data.justice.cz/zdroj/úřední_deska/002...  Časový okamžik   \n",
      "3    https://data.justice.cz/zdroj/úřední_deska/002...  Časový okamžik   \n",
      "4    https://data.justice.cz/zdroj/úřední_deska/002...  Časový okamžik   \n",
      "..                                                 ...             ...   \n",
      "240  https://data.justice.cz/zdroj/úřední_deska/002...  Časový okamžik   \n",
      "241  https://data.justice.cz/zdroj/úřední_deska/002...  Časový okamžik   \n",
      "242  https://data.justice.cz/zdroj/úřední_deska/002...  Časový okamžik   \n",
      "243  https://data.justice.cz/zdroj/úřední_deska/002...  Časový okamžik   \n",
      "244  https://data.justice.cz/zdroj/úřední_deska/002...  Časový okamžik   \n",
      "\n",
      "    vyvěšení.datum_a_čas                                           název.cs  \\\n",
      "0    2013-02-26T12:00:00                         Výroční zpráva za rok 2012   \n",
      "1    2020-11-24T09:48:29                             Oznámení Palijová Jana   \n",
      "2    2023-12-19T08:16:10                                                      \n",
      "3    2024-05-17T09:14:25  Usnesení-ustanovení opatrovníka - společnosti ...   \n",
      "4    2024-05-17T13:22:51  Oznámení pro vyvěšení na úřední desce soudu (§...   \n",
      "..                   ...                                                ...   \n",
      "240  2015-02-26T07:48:03                         Výroční zpráva za rok 2014   \n",
      "241  2014-02-13T08:59:03                         Výroční zpráva za rok 2013   \n",
      "242  2014-01-02T10:46:13                          Rozvrh práce pro rok 2014   \n",
      "243  2013-07-08T09:35:38    Informace o příjmu elektronických podání soudem   \n",
      "244  2013-02-06T13:04:34                          Rozvrh práce pro rok 2013   \n",
      "\n",
      "    relevantní_do.typ relevantní_do.nespecifikovaný relevantní_do.datum_a_čas  \\\n",
      "0      Časový okamžik                          True                       NaN   \n",
      "1      Časový okamžik                          True                       NaN   \n",
      "2      Časový okamžik                          True                       NaN   \n",
      "3      Časový okamžik                           NaN       2024-06-18T23:59:59   \n",
      "4      Časový okamžik                           NaN                       NaN   \n",
      "..                ...                           ...                       ...   \n",
      "240    Časový okamžik                          True                       NaN   \n",
      "241    Časový okamžik                          True                       NaN   \n",
      "242    Časový okamžik                          True                       NaN   \n",
      "243    Časový okamžik                          True                       NaN   \n",
      "244    Časový okamžik                          True                       NaN   \n",
      "\n",
      "    relevantní_do.datum vyvěšení.datum umístění  \n",
      "0                   NaN            NaN      NaN  \n",
      "1                   NaN            NaN      NaN  \n",
      "2                   NaN            NaN      NaN  \n",
      "3                   NaN            NaN      NaN  \n",
      "4            2024-06-17            NaN      NaN  \n",
      "..                  ...            ...      ...  \n",
      "240                 NaN            NaN      NaN  \n",
      "241                 NaN            NaN      NaN  \n",
      "242                 NaN            NaN      NaN  \n",
      "243                 NaN            NaN      NaN  \n",
      "244                 NaN            NaN      NaN  \n",
      "\n",
      "[245 rows x 16 columns]\n",
      "hackiton/udesky/data/krs_praha.jsonld\n",
      "          spisová_značka               revize  \\\n",
      "0    81 INS 13344 / 2023  22.09.2023 13:29:52   \n",
      "1    74 INS 24600 / 2020  06.09.2021 13:38:15   \n",
      "2     65 INS 5882 / 2024   17.05.2024 8:04:48   \n",
      "3        21 Co 88 / 2024  22.05.2024 13:49:09   \n",
      "4    68 INS 18116 / 2022   23.05.2024 7:49:09   \n",
      "..                   ...                  ...   \n",
      "639      Spr 1174 / 2014   01.09.2015 8:53:44   \n",
      "640      Spr 1170 / 2014   15.09.2015 9:53:49   \n",
      "641      Spr 1174 / 2014  31.07.2015 14:30:49   \n",
      "642      Spr 1170 / 2014   27.06.2016 9:51:23   \n",
      "643      Spr 1174 / 2014  01.07.2015 10:34:33   \n",
      "\n",
      "                                              dokument  \\\n",
      "0    [{'typ': ['Digitální objekt'], 'url': 'https:/...   \n",
      "1                                                   []   \n",
      "2    [{'typ': ['Digitální objekt'], 'url': 'https:/...   \n",
      "3    [{'typ': ['Digitální objekt'], 'url': 'https:/...   \n",
      "4    [{'typ': ['Digitální objekt'], 'url': 'https:/...   \n",
      "..                                                 ...   \n",
      "639  [{'typ': ['Digitální objekt'], 'url': 'https:/...   \n",
      "640  [{'typ': ['Digitální objekt'], 'url': 'https:/...   \n",
      "641  [{'typ': ['Digitální objekt'], 'url': 'https:/...   \n",
      "642  [{'typ': ['Digitální objekt'], 'url': 'https:/...   \n",
      "643  [{'typ': ['Digitální objekt'], 'url': 'https:/...   \n",
      "\n",
      "                                                agenda  \\\n",
      "0    [{'typ': 'Agenda', 'název': {'cs': 'Insolvenčn...   \n",
      "1    [{'typ': 'Agenda', 'název': {'cs': 'Insolvenčn...   \n",
      "2    [{'typ': 'Agenda', 'název': {'cs': 'Insolvenčn...   \n",
      "3    [{'typ': 'Agenda', 'název': {'cs': 'Občanskopr...   \n",
      "4    [{'typ': 'Agenda', 'název': {'cs': 'Insolvenčn...   \n",
      "..                                                 ...   \n",
      "639  [{'typ': 'Agenda', 'název': {'cs': 'Správa sou...   \n",
      "640  [{'typ': 'Agenda', 'název': {'cs': 'Správa sou...   \n",
      "641  [{'typ': 'Agenda', 'název': {'cs': 'Správa sou...   \n",
      "642  [{'typ': 'Agenda', 'název': {'cs': 'Správa sou...   \n",
      "643  [{'typ': 'Agenda', 'název': {'cs': 'Správa sou...   \n",
      "\n",
      "                                               typ  \\\n",
      "0    [Digitální objekt, Informace na úřední desce]   \n",
      "1    [Digitální objekt, Informace na úřední desce]   \n",
      "2    [Digitální objekt, Informace na úřední desce]   \n",
      "3    [Digitální objekt, Informace na úřední desce]   \n",
      "4    [Digitální objekt, Informace na úřední desce]   \n",
      "..                                             ...   \n",
      "639  [Digitální objekt, Informace na úřední desce]   \n",
      "640  [Digitální objekt, Informace na úřední desce]   \n",
      "641  [Digitální objekt, Informace na úřední desce]   \n",
      "642  [Digitální objekt, Informace na úřední desce]   \n",
      "643  [Digitální objekt, Informace na úřední desce]   \n",
      "\n",
      "                                                   url  \\\n",
      "0    https://infodeska.justice.cz/vyveseni.aspx?vyv...   \n",
      "1    https://infodeska.justice.cz/vyveseni.aspx?vyv...   \n",
      "2    https://infodeska.justice.cz/vyveseni.aspx?vyv...   \n",
      "3    https://infodeska.justice.cz/vyveseni.aspx?vyv...   \n",
      "4    https://infodeska.justice.cz/vyveseni.aspx?vyv...   \n",
      "..                                                 ...   \n",
      "639  https://infodeska.justice.cz/vyveseni.aspx?vyv...   \n",
      "640  https://infodeska.justice.cz/vyveseni.aspx?vyv...   \n",
      "641  https://infodeska.justice.cz/vyveseni.aspx?vyv...   \n",
      "642  https://infodeska.justice.cz/vyveseni.aspx?vyv...   \n",
      "643  https://infodeska.justice.cz/vyveseni.aspx?vyv...   \n",
      "\n",
      "                                                   iri    vyvěšení.typ  \\\n",
      "0    https://data.justice.cz/zdroj/úřední_deska/002...  Časový okamžik   \n",
      "1    https://data.justice.cz/zdroj/úřední_deska/002...  Časový okamžik   \n",
      "2    https://data.justice.cz/zdroj/úřední_deska/002...  Časový okamžik   \n",
      "3    https://data.justice.cz/zdroj/úřední_deska/002...  Časový okamžik   \n",
      "4    https://data.justice.cz/zdroj/úřední_deska/002...  Časový okamžik   \n",
      "..                                                 ...             ...   \n",
      "639  https://data.justice.cz/zdroj/úřední_deska/002...  Časový okamžik   \n",
      "640  https://data.justice.cz/zdroj/úřední_deska/002...  Časový okamžik   \n",
      "641  https://data.justice.cz/zdroj/úřední_deska/002...  Časový okamžik   \n",
      "642  https://data.justice.cz/zdroj/úřední_deska/002...  Časový okamžik   \n",
      "643  https://data.justice.cz/zdroj/úřední_deska/002...  Časový okamžik   \n",
      "\n",
      "    vyvěšení.datum_a_čas                                   název.cs  \\\n",
      "0    2023-09-22T13:29:52                                              \n",
      "1    2021-09-06T13:38:15                                              \n",
      "2    2024-05-17T08:04:48          Sdělení dle § 49 odst. 4 o. s. ř.   \n",
      "3    2024-05-22T13:49:09               Oznámení - Doručení typ III.   \n",
      "4    2024-05-23T07:49:09                Opětovné doručení vyhláškou   \n",
      "..                   ...                                        ...   \n",
      "639  2015-09-01T08:53:44                        Změna RP č. 11/2015   \n",
      "640  2015-08-31T15:45:00  Rozvrh práce KS Praha platný k 1. 9. 2015   \n",
      "641  2015-07-31T14:30:49                        Změna RP č. 10/2015   \n",
      "642  2015-07-31T14:29:31  Rozvrh práce KS Praha platný k 1. 8. 2015   \n",
      "643  2015-07-01T10:34:33                          Změna RP č.9/2015   \n",
      "\n",
      "    relevantní_do.typ relevantní_do.nespecifikovaný relevantní_do.datum  \\\n",
      "0      Časový okamžik                          True                 NaN   \n",
      "1      Časový okamžik                          True                 NaN   \n",
      "2      Časový okamžik                           NaN          2024-06-17   \n",
      "3      Časový okamžik                           NaN                 NaN   \n",
      "4      Časový okamžik                           NaN          2024-06-07   \n",
      "..                ...                           ...                 ...   \n",
      "639    Časový okamžik                          True                 NaN   \n",
      "640    Časový okamžik                          True                 NaN   \n",
      "641    Časový okamžik                          True                 NaN   \n",
      "642    Časový okamžik                          True                 NaN   \n",
      "643    Časový okamžik                          True                 NaN   \n",
      "\n",
      "    relevantní_do.datum_a_čas  \n",
      "0                         NaN  \n",
      "1                         NaN  \n",
      "2                         NaN  \n",
      "3         2024-06-20T23:59:59  \n",
      "4                         NaN  \n",
      "..                        ...  \n",
      "639                       NaN  \n",
      "640                       NaN  \n",
      "641                       NaN  \n",
      "642                       NaN  \n",
      "643                       NaN  \n",
      "\n",
      "[644 rows x 14 columns]\n",
      "hackiton/udesky/data/ustecky_kraj.jsonld\n",
      "                                               typ  \\\n",
      "0    [Digitální objekt, Informace na úřední desce]   \n",
      "1    [Digitální objekt, Informace na úřední desce]   \n",
      "2    [Digitální objekt, Informace na úřední desce]   \n",
      "3    [Digitální objekt, Informace na úřední desce]   \n",
      "4    [Digitální objekt, Informace na úřední desce]   \n",
      "..                                             ...   \n",
      "204  [Digitální objekt, Informace na úřední desce]   \n",
      "205  [Digitální objekt, Informace na úřední desce]   \n",
      "206  [Digitální objekt, Informace na úřední desce]   \n",
      "207  [Digitální objekt, Informace na úřední desce]   \n",
      "208  [Digitální objekt, Informace na úřední desce]   \n",
      "\n",
      "                                                   iri  \\\n",
      "0    https://linked.cuzk.cz/resource/uredni-deska/k...   \n",
      "1    https://linked.cuzk.cz/resource/uredni-deska/k...   \n",
      "2    https://linked.cuzk.cz/resource/uredni-deska/k...   \n",
      "3    https://linked.cuzk.cz/resource/uredni-deska/k...   \n",
      "4    https://linked.cuzk.cz/resource/uredni-deska/k...   \n",
      "..                                                 ...   \n",
      "204  https://linked.cuzk.cz/resource/uredni-deska/k...   \n",
      "205  https://linked.cuzk.cz/resource/uredni-deska/k...   \n",
      "206  https://linked.cuzk.cz/resource/uredni-deska/k...   \n",
      "207  https://linked.cuzk.cz/resource/uredni-deska/k...   \n",
      "208  https://linked.cuzk.cz/resource/uredni-deska/k...   \n",
      "\n",
      "                                                   url  \\\n",
      "0    https://www.cuzk.cz/getattachment/FCEC89D8-C03...   \n",
      "1    https://www.cuzk.cz/getattachment/96ADC90B-152...   \n",
      "2    https://www.cuzk.cz/getattachment/812A1EC8-91D...   \n",
      "3    https://www.cuzk.cz/getattachment/F08A6607-D1E...   \n",
      "4    https://www.cuzk.cz/getattachment/BDBB3A9A-841...   \n",
      "..                                                 ...   \n",
      "204  https://www.cuzk.cz/getattachment/0512D297-CFD...   \n",
      "205  https://www.cuzk.cz/getattachment/EFEE3288-6E0...   \n",
      "206  https://www.cuzk.cz/getattachment/8F6CD702-96D...   \n",
      "207  https://www.cuzk.cz/getattachment/FADB7237-79C...   \n",
      "208  https://www.cuzk.cz/getattachment/F8964786-A1F...   \n",
      "\n",
      "                                              název.cs    vyvěšení.typ  \\\n",
      "0    Oznámení o obnově katastrálního operátu novým ...  Časový okamžik   \n",
      "1    Oznámeni o obnově katastralního operátu novým ...  Časový okamžik   \n",
      "2    Veřejná vyhláška ZDŘ-188/2024-506 Obecné obesl...  Časový okamžik   \n",
      "3    Veřejná vyhláška ZDŘ-12/2024-509 Obecné obeslá...  Časový okamžik   \n",
      "4    Veřejná vyhláška ZDŘ-24/2023-507 Obecné obeslá...  Časový okamžik   \n",
      "..                                                 ...             ...   \n",
      "204  Veřejná vyhláška V-860/2024-507 Vyrozumění o p...  Časový okamžik   \n",
      "205  Veřejná vyhláška V-804/2024-507 Vyrozumění o p...  Časový okamžik   \n",
      "206  Veřejná vyhláška V-798/2024-507 Vyrozumění o p...  Časový okamžik   \n",
      "207  Veřejná vyhláška V-798/2024-507 Vyrozumění o p...  Časový okamžik   \n",
      "208  Veřejná vyhláška V-798/2024-507 Vyrozumění o p...  Časový okamžik   \n",
      "\n",
      "    vyvěšení.datum relevantní_do.typ relevantní_do.datum  \\\n",
      "0       2024-02-21    Časový okamžik          2024-05-31   \n",
      "1       2024-02-29    Časový okamžik          2024-09-30   \n",
      "2       2024-02-27    Časový okamžik          2025-02-28   \n",
      "3       2024-03-05    Časový okamžik          2025-03-17   \n",
      "4       2023-11-20    Časový okamžik          2024-11-21   \n",
      "..             ...               ...                 ...   \n",
      "204     2024-05-09    Časový okamžik          2024-05-25   \n",
      "205     2024-05-09    Časový okamžik          2024-05-25   \n",
      "206     2024-05-09    Časový okamžik          2024-05-25   \n",
      "207     2024-05-09    Časový okamžik          2024-05-25   \n",
      "208     2024-05-09    Časový okamžik          2024-05-25   \n",
      "\n",
      "    relevantní_do.nespecifikovaný vyvěšení.nespecifikovaný  \n",
      "0                             NaN                      NaN  \n",
      "1                             NaN                      NaN  \n",
      "2                             NaN                      NaN  \n",
      "3                             NaN                      NaN  \n",
      "4                             NaN                      NaN  \n",
      "..                            ...                      ...  \n",
      "204                           NaN                      NaN  \n",
      "205                           NaN                      NaN  \n",
      "206                           NaN                      NaN  \n",
      "207                           NaN                      NaN  \n",
      "208                           NaN                      NaN  \n",
      "\n",
      "[209 rows x 10 columns]\n"
     ]
    },
    {
     "ename": "KeyError",
     "evalue": "'vyvěšení.datum_a_čas'",
     "output_type": "error",
     "traceback": [
      "\u001b[0;31m---------------------------------------------------------------------------\u001b[0m",
      "\u001b[0;31mKeyError\u001b[0m                                  Traceback (most recent call last)",
      "File \u001b[0;32m~/Documents/GitHub/Hackiton2024/venv/lib/python3.10/site-packages/pandas/core/indexes/base.py:3805\u001b[0m, in \u001b[0;36mIndex.get_loc\u001b[0;34m(self, key)\u001b[0m\n\u001b[1;32m   3804\u001b[0m \u001b[38;5;28;01mtry\u001b[39;00m:\n\u001b[0;32m-> 3805\u001b[0m     \u001b[38;5;28;01mreturn\u001b[39;00m \u001b[38;5;28;43mself\u001b[39;49m\u001b[38;5;241;43m.\u001b[39;49m\u001b[43m_engine\u001b[49m\u001b[38;5;241;43m.\u001b[39;49m\u001b[43mget_loc\u001b[49m\u001b[43m(\u001b[49m\u001b[43mcasted_key\u001b[49m\u001b[43m)\u001b[49m\n\u001b[1;32m   3806\u001b[0m \u001b[38;5;28;01mexcept\u001b[39;00m \u001b[38;5;167;01mKeyError\u001b[39;00m \u001b[38;5;28;01mas\u001b[39;00m err:\n",
      "File \u001b[0;32mindex.pyx:167\u001b[0m, in \u001b[0;36mpandas._libs.index.IndexEngine.get_loc\u001b[0;34m()\u001b[0m\n",
      "File \u001b[0;32mindex.pyx:196\u001b[0m, in \u001b[0;36mpandas._libs.index.IndexEngine.get_loc\u001b[0;34m()\u001b[0m\n",
      "File \u001b[0;32mpandas/_libs/hashtable_class_helper.pxi:7081\u001b[0m, in \u001b[0;36mpandas._libs.hashtable.PyObjectHashTable.get_item\u001b[0;34m()\u001b[0m\n",
      "File \u001b[0;32mpandas/_libs/hashtable_class_helper.pxi:7089\u001b[0m, in \u001b[0;36mpandas._libs.hashtable.PyObjectHashTable.get_item\u001b[0;34m()\u001b[0m\n",
      "\u001b[0;31mKeyError\u001b[0m: 'vyvěšení.datum_a_čas'",
      "\nThe above exception was the direct cause of the following exception:\n",
      "\u001b[0;31mKeyError\u001b[0m                                  Traceback (most recent call last)",
      "Cell \u001b[0;32mIn[34], line 35\u001b[0m\n\u001b[1;32m     33\u001b[0m df \u001b[38;5;241m=\u001b[39m pd\u001b[38;5;241m.\u001b[39mjson_normalize(data[\u001b[38;5;124m'\u001b[39m\u001b[38;5;124minformace\u001b[39m\u001b[38;5;124m'\u001b[39m])\n\u001b[1;32m     34\u001b[0m \u001b[38;5;28mprint\u001b[39m(df)\n\u001b[0;32m---> 35\u001b[0m df[\u001b[38;5;124m'\u001b[39m\u001b[38;5;124mdatum\u001b[39m\u001b[38;5;124m'\u001b[39m] \u001b[38;5;241m=\u001b[39m pd\u001b[38;5;241m.\u001b[39mto_datetime(\u001b[43mdf\u001b[49m\u001b[43m[\u001b[49m\u001b[38;5;124;43m'\u001b[39;49m\u001b[38;5;124;43mvyvěšení.datum_a_čas\u001b[39;49m\u001b[38;5;124;43m'\u001b[39;49m\u001b[43m]\u001b[49m)\n\u001b[1;32m     36\u001b[0m df[\u001b[38;5;124m'\u001b[39m\u001b[38;5;124mrok\u001b[39m\u001b[38;5;124m'\u001b[39m] \u001b[38;5;241m=\u001b[39m df[\u001b[38;5;124m'\u001b[39m\u001b[38;5;124mdatum\u001b[39m\u001b[38;5;124m'\u001b[39m]\u001b[38;5;241m.\u001b[39mdt\u001b[38;5;241m.\u001b[39myear\n\u001b[1;32m     37\u001b[0m df[\u001b[38;5;124m'\u001b[39m\u001b[38;5;124mrok\u001b[39m\u001b[38;5;124m'\u001b[39m] \u001b[38;5;241m=\u001b[39m df[\u001b[38;5;124m'\u001b[39m\u001b[38;5;124mrok\u001b[39m\u001b[38;5;124m'\u001b[39m]\u001b[38;5;241m.\u001b[39mfillna(\u001b[38;5;241m0\u001b[39m)\n",
      "File \u001b[0;32m~/Documents/GitHub/Hackiton2024/venv/lib/python3.10/site-packages/pandas/core/frame.py:4102\u001b[0m, in \u001b[0;36mDataFrame.__getitem__\u001b[0;34m(self, key)\u001b[0m\n\u001b[1;32m   4100\u001b[0m \u001b[38;5;28;01mif\u001b[39;00m \u001b[38;5;28mself\u001b[39m\u001b[38;5;241m.\u001b[39mcolumns\u001b[38;5;241m.\u001b[39mnlevels \u001b[38;5;241m>\u001b[39m \u001b[38;5;241m1\u001b[39m:\n\u001b[1;32m   4101\u001b[0m     \u001b[38;5;28;01mreturn\u001b[39;00m \u001b[38;5;28mself\u001b[39m\u001b[38;5;241m.\u001b[39m_getitem_multilevel(key)\n\u001b[0;32m-> 4102\u001b[0m indexer \u001b[38;5;241m=\u001b[39m \u001b[38;5;28;43mself\u001b[39;49m\u001b[38;5;241;43m.\u001b[39;49m\u001b[43mcolumns\u001b[49m\u001b[38;5;241;43m.\u001b[39;49m\u001b[43mget_loc\u001b[49m\u001b[43m(\u001b[49m\u001b[43mkey\u001b[49m\u001b[43m)\u001b[49m\n\u001b[1;32m   4103\u001b[0m \u001b[38;5;28;01mif\u001b[39;00m is_integer(indexer):\n\u001b[1;32m   4104\u001b[0m     indexer \u001b[38;5;241m=\u001b[39m [indexer]\n",
      "File \u001b[0;32m~/Documents/GitHub/Hackiton2024/venv/lib/python3.10/site-packages/pandas/core/indexes/base.py:3812\u001b[0m, in \u001b[0;36mIndex.get_loc\u001b[0;34m(self, key)\u001b[0m\n\u001b[1;32m   3807\u001b[0m     \u001b[38;5;28;01mif\u001b[39;00m \u001b[38;5;28misinstance\u001b[39m(casted_key, \u001b[38;5;28mslice\u001b[39m) \u001b[38;5;129;01mor\u001b[39;00m (\n\u001b[1;32m   3808\u001b[0m         \u001b[38;5;28misinstance\u001b[39m(casted_key, abc\u001b[38;5;241m.\u001b[39mIterable)\n\u001b[1;32m   3809\u001b[0m         \u001b[38;5;129;01mand\u001b[39;00m \u001b[38;5;28many\u001b[39m(\u001b[38;5;28misinstance\u001b[39m(x, \u001b[38;5;28mslice\u001b[39m) \u001b[38;5;28;01mfor\u001b[39;00m x \u001b[38;5;129;01min\u001b[39;00m casted_key)\n\u001b[1;32m   3810\u001b[0m     ):\n\u001b[1;32m   3811\u001b[0m         \u001b[38;5;28;01mraise\u001b[39;00m InvalidIndexError(key)\n\u001b[0;32m-> 3812\u001b[0m     \u001b[38;5;28;01mraise\u001b[39;00m \u001b[38;5;167;01mKeyError\u001b[39;00m(key) \u001b[38;5;28;01mfrom\u001b[39;00m \u001b[38;5;21;01merr\u001b[39;00m\n\u001b[1;32m   3813\u001b[0m \u001b[38;5;28;01mexcept\u001b[39;00m \u001b[38;5;167;01mTypeError\u001b[39;00m:\n\u001b[1;32m   3814\u001b[0m     \u001b[38;5;66;03m# If we have a listlike key, _check_indexing_error will raise\u001b[39;00m\n\u001b[1;32m   3815\u001b[0m     \u001b[38;5;66;03m#  InvalidIndexError. Otherwise we fall through and re-raise\u001b[39;00m\n\u001b[1;32m   3816\u001b[0m     \u001b[38;5;66;03m#  the TypeError.\u001b[39;00m\n\u001b[1;32m   3817\u001b[0m     \u001b[38;5;28mself\u001b[39m\u001b[38;5;241m.\u001b[39m_check_indexing_error(key)\n",
      "\u001b[0;31mKeyError\u001b[0m: 'vyvěšení.datum_a_čas'"
     ]
    }
   ],
   "source": [
    "jihocesky = \"hackiton/udesky/data/krs_jihocesky.jsonld\"\n",
    "jihomoravsky= \"hackiton/udesky/data/krs_jihomoravsky.jsonld\"\n",
    "kralovehradecky = \"hackiton/udesky/data/krs_kralovehradecky.jsonld\"\n",
    "moravskoslezky = \"hackiton/udesky/data/krs_moravskoslezky.jsonld\"\n",
    "plzensky = \"hackiton/udesky/data/krs_plzensky.jsonld\"\n",
    "praha = \"hackiton/udesky/data/krs_praha.jsonld\"\n",
    "ustecky = \"hackiton/udesky/data/ustecky_kraj.jsonld\"\n",
    "krajenazvy = (\"Jihoceský\", \"Jihomoravský\", \"Kralovehradecký\",\"Moravskoslezký\",\"Plzeňský\", \"Praha\",\"Ústecký\",\"Středočeský\",\"Liberecký\",\"Karlovarský\",\"Jihočeský\",\"Vysočina\",\"Pardubický\",\n",
    "              \"Olomoucký\", \"Zlínský\")\n",
    "\n",
    "kraje = [jihocesky,jihocesky,kralovehradecky,moravskoslezky,plzensky,praha,ustecky]\n",
    "\n",
    "\n",
    "dta_kraje = {\n",
    "    \"nazev_kraje\":[\"\"],\n",
    "    2018:[\"\"],\n",
    "    2019:[\"\"],\n",
    "    2020:[\"\"],\n",
    "    2021:[\"\"],\n",
    "    2022:[\"\"],\n",
    "    2023:[\"\"],\n",
    "    2024:[\"\"]\n",
    "}\n",
    "df_d = pd.DataFrame(dta_kraje)\n",
    "\n",
    "b=0\n",
    "\n",
    "for x in kraje:\n",
    "    print(x)\n",
    "    with open(x, 'r', encoding='utf-8') as file:\n",
    "        data = json.load(file)\n",
    "\n",
    "    df = pd.json_normalize(data['informace'])\n",
    "    print(df[\"revize\"])\n",
    "    df['datum'] = pd.to_datetime(df['vyvěšení.datum_a_čas'])\n",
    "    df['rok'] = df['datum'].dt.year\n",
    "    df['rok'] = df['rok'].fillna(0)\n",
    "    df['rok'] = df['rok'].astype(int)\n",
    "    df[\"count\"] = 1\n",
    "    df_count_per_year = df.groupby('rok').size().reset_index(name='count')\n",
    "    df_count_per_year.reset_index(drop=True, inplace=True)\n",
    "    df_count_per_year.sort_values(by=[\"rok\"], ascending=False)\n",
    "    df[\"count\"] = 1\n",
    "\n",
    "    df_d.at[b, \"nazev_kraje\"] = krajenazvy[b]\n",
    "    pocet = df_count_per_year.shape[0]\n",
    "    for i in range(pocet):\n",
    "        if df_count_per_year[\"rok\"].loc[i] > 2018:\n",
    "            df_d.at[b,df_count_per_year[\"rok\"].loc[i]] = df_count_per_year[\"count\"].loc[i]\n",
    "\n",
    "\n",
    "    b += 1\n",
    "for i in range(0,8):\n",
    "      df_d.at[b, \"nazevkraje\"] = jmena[b]\n",
    "      b+=1\n",
    "\n",
    "print(df_d.to_string())\n",
    "# kraje_soubory= (jihocesky, jihomoravsky, kralovehradecky, moravskoslezky, plzensky, praha,ustecky)\n",
    "# with open(\"hackiton/udesky/data/krs_ustecky.jsonld\", 'r', encoding='utf-8') as file:\n",
    "#     data = json.load(file)\n",
    "\n",
    "# df = pd.json_normalize(data['informace'])\n",
    "# df['datum'] = pd.to_datetime(df['vyvěšení.datum_a_čas'])\n",
    "# df['rok'] = df['datum'].dt.year\n",
    "# df['rok'] = df['rok'].fillna(0)\n",
    "# df['rok'] = df['rok'].astype(int)\n",
    "# df[\"count\"] = 1\n",
    "# df_count_per_year = df.groupby('rok').size().reset_index(name='count')\n",
    "# df_count_per_year.reset_index(drop=True, inplace=True)\n",
    "# df_count_per_year.sort_values(by=[\"rok\"], ascending=False)\n",
    "# df_count_per_year\n"
   ]
  }
 ],
 "metadata": {
  "kernelspec": {
   "display_name": "venv",
   "language": "python",
   "name": "python3"
  },
  "language_info": {
   "codemirror_mode": {
    "name": "ipython",
    "version": 3
   },
   "file_extension": ".py",
   "mimetype": "text/x-python",
   "name": "python",
   "nbconvert_exporter": "python",
   "pygments_lexer": "ipython3",
   "version": "3.10.12"
  }
 },
 "nbformat": 4,
 "nbformat_minor": 2
}
