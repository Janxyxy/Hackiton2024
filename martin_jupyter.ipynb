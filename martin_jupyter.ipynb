{
 "cells": [
  {
   "cell_type": "code",
   "execution_count": 4,
   "metadata": {},
   "outputs": [],
   "source": [
    "import pandas as pd\n",
    "import json"
   ]
  },
  {
   "cell_type": "code",
   "execution_count": 21,
   "metadata": {},
   "outputs": [
    {
     "name": "stdout",
     "output_type": "stream",
     "text": [
      "31    Veřejná vyhláška ZDŘ-193/2023-509 Obecné obesl...\n",
      "Name: název.cs, dtype: object\n"
     ]
    }
   ],
   "source": [
    "file=\"hackiton/udesky/data/560.jsonld\"\n",
    "df_ciselnik = pd.read_csv(\"hackiton/udesky/data/ciselnik.csv\")\n",
    "# df = pd.read_json(file, lines= True,orient= \"row\")\n",
    "# print(df)\n",
    "with open(file, 'r', encoding='utf-8') as file:\n",
    "    data = json.load(file)\n",
    "\n",
    "# Normalizace JSON dat do DataFrame\n",
    "df = pd.json_normalize(data['informace'])\n",
    "\n",
    "# Zobrazení prvních pár řádků DataFrame\n",
    "cs = df[\"název.cs\"]\n",
    "# print(cs)\n",
    "# df.loc[0].loc[\"název.cs\"]\n",
    "df_usetecky = df_ciselnik[df_ciselnik[\"kraj_name\"] == \"Ústecký kraj\"]\n",
    "# print(df_usetecky)\n",
    "df_vyhlaseni = df[df['název.cs'].str.contains(\"Veřejná vyhláška\", na=False)]\n",
    "df_vyhlaseni = df_vyhlaseni[df_vyhlaseni[\"název.cs\"].str.contains('|'.join(df_usetecky[\"obec_name\"]), na=False)]\n",
    "\n",
    "print(df_vyhlaseni[\"název.cs\"])\n",
    "\n"
   ]
  },
  {
   "cell_type": "code",
   "execution_count": 51,
   "metadata": {},
   "outputs": [
    {
     "name": "stdout",
     "output_type": "stream",
     "text": [
      "   rok_vyvěšení  count\n",
      "0          2023      2\n",
      "1          2024    501\n"
     ]
    },
    {
     "ename": "AttributeError",
     "evalue": "'DataFrame' object has no attribute 'append'",
     "output_type": "error",
     "traceback": [
      "\u001b[0;31m---------------------------------------------------------------------------\u001b[0m",
      "\u001b[0;31mAttributeError\u001b[0m                            Traceback (most recent call last)",
      "\u001b[0;32m/tmp/ipykernel_55584/1762036961.py\u001b[0m in \u001b[0;36m?\u001b[0;34m()\u001b[0m\n\u001b[1;32m     21\u001b[0m     \u001b[0;34m'2023'\u001b[0m\u001b[0;34m:\u001b[0m \u001b[0;34m[\u001b[0m\u001b[0mdf_count_per_year\u001b[0m\u001b[0;34m[\u001b[0m\u001b[0;34m\"count\"\u001b[0m\u001b[0;34m]\u001b[0m\u001b[0;34m.\u001b[0m\u001b[0mloc\u001b[0m\u001b[0;34m[\u001b[0m\u001b[0;36m0\u001b[0m\u001b[0;34m]\u001b[0m\u001b[0;34m]\u001b[0m\u001b[0;34m,\u001b[0m\u001b[0;34m\u001b[0m\u001b[0;34m\u001b[0m\u001b[0m\n\u001b[1;32m     22\u001b[0m     '2024': [df_count_per_year[\"count\"].loc[1]]}\n\u001b[1;32m     23\u001b[0m \u001b[0mdf2\u001b[0m \u001b[0;34m=\u001b[0m \u001b[0mpd\u001b[0m\u001b[0;34m.\u001b[0m\u001b[0mDataFrame\u001b[0m\u001b[0;34m(\u001b[0m\u001b[0mdata\u001b[0m\u001b[0;34m)\u001b[0m\u001b[0;34m\u001b[0m\u001b[0;34m\u001b[0m\u001b[0m\n\u001b[1;32m     24\u001b[0m \u001b[0mnew_row\u001b[0m \u001b[0;34m=\u001b[0m \u001b[0;34m{\u001b[0m\u001b[0;34m\"název_obce\"\u001b[0m\u001b[0;34m:\u001b[0m\u001b[0;34m\"Děčín\"\u001b[0m\u001b[0;34m,\u001b[0m \u001b[0;34m\"2023\"\u001b[0m\u001b[0;34m:\u001b[0m\u001b[0mdf_count_per_year\u001b[0m\u001b[0;34m[\u001b[0m\u001b[0;34m\"count\"\u001b[0m\u001b[0;34m]\u001b[0m\u001b[0;34m.\u001b[0m\u001b[0mloc\u001b[0m\u001b[0;34m[\u001b[0m\u001b[0;36m0\u001b[0m\u001b[0;34m]\u001b[0m\u001b[0;34m,\u001b[0m \u001b[0;34m\"2024\"\u001b[0m\u001b[0;34m:\u001b[0m\u001b[0mdf_count_per_year\u001b[0m\u001b[0;34m[\u001b[0m\u001b[0;34m\"count\"\u001b[0m\u001b[0;34m]\u001b[0m\u001b[0;34m.\u001b[0m\u001b[0mloc\u001b[0m\u001b[0;34m[\u001b[0m\u001b[0;36m1\u001b[0m\u001b[0;34m]\u001b[0m\u001b[0;34m}\u001b[0m\u001b[0;34m\u001b[0m\u001b[0;34m\u001b[0m\u001b[0m\n\u001b[0;32m---> 25\u001b[0;31m \u001b[0mdf2\u001b[0m \u001b[0;34m=\u001b[0m \u001b[0mdf2\u001b[0m\u001b[0;34m.\u001b[0m\u001b[0mappend\u001b[0m\u001b[0;34m(\u001b[0m\u001b[0mnew_row\u001b[0m\u001b[0;34m,\u001b[0m \u001b[0mignore_index\u001b[0m\u001b[0;34m=\u001b[0m\u001b[0;32mTrue\u001b[0m\u001b[0;34m)\u001b[0m\u001b[0;34m\u001b[0m\u001b[0;34m\u001b[0m\u001b[0m\n\u001b[0m\u001b[1;32m     26\u001b[0m \u001b[0;34m\u001b[0m\u001b[0m\n\u001b[1;32m     27\u001b[0m \u001b[0;34m\u001b[0m\u001b[0m\n\u001b[1;32m     28\u001b[0m \u001b[0mprint\u001b[0m\u001b[0;34m(\u001b[0m\u001b[0mdf2\u001b[0m\u001b[0;34m)\u001b[0m\u001b[0;34m\u001b[0m\u001b[0;34m\u001b[0m\u001b[0m\n",
      "\u001b[0;32m/usr/local/lib/python3.10/dist-packages/pandas/core/generic.py\u001b[0m in \u001b[0;36m?\u001b[0;34m(self, name)\u001b[0m\n\u001b[1;32m   6295\u001b[0m             \u001b[0;32mand\u001b[0m \u001b[0mname\u001b[0m \u001b[0;32mnot\u001b[0m \u001b[0;32min\u001b[0m \u001b[0mself\u001b[0m\u001b[0;34m.\u001b[0m\u001b[0m_accessors\u001b[0m\u001b[0;34m\u001b[0m\u001b[0;34m\u001b[0m\u001b[0m\n\u001b[1;32m   6296\u001b[0m             \u001b[0;32mand\u001b[0m \u001b[0mself\u001b[0m\u001b[0;34m.\u001b[0m\u001b[0m_info_axis\u001b[0m\u001b[0;34m.\u001b[0m\u001b[0m_can_hold_identifiers_and_holds_name\u001b[0m\u001b[0;34m(\u001b[0m\u001b[0mname\u001b[0m\u001b[0;34m)\u001b[0m\u001b[0;34m\u001b[0m\u001b[0;34m\u001b[0m\u001b[0m\n\u001b[1;32m   6297\u001b[0m         ):\n\u001b[1;32m   6298\u001b[0m             \u001b[0;32mreturn\u001b[0m \u001b[0mself\u001b[0m\u001b[0;34m[\u001b[0m\u001b[0mname\u001b[0m\u001b[0;34m]\u001b[0m\u001b[0;34m\u001b[0m\u001b[0;34m\u001b[0m\u001b[0m\n\u001b[0;32m-> 6299\u001b[0;31m         \u001b[0;32mreturn\u001b[0m \u001b[0mobject\u001b[0m\u001b[0;34m.\u001b[0m\u001b[0m__getattribute__\u001b[0m\u001b[0;34m(\u001b[0m\u001b[0mself\u001b[0m\u001b[0;34m,\u001b[0m \u001b[0mname\u001b[0m\u001b[0;34m)\u001b[0m\u001b[0;34m\u001b[0m\u001b[0;34m\u001b[0m\u001b[0m\n\u001b[0m",
      "\u001b[0;31mAttributeError\u001b[0m: 'DataFrame' object has no attribute 'append'"
     ]
    }
   ],
   "source": [
    "file = \"hackiton/udesky/data/soudy_decin.jsonld\"\n",
    "with open(file, 'r', encoding='utf-8') as file:\n",
    "    data = json.load(file)\n",
    "\n",
    "# Normalizace JSON dat do DataFrame\n",
    "df = pd.json_normalize(data['informace'])\n",
    "# print(df)\n",
    "df['vyvěšení.datum_a_čas'] = pd.to_datetime(df['vyvěšení.datum_a_čas'])\n",
    "\n",
    "# Extrahování roku a uložení do nového sloupce\n",
    "df['rok_vyvěšení'] = df['vyvěšení.datum_a_čas'].dt.year\n",
    "df[\"count\"] = 1\n",
    "df_count_per_year = df.groupby('rok_vyvěšení').size().reset_index(name='count')\n",
    "\n",
    "# Resetování indexu pro pěknější výstup\n",
    "df_count_per_year.reset_index(drop=True, inplace=True)\n",
    "\n",
    "print(df_count_per_year)\n",
    "data = {\n",
    "    'název_obce': [\"Děčín\"],\n",
    "    '2023': [df_count_per_year[\"count\"].loc[0]],\n",
    "    '2024': [df_count_per_year[\"count\"].loc[1]]}\n",
    "df2 = pd.DataFrame(data)\n",
    "new_row = {\"název_obce\":\"Děčín\", \"2023\":df_count_per_year[\"count\"].loc[0], \"2024\":df_count_per_year[\"count\"].loc[1]}\n",
    "df2 = df2.append(new_row, ignore_index=True)\n",
    "\n",
    "\n",
    "print(df2)"
   ]
  },
  {
   "cell_type": "code",
   "execution_count": 58,
   "metadata": {},
   "outputs": [
    {
     "name": "stdout",
     "output_type": "stream",
     "text": [
      "   rok_vyvěšení  count\n",
      "0          2022      1\n",
      "1          2023      3\n",
      "2          2024    574\n"
     ]
    }
   ],
   "source": [
    "file = \"hackiton/udesky/data/most_soud.jsonld\"\n",
    "with open(file, 'r', encoding='utf-8') as file:\n",
    "    data = json.load(file)\n",
    "\n",
    "df = pd.json_normalize(data['informace'])\n",
    "df['vyvěšení.datum_a_čas'] = pd.to_datetime(df['vyvěšení.datum_a_čas'])\n",
    "\n",
    "# Extrahování roku a uložení do nového sloupce\n",
    "df['rok_vyvěšení'] = df['vyvěšení.datum_a_čas'].dt.year\n",
    "df[\"count\"] = 1\n",
    "df_count_per_year = df.groupby('rok_vyvěšení').size().reset_index(name='count')\n",
    "\n",
    "# Resetování indexu pro pěknější výstup\n",
    "df_count_per_year.reset_index(drop=True, inplace=True)\n",
    "\n",
    "print(df_count_per_year)"
   ]
  }
 ],
 "metadata": {
  "kernelspec": {
   "display_name": "venv",
   "language": "python",
   "name": "python3"
  },
  "language_info": {
   "codemirror_mode": {
    "name": "ipython",
    "version": 3
   },
   "file_extension": ".py",
   "mimetype": "text/x-python",
   "name": "python",
   "nbconvert_exporter": "python",
   "pygments_lexer": "ipython3",
   "version": "3.10.12"
  }
 },
 "nbformat": 4,
 "nbformat_minor": 2
}
