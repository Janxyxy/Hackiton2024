{
 "cells": [
  {
   "cell_type": "code",
   "execution_count": 52,
   "metadata": {},
   "outputs": [
    {
     "name": "stdout",
     "output_type": "stream",
     "text": [
      "2.2.2\n"
     ]
    }
   ],
   "source": [
    "import pandas as pd\n",
    "print(pd.__version__)"
   ]
  },
  {
   "cell_type": "code",
   "execution_count": null,
   "metadata": {},
   "outputs": [],
   "source": [
    "df = pd.read_json('data/pcr_udeska.json')\n",
    "\n",
    "def extract_nazev_all(informace):\n",
    "    if isinstance(informace, list):\n",
    "        return [item.get('název', {}).get('cs') for item in informace if 'název' in item]\n",
    "    return None\n",
    "\n",
    "dfNazev= df['informace'].apply(extract_nazev_all).dropna()\n",
    "dfe = dfNazev\n",
    "\n",
    "dfe.to_json(\"pcr_iformace.json\", force_ascii=False)\n",
    "print(dfe.head(10))"
   ]
  }
 ],
 "metadata": {
  "kernelspec": {
   "display_name": "venv",
   "language": "python",
   "name": "python3"
  },
  "language_info": {
   "codemirror_mode": {
    "name": "ipython",
    "version": 3
   },
   "file_extension": ".py",
   "mimetype": "text/x-python",
   "name": "python",
   "nbconvert_exporter": "python",
   "pygments_lexer": "ipython3",
   "version": "3.10.11"
  }
 },
 "nbformat": 4,
 "nbformat_minor": 2
}
