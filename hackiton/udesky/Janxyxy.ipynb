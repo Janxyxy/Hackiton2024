{
 "cells": [
  {
   "cell_type": "code",
   "execution_count": 27,
   "metadata": {},
   "outputs": [
    {
     "name": "stdout",
     "output_type": "stream",
     "text": [
      "2.2.2\n"
     ]
    }
   ],
   "source": [
    "import pandas as pd\n",
    "import json\n",
    "print(pd.__version__)"
   ]
  },
  {
   "cell_type": "markdown",
   "metadata": {},
   "source": [
    "## Export informace"
   ]
  },
  {
   "cell_type": "code",
   "execution_count": 35,
   "metadata": {},
   "outputs": [],
   "source": [
    "df = pd.read_json('data/pcr_udeska.json')\n",
    "\n",
    "# Drop rows where the \"informace\" field is empty\n",
    "df = df[df['informace'].astype(bool)]\n",
    "\n",
    "# Save the cleaned data to a new JSON file\n",
    "df.to_json('data/pcr_informace.json', index=False, force_ascii=False, orient='records')\n"
   ]
  },
  {
   "cell_type": "markdown",
   "metadata": {},
   "source": [
    "## Export informace text"
   ]
  },
  {
   "cell_type": "code",
   "execution_count": 47,
   "metadata": {},
   "outputs": [],
   "source": [
    "df = pd.read_json('data/pcr_udeska.json')\n",
    "\n",
    "# Drop rows where the \"informace\" field is empty\n",
    "df = df[df['informace'].astype(bool)]\n",
    "\n",
    "# Extract the required fields and filter by \"Oznámení o nálezu\"\n",
    "filtered_info = []\n",
    "for entry in df['informace']:\n",
    "    for item in entry:\n",
    "        if 'název' in item and 'vyvěšení' in item:\n",
    "            cs_content = item['název'].get('cs', '')\n",
    "            vyeveseni_datum = item['vyvěšení'].get('datum', '')\n",
    "            if \"Oznámení o nálezu\" in cs_content:\n",
    "                filtered_info.append({\n",
    "                    'vyvěšení': vyeveseni_datum,\n",
    "                    'název': cs_content\n",
    "                })\n",
    "\n",
    "filtered_df = pd.DataFrame(filtered_info)\n",
    "\n",
    "filtered_df.to_json('data/pcr_filtered_informace.json', index=False, force_ascii=False, orient='records')\n"
   ]
  },
  {
   "cell_type": "code",
   "execution_count": null,
   "metadata": {},
   "outputs": [],
   "source": [
    "dff = pd.read_json('pcr_filtered_informace.json')\n",
    "\n",
    "print(dff.tail)"
   ]
  }
 ],
 "metadata": {
  "kernelspec": {
   "display_name": "venv",
   "language": "python",
   "name": "python3"
  },
  "language_info": {
   "codemirror_mode": {
    "name": "ipython",
    "version": 3
   },
   "file_extension": ".py",
   "mimetype": "text/x-python",
   "name": "python",
   "nbconvert_exporter": "python",
   "pygments_lexer": "ipython3",
   "version": "3.10.11"
  }
 },
 "nbformat": 4,
 "nbformat_minor": 2
}
