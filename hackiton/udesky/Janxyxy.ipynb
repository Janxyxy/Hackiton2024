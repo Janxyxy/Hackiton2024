{
 "cells": [
  {
   "cell_type": "code",
   "execution_count": 2,
   "metadata": {},
   "outputs": [
    {
     "name": "stdout",
     "output_type": "stream",
     "text": [
      "5.10.4\n",
      "2.2.2\n"
     ]
    }
   ],
   "source": [
    "import pandas as pd\n",
    "import geopandas as gpd\n",
    "import plotly.express as px\n",
    "import plotly.offline as plot\n",
    "import json\n",
    "import nbformat\n",
    "print(nbformat.__version__)\n",
    "print(pd.__version__)"
   ]
  },
  {
   "cell_type": "markdown",
   "metadata": {},
   "source": [
    "## Export informace text as json"
   ]
  },
  {
   "cell_type": "code",
   "execution_count": 31,
   "metadata": {},
   "outputs": [],
   "source": [
    "df = pd.read_json('data/pcr_udeska.json')\n",
    "\n",
    "# Drop rows where the \"informace\" field is empty\n",
    "df = df[df['informace'].astype(bool)]\n",
    "\n",
    "# Extract the required fields and filter by \"Oznámení o nálezu\"\n",
    "filtered_info = []\n",
    "for entry in df['informace']:\n",
    "    for item in entry:\n",
    "        if 'název' in item and 'vyvěšení' in item:\n",
    "            cs_content = item['název'].get('cs', '')\n",
    "            vyeveseni_datum = item['vyvěšení'].get('datum', '')\n",
    "            if \"Oznámení o nálezu\" in cs_content:\n",
    "                filtered_info.append({\n",
    "                    'vyvěšení': vyeveseni_datum,\n",
    "                    'název': cs_content\n",
    "                })\n",
    "\n",
    "filtered_df = pd.DataFrame(filtered_info)\n",
    "\n",
    "#filtered_df.to_json('data/pcr_filtered_informace.json', index=False, force_ascii=False, orient='records')\n"
   ]
  },
  {
   "cell_type": "code",
   "execution_count": 4,
   "metadata": {},
   "outputs": [
    {
     "ename": "ImportError",
     "evalue": "attempted relative import with no known parent package",
     "output_type": "error",
     "traceback": [
      "\u001b[1;31m---------------------------------------------------------------------------\u001b[0m",
      "\u001b[1;31mImportError\u001b[0m                               Traceback (most recent call last)",
      "Cell \u001b[1;32mIn[4], line 1\u001b[0m\n\u001b[1;32m----> 1\u001b[0m \u001b[38;5;28;01mfrom\u001b[39;00m \u001b[38;5;21;01m.\u001b[39;00m\u001b[38;5;21;01mgraph_gen\u001b[39;00m \u001b[38;5;28;01mimport\u001b[39;00m  df_kraje\n\u001b[0;32m      2\u001b[0m \u001b[38;5;28mprint\u001b[39m(df_kraje) \n",
      "\u001b[1;31mImportError\u001b[0m: attempted relative import with no known parent package"
     ]
    }
   ],
   "source": [
    "from .graph_gen import  df_kraje\n",
    "print(df_kraje) \n",
    "\n"
   ]
  }
 ],
 "metadata": {
  "kernelspec": {
   "display_name": "venv",
   "language": "python",
   "name": "python3"
  },
  "language_info": {
   "codemirror_mode": {
    "name": "ipython",
    "version": 3
   },
   "file_extension": ".py",
   "mimetype": "text/x-python",
   "name": "python",
   "nbconvert_exporter": "python",
   "pygments_lexer": "ipython3",
   "version": "3.10.11"
  }
 },
 "nbformat": 4,
 "nbformat_minor": 2
}
