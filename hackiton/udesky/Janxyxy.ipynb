{
 "cells": [
  {
   "cell_type": "code",
   "execution_count": null,
   "metadata": {},
   "outputs": [],
   "source": [
    "import pandas as pd\n",
    "print(pd.__version__)"
   ]
  },
  {
   "cell_type": "code",
   "execution_count": 21,
   "metadata": {},
   "outputs": [
    {
     "name": "stdout",
     "output_type": "stream",
     "text": [
      "6     [VEŘEJNÁ VYHLÁŠKA, oznámení o nálezu střeliva ...\n",
      "13    [VEŘEJNÁ VYHLÁŠKA, oznámení o nálezu zbraně - ...\n",
      "14    [VEŘEJNÁ VYHLÁŠKA - oznámení o nálezu věcí, VE...\n",
      "21    [VEŘEJNÁ VYHLÁŠKA, oznámení o nálezu střeliva ...\n",
      "28    [VEŘEJNÁ VYHLÁŠKA, oznámení o nálezu zbraně - ...\n",
      "29    [VEŘEJNÁ VYHLÁŠKA - oznámení o nálezu věcí, VE...\n",
      "Name: informace, dtype: object\n"
     ]
    }
   ],
   "source": [
    "df = pd.read_json('data/pcr_udeska.json')\n",
    "\n",
    "\n",
    "def extract_nazev_all(informace):\n",
    "    if isinstance(informace, list):\n",
    "        return [item.get('název', {}).get('cs') for item in informace if 'název' in item]\n",
    "    return None\n",
    "\n",
    "filtered_df= df['informace'].apply(extract_nazev_all).dropna()\n",
    "\n",
    "filtred_oz = filtered_df.apply(lambda x: [i for i in x if 'oznámení o nálezu' in i])\n",
    "\n",
    "# Drop any entries that became empty after filtering\n",
    "filtred_oz = filtred_oz[filtred_oz.apply(len) > 0]\n",
    "\n",
    "# Print the filtered results\n",
    "print(filtred_oz)\n",
    "filtred_oz.to_json(\"pcr_oznámení.json\", force_ascii=False)\n"
   ]
  }
 ],
 "metadata": {
  "kernelspec": {
   "display_name": "venv",
   "language": "python",
   "name": "python3"
  },
  "language_info": {
   "codemirror_mode": {
    "name": "ipython",
    "version": 3
   },
   "file_extension": ".py",
   "mimetype": "text/x-python",
   "name": "python",
   "nbconvert_exporter": "python",
   "pygments_lexer": "ipython3",
   "version": "3.10.12"
  }
 },
 "nbformat": 4,
 "nbformat_minor": 2
}
